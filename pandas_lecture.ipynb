{
 "cells": [
  {
   "cell_type": "code",
   "execution_count": 1,
   "id": "f6519a4c",
   "metadata": {},
   "outputs": [
    {
     "name": "stdout",
     "output_type": "stream",
     "text": [
      "Hello World\n"
     ]
    }
   ],
   "source": [
    "print(\"Hello World\")"
   ]
  },
  {
   "cell_type": "markdown",
   "id": "29d28227",
   "metadata": {},
   "source": [
    "# Import modueles"
   ]
  },
  {
   "cell_type": "code",
   "execution_count": 2,
   "id": "1daf7c07",
   "metadata": {},
   "outputs": [],
   "source": [
    "import pandas as pd\n",
    "import numpy as np"
   ]
  },
  {
   "cell_type": "code",
   "execution_count": 3,
   "id": "a8fed613",
   "metadata": {},
   "outputs": [],
   "source": [
    "# Create a simple DataFrame\n",
    "df = pd.DataFrame(\n",
    "    [[1, 2, 3], [4, 5, 6], [7, 8, 9], [10, 11, 12]],\n",
    "    columns=[\"A\", \"B\", \"C\"],\n",
    "    index=[\"x\", \"y\", \"z\", \"zz\"]\n",
    ")"
   ]
  },
  {
   "cell_type": "markdown",
   "id": "f10f371c",
   "metadata": {},
   "source": [
    "# Data frame intro"
   ]
  },
  {
   "cell_type": "markdown",
   "id": "ee202da3",
   "metadata": {},
   "source": [
    "Creating data frame"
   ]
  },
  {
   "cell_type": "code",
   "execution_count": 4,
   "id": "3c6eeb4c",
   "metadata": {},
   "outputs": [
    {
     "data": {
      "application/vnd.microsoft.datawrangler.viewer.v0+json": {
       "columns": [
        {
         "name": "index",
         "rawType": "object",
         "type": "string"
        },
        {
         "name": "A",
         "rawType": "int64",
         "type": "integer"
        },
        {
         "name": "B",
         "rawType": "int64",
         "type": "integer"
        },
        {
         "name": "C",
         "rawType": "int64",
         "type": "integer"
        }
       ],
       "ref": "fa487501-a21c-46ec-a1c3-4bcddf09fe6e",
       "rows": [
        [
         "x",
         "1",
         "2",
         "3"
        ],
        [
         "y",
         "4",
         "5",
         "6"
        ],
        [
         "z",
         "7",
         "8",
         "9"
        ],
        [
         "zz",
         "10",
         "11",
         "12"
        ]
       ],
       "shape": {
        "columns": 3,
        "rows": 4
       }
      },
      "text/html": [
       "<div>\n",
       "<style scoped>\n",
       "    .dataframe tbody tr th:only-of-type {\n",
       "        vertical-align: middle;\n",
       "    }\n",
       "\n",
       "    .dataframe tbody tr th {\n",
       "        vertical-align: top;\n",
       "    }\n",
       "\n",
       "    .dataframe thead th {\n",
       "        text-align: right;\n",
       "    }\n",
       "</style>\n",
       "<table border=\"1\" class=\"dataframe\">\n",
       "  <thead>\n",
       "    <tr style=\"text-align: right;\">\n",
       "      <th></th>\n",
       "      <th>A</th>\n",
       "      <th>B</th>\n",
       "      <th>C</th>\n",
       "    </tr>\n",
       "  </thead>\n",
       "  <tbody>\n",
       "    <tr>\n",
       "      <th>x</th>\n",
       "      <td>1</td>\n",
       "      <td>2</td>\n",
       "      <td>3</td>\n",
       "    </tr>\n",
       "    <tr>\n",
       "      <th>y</th>\n",
       "      <td>4</td>\n",
       "      <td>5</td>\n",
       "      <td>6</td>\n",
       "    </tr>\n",
       "    <tr>\n",
       "      <th>z</th>\n",
       "      <td>7</td>\n",
       "      <td>8</td>\n",
       "      <td>9</td>\n",
       "    </tr>\n",
       "    <tr>\n",
       "      <th>zz</th>\n",
       "      <td>10</td>\n",
       "      <td>11</td>\n",
       "      <td>12</td>\n",
       "    </tr>\n",
       "  </tbody>\n",
       "</table>\n",
       "</div>"
      ],
      "text/plain": [
       "     A   B   C\n",
       "x    1   2   3\n",
       "y    4   5   6\n",
       "z    7   8   9\n",
       "zz  10  11  12"
      ]
     },
     "execution_count": 4,
     "metadata": {},
     "output_type": "execute_result"
    }
   ],
   "source": [
    "df.head()"
   ]
  },
  {
   "cell_type": "code",
   "execution_count": 8,
   "id": "5a94d4c5",
   "metadata": {},
   "outputs": [
    {
     "name": "stdout",
     "output_type": "stream",
     "text": [
      "<class 'pandas.core.frame.DataFrame'>\n",
      "Index: 4 entries, x to zz\n",
      "Data columns (total 3 columns):\n",
      " #   Column  Non-Null Count  Dtype\n",
      "---  ------  --------------  -----\n",
      " 0   A       4 non-null      int64\n",
      " 1   B       4 non-null      int64\n",
      " 2   C       4 non-null      int64\n",
      "dtypes: int64(3)\n",
      "memory usage: 300.0+ bytes\n"
     ]
    }
   ],
   "source": [
    "df.info()"
   ]
  },
  {
   "cell_type": "code",
   "execution_count": 12,
   "id": "6f53c6ce",
   "metadata": {},
   "outputs": [
    {
     "data": {
      "application/vnd.microsoft.datawrangler.viewer.v0+json": {
       "columns": [
        {
         "name": "index",
         "rawType": "object",
         "type": "string"
        },
        {
         "name": "A",
         "rawType": "float64",
         "type": "float"
        },
        {
         "name": "B",
         "rawType": "float64",
         "type": "float"
        },
        {
         "name": "C",
         "rawType": "float64",
         "type": "float"
        }
       ],
       "ref": "17a5c9fb-9d58-4949-9320-8d6836fb0a68",
       "rows": [
        [
         "count",
         "4.0",
         "4.0",
         "4.0"
        ],
        [
         "mean",
         "5.5",
         "6.5",
         "7.5"
        ],
        [
         "std",
         "3.872983346207417",
         "3.872983346207417",
         "3.872983346207417"
        ],
        [
         "min",
         "1.0",
         "2.0",
         "3.0"
        ],
        [
         "25%",
         "3.25",
         "4.25",
         "5.25"
        ],
        [
         "50%",
         "5.5",
         "6.5",
         "7.5"
        ],
        [
         "75%",
         "7.75",
         "8.75",
         "9.75"
        ],
        [
         "max",
         "10.0",
         "11.0",
         "12.0"
        ]
       ],
       "shape": {
        "columns": 3,
        "rows": 8
       }
      },
      "text/html": [
       "<div>\n",
       "<style scoped>\n",
       "    .dataframe tbody tr th:only-of-type {\n",
       "        vertical-align: middle;\n",
       "    }\n",
       "\n",
       "    .dataframe tbody tr th {\n",
       "        vertical-align: top;\n",
       "    }\n",
       "\n",
       "    .dataframe thead th {\n",
       "        text-align: right;\n",
       "    }\n",
       "</style>\n",
       "<table border=\"1\" class=\"dataframe\">\n",
       "  <thead>\n",
       "    <tr style=\"text-align: right;\">\n",
       "      <th></th>\n",
       "      <th>A</th>\n",
       "      <th>B</th>\n",
       "      <th>C</th>\n",
       "    </tr>\n",
       "  </thead>\n",
       "  <tbody>\n",
       "    <tr>\n",
       "      <th>count</th>\n",
       "      <td>4.000000</td>\n",
       "      <td>4.000000</td>\n",
       "      <td>4.000000</td>\n",
       "    </tr>\n",
       "    <tr>\n",
       "      <th>mean</th>\n",
       "      <td>5.500000</td>\n",
       "      <td>6.500000</td>\n",
       "      <td>7.500000</td>\n",
       "    </tr>\n",
       "    <tr>\n",
       "      <th>std</th>\n",
       "      <td>3.872983</td>\n",
       "      <td>3.872983</td>\n",
       "      <td>3.872983</td>\n",
       "    </tr>\n",
       "    <tr>\n",
       "      <th>min</th>\n",
       "      <td>1.000000</td>\n",
       "      <td>2.000000</td>\n",
       "      <td>3.000000</td>\n",
       "    </tr>\n",
       "    <tr>\n",
       "      <th>25%</th>\n",
       "      <td>3.250000</td>\n",
       "      <td>4.250000</td>\n",
       "      <td>5.250000</td>\n",
       "    </tr>\n",
       "    <tr>\n",
       "      <th>50%</th>\n",
       "      <td>5.500000</td>\n",
       "      <td>6.500000</td>\n",
       "      <td>7.500000</td>\n",
       "    </tr>\n",
       "    <tr>\n",
       "      <th>75%</th>\n",
       "      <td>7.750000</td>\n",
       "      <td>8.750000</td>\n",
       "      <td>9.750000</td>\n",
       "    </tr>\n",
       "    <tr>\n",
       "      <th>max</th>\n",
       "      <td>10.000000</td>\n",
       "      <td>11.000000</td>\n",
       "      <td>12.000000</td>\n",
       "    </tr>\n",
       "  </tbody>\n",
       "</table>\n",
       "</div>"
      ],
      "text/plain": [
       "               A          B          C\n",
       "count   4.000000   4.000000   4.000000\n",
       "mean    5.500000   6.500000   7.500000\n",
       "std     3.872983   3.872983   3.872983\n",
       "min     1.000000   2.000000   3.000000\n",
       "25%     3.250000   4.250000   5.250000\n",
       "50%     5.500000   6.500000   7.500000\n",
       "75%     7.750000   8.750000   9.750000\n",
       "max    10.000000  11.000000  12.000000"
      ]
     },
     "execution_count": 12,
     "metadata": {},
     "output_type": "execute_result"
    }
   ],
   "source": [
    "df.describe()"
   ]
  },
  {
   "cell_type": "code",
   "execution_count": 14,
   "id": "0f114d19",
   "metadata": {},
   "outputs": [
    {
     "data": {
      "application/vnd.microsoft.datawrangler.viewer.v0+json": {
       "columns": [
        {
         "name": "index",
         "rawType": "object",
         "type": "string"
        },
        {
         "name": "0",
         "rawType": "int64",
         "type": "integer"
        }
       ],
       "ref": "99c7686d-fce1-485a-9301-b02a8478bbfe",
       "rows": [
        [
         "A",
         "4"
        ],
        [
         "B",
         "4"
        ],
        [
         "C",
         "4"
        ]
       ],
       "shape": {
        "columns": 1,
        "rows": 3
       }
      },
      "text/plain": [
       "A    4\n",
       "B    4\n",
       "C    4\n",
       "dtype: int64"
      ]
     },
     "execution_count": 14,
     "metadata": {},
     "output_type": "execute_result"
    }
   ],
   "source": [
    "df.nunique()"
   ]
  },
  {
   "cell_type": "code",
   "execution_count": 15,
   "id": "7939d5ba",
   "metadata": {},
   "outputs": [
    {
     "data": {
      "text/plain": [
       "(4, 3)"
      ]
     },
     "execution_count": 15,
     "metadata": {},
     "output_type": "execute_result"
    }
   ],
   "source": [
    "df.shape"
   ]
  },
  {
   "cell_type": "code",
   "execution_count": 16,
   "id": "4561b259",
   "metadata": {},
   "outputs": [
    {
     "data": {
      "application/vnd.microsoft.datawrangler.viewer.v0+json": {
       "columns": [
        {
         "name": "index",
         "rawType": "object",
         "type": "string"
        },
        {
         "name": "A",
         "rawType": "int64",
         "type": "integer"
        }
       ],
       "ref": "c90219dd-87b5-469d-8eb8-d00d959e3eae",
       "rows": [
        [
         "x",
         "1"
        ],
        [
         "y",
         "4"
        ],
        [
         "z",
         "7"
        ],
        [
         "zz",
         "10"
        ]
       ],
       "shape": {
        "columns": 1,
        "rows": 4
       }
      },
      "text/plain": [
       "x      1\n",
       "y      4\n",
       "z      7\n",
       "zz    10\n",
       "Name: A, dtype: int64"
      ]
     },
     "execution_count": 16,
     "metadata": {},
     "output_type": "execute_result"
    }
   ],
   "source": [
    "df['A']"
   ]
  },
  {
   "cell_type": "markdown",
   "id": "41a51354",
   "metadata": {},
   "source": [
    "# Loading in dataframes from files"
   ]
  },
  {
   "cell_type": "code",
   "execution_count": 17,
   "id": "f46b4d7a",
   "metadata": {},
   "outputs": [],
   "source": [
    "coffee = pd.read_csv('./warmup-data/coffee.csv')"
   ]
  },
  {
   "cell_type": "code",
   "execution_count": 18,
   "id": "a7296461",
   "metadata": {},
   "outputs": [
    {
     "data": {
      "application/vnd.microsoft.datawrangler.viewer.v0+json": {
       "columns": [
        {
         "name": "index",
         "rawType": "int64",
         "type": "integer"
        },
        {
         "name": "Day",
         "rawType": "object",
         "type": "string"
        },
        {
         "name": "Coffee Type",
         "rawType": "object",
         "type": "string"
        },
        {
         "name": "Units Sold",
         "rawType": "int64",
         "type": "integer"
        }
       ],
       "ref": "8785c1c6-27d2-4017-86e7-b2b7b8df8e06",
       "rows": [
        [
         "0",
         "Monday",
         "Espresso",
         "25"
        ],
        [
         "1",
         "Monday",
         "Latte",
         "15"
        ],
        [
         "2",
         "Tuesday",
         "Espresso",
         "30"
        ],
        [
         "3",
         "Tuesday",
         "Latte",
         "20"
        ],
        [
         "4",
         "Wednesday",
         "Espresso",
         "35"
        ]
       ],
       "shape": {
        "columns": 3,
        "rows": 5
       }
      },
      "text/html": [
       "<div>\n",
       "<style scoped>\n",
       "    .dataframe tbody tr th:only-of-type {\n",
       "        vertical-align: middle;\n",
       "    }\n",
       "\n",
       "    .dataframe tbody tr th {\n",
       "        vertical-align: top;\n",
       "    }\n",
       "\n",
       "    .dataframe thead th {\n",
       "        text-align: right;\n",
       "    }\n",
       "</style>\n",
       "<table border=\"1\" class=\"dataframe\">\n",
       "  <thead>\n",
       "    <tr style=\"text-align: right;\">\n",
       "      <th></th>\n",
       "      <th>Day</th>\n",
       "      <th>Coffee Type</th>\n",
       "      <th>Units Sold</th>\n",
       "    </tr>\n",
       "  </thead>\n",
       "  <tbody>\n",
       "    <tr>\n",
       "      <th>0</th>\n",
       "      <td>Monday</td>\n",
       "      <td>Espresso</td>\n",
       "      <td>25</td>\n",
       "    </tr>\n",
       "    <tr>\n",
       "      <th>1</th>\n",
       "      <td>Monday</td>\n",
       "      <td>Latte</td>\n",
       "      <td>15</td>\n",
       "    </tr>\n",
       "    <tr>\n",
       "      <th>2</th>\n",
       "      <td>Tuesday</td>\n",
       "      <td>Espresso</td>\n",
       "      <td>30</td>\n",
       "    </tr>\n",
       "    <tr>\n",
       "      <th>3</th>\n",
       "      <td>Tuesday</td>\n",
       "      <td>Latte</td>\n",
       "      <td>20</td>\n",
       "    </tr>\n",
       "    <tr>\n",
       "      <th>4</th>\n",
       "      <td>Wednesday</td>\n",
       "      <td>Espresso</td>\n",
       "      <td>35</td>\n",
       "    </tr>\n",
       "  </tbody>\n",
       "</table>\n",
       "</div>"
      ],
      "text/plain": [
       "         Day Coffee Type  Units Sold\n",
       "0     Monday    Espresso          25\n",
       "1     Monday       Latte          15\n",
       "2    Tuesday    Espresso          30\n",
       "3    Tuesday       Latte          20\n",
       "4  Wednesday    Espresso          35"
      ]
     },
     "execution_count": 18,
     "metadata": {},
     "output_type": "execute_result"
    }
   ],
   "source": [
    "coffee.head()"
   ]
  },
  {
   "cell_type": "code",
   "execution_count": 19,
   "id": "da97aa03",
   "metadata": {},
   "outputs": [],
   "source": [
    "results = pd.read_csv('./data/results.csv')"
   ]
  },
  {
   "cell_type": "code",
   "execution_count": 21,
   "id": "fc2be1a5",
   "metadata": {},
   "outputs": [
    {
     "data": {
      "application/vnd.microsoft.datawrangler.viewer.v0+json": {
       "columns": [
        {
         "name": "index",
         "rawType": "int64",
         "type": "integer"
        },
        {
         "name": "year",
         "rawType": "float64",
         "type": "float"
        },
        {
         "name": "type",
         "rawType": "object",
         "type": "string"
        },
        {
         "name": "discipline",
         "rawType": "object",
         "type": "string"
        },
        {
         "name": "event",
         "rawType": "object",
         "type": "string"
        },
        {
         "name": "as",
         "rawType": "object",
         "type": "string"
        },
        {
         "name": "athlete_id",
         "rawType": "int64",
         "type": "integer"
        },
        {
         "name": "noc",
         "rawType": "object",
         "type": "string"
        },
        {
         "name": "team",
         "rawType": "object",
         "type": "unknown"
        },
        {
         "name": "place",
         "rawType": "float64",
         "type": "float"
        },
        {
         "name": "tied",
         "rawType": "bool",
         "type": "boolean"
        },
        {
         "name": "medal",
         "rawType": "object",
         "type": "unknown"
        }
       ],
       "ref": "91dd0e5b-f6e8-47c9-9139-c446e235a69d",
       "rows": [
        [
         "0",
         "1912.0",
         "Summer",
         "Tennis",
         "Singles, Men (Olympic)",
         "Jean-François Blanchy",
         "1",
         "FRA",
         null,
         "17.0",
         "True",
         null
        ],
        [
         "1",
         "1912.0",
         "Summer",
         "Tennis",
         "Doubles, Men (Olympic)",
         "Jean-François Blanchy",
         "1",
         "FRA",
         "Jean Montariol",
         null,
         "False",
         null
        ],
        [
         "2",
         "1920.0",
         "Summer",
         "Tennis",
         "Singles, Men (Olympic)",
         "Jean-François Blanchy",
         "1",
         "FRA",
         null,
         "32.0",
         "True",
         null
        ],
        [
         "3",
         "1920.0",
         "Summer",
         "Tennis",
         "Doubles, Mixed (Olympic)",
         "Jean-François Blanchy",
         "1",
         "FRA",
         "Jeanne Vaussard",
         "8.0",
         "True",
         null
        ],
        [
         "4",
         "1920.0",
         "Summer",
         "Tennis",
         "Doubles, Men (Olympic)",
         "Jean-François Blanchy",
         "1",
         "FRA",
         "Jacques Brugnon",
         "4.0",
         "False",
         null
        ]
       ],
       "shape": {
        "columns": 11,
        "rows": 5
       }
      },
      "text/html": [
       "<div>\n",
       "<style scoped>\n",
       "    .dataframe tbody tr th:only-of-type {\n",
       "        vertical-align: middle;\n",
       "    }\n",
       "\n",
       "    .dataframe tbody tr th {\n",
       "        vertical-align: top;\n",
       "    }\n",
       "\n",
       "    .dataframe thead th {\n",
       "        text-align: right;\n",
       "    }\n",
       "</style>\n",
       "<table border=\"1\" class=\"dataframe\">\n",
       "  <thead>\n",
       "    <tr style=\"text-align: right;\">\n",
       "      <th></th>\n",
       "      <th>year</th>\n",
       "      <th>type</th>\n",
       "      <th>discipline</th>\n",
       "      <th>event</th>\n",
       "      <th>as</th>\n",
       "      <th>athlete_id</th>\n",
       "      <th>noc</th>\n",
       "      <th>team</th>\n",
       "      <th>place</th>\n",
       "      <th>tied</th>\n",
       "      <th>medal</th>\n",
       "    </tr>\n",
       "  </thead>\n",
       "  <tbody>\n",
       "    <tr>\n",
       "      <th>0</th>\n",
       "      <td>1912.0</td>\n",
       "      <td>Summer</td>\n",
       "      <td>Tennis</td>\n",
       "      <td>Singles, Men (Olympic)</td>\n",
       "      <td>Jean-François Blanchy</td>\n",
       "      <td>1</td>\n",
       "      <td>FRA</td>\n",
       "      <td>NaN</td>\n",
       "      <td>17.0</td>\n",
       "      <td>True</td>\n",
       "      <td>NaN</td>\n",
       "    </tr>\n",
       "    <tr>\n",
       "      <th>1</th>\n",
       "      <td>1912.0</td>\n",
       "      <td>Summer</td>\n",
       "      <td>Tennis</td>\n",
       "      <td>Doubles, Men (Olympic)</td>\n",
       "      <td>Jean-François Blanchy</td>\n",
       "      <td>1</td>\n",
       "      <td>FRA</td>\n",
       "      <td>Jean Montariol</td>\n",
       "      <td>NaN</td>\n",
       "      <td>False</td>\n",
       "      <td>NaN</td>\n",
       "    </tr>\n",
       "    <tr>\n",
       "      <th>2</th>\n",
       "      <td>1920.0</td>\n",
       "      <td>Summer</td>\n",
       "      <td>Tennis</td>\n",
       "      <td>Singles, Men (Olympic)</td>\n",
       "      <td>Jean-François Blanchy</td>\n",
       "      <td>1</td>\n",
       "      <td>FRA</td>\n",
       "      <td>NaN</td>\n",
       "      <td>32.0</td>\n",
       "      <td>True</td>\n",
       "      <td>NaN</td>\n",
       "    </tr>\n",
       "    <tr>\n",
       "      <th>3</th>\n",
       "      <td>1920.0</td>\n",
       "      <td>Summer</td>\n",
       "      <td>Tennis</td>\n",
       "      <td>Doubles, Mixed (Olympic)</td>\n",
       "      <td>Jean-François Blanchy</td>\n",
       "      <td>1</td>\n",
       "      <td>FRA</td>\n",
       "      <td>Jeanne Vaussard</td>\n",
       "      <td>8.0</td>\n",
       "      <td>True</td>\n",
       "      <td>NaN</td>\n",
       "    </tr>\n",
       "    <tr>\n",
       "      <th>4</th>\n",
       "      <td>1920.0</td>\n",
       "      <td>Summer</td>\n",
       "      <td>Tennis</td>\n",
       "      <td>Doubles, Men (Olympic)</td>\n",
       "      <td>Jean-François Blanchy</td>\n",
       "      <td>1</td>\n",
       "      <td>FRA</td>\n",
       "      <td>Jacques Brugnon</td>\n",
       "      <td>4.0</td>\n",
       "      <td>False</td>\n",
       "      <td>NaN</td>\n",
       "    </tr>\n",
       "  </tbody>\n",
       "</table>\n",
       "</div>"
      ],
      "text/plain": [
       "     year    type discipline                     event                     as  \\\n",
       "0  1912.0  Summer     Tennis    Singles, Men (Olympic)  Jean-François Blanchy   \n",
       "1  1912.0  Summer     Tennis    Doubles, Men (Olympic)  Jean-François Blanchy   \n",
       "2  1920.0  Summer     Tennis    Singles, Men (Olympic)  Jean-François Blanchy   \n",
       "3  1920.0  Summer     Tennis  Doubles, Mixed (Olympic)  Jean-François Blanchy   \n",
       "4  1920.0  Summer     Tennis    Doubles, Men (Olympic)  Jean-François Blanchy   \n",
       "\n",
       "   athlete_id  noc             team  place   tied medal  \n",
       "0           1  FRA              NaN   17.0   True   NaN  \n",
       "1           1  FRA   Jean Montariol    NaN  False   NaN  \n",
       "2           1  FRA              NaN   32.0   True   NaN  \n",
       "3           1  FRA  Jeanne Vaussard    8.0   True   NaN  \n",
       "4           1  FRA  Jacques Brugnon    4.0  False   NaN  "
      ]
     },
     "execution_count": 21,
     "metadata": {},
     "output_type": "execute_result"
    }
   ],
   "source": [
    "results.head()"
   ]
  },
  {
   "cell_type": "code",
   "execution_count": 20,
   "id": "9370f3d1",
   "metadata": {},
   "outputs": [],
   "source": [
    "# Load data from Excel\n",
    "olympics_data = pd.read_excel('./data/olympics-data.xlsx', sheet_name=\"results\")"
   ]
  },
  {
   "cell_type": "code",
   "execution_count": 22,
   "id": "8a6af3e2",
   "metadata": {},
   "outputs": [
    {
     "data": {
      "application/vnd.microsoft.datawrangler.viewer.v0+json": {
       "columns": [
        {
         "name": "index",
         "rawType": "int64",
         "type": "integer"
        },
        {
         "name": "year",
         "rawType": "float64",
         "type": "float"
        },
        {
         "name": "type",
         "rawType": "object",
         "type": "string"
        },
        {
         "name": "discipline",
         "rawType": "object",
         "type": "string"
        },
        {
         "name": "event",
         "rawType": "object",
         "type": "string"
        },
        {
         "name": "as",
         "rawType": "object",
         "type": "string"
        },
        {
         "name": "athlete_id",
         "rawType": "int64",
         "type": "integer"
        },
        {
         "name": "noc",
         "rawType": "object",
         "type": "string"
        },
        {
         "name": "team",
         "rawType": "object",
         "type": "unknown"
        },
        {
         "name": "place",
         "rawType": "float64",
         "type": "float"
        },
        {
         "name": "tied",
         "rawType": "bool",
         "type": "boolean"
        },
        {
         "name": "medal",
         "rawType": "object",
         "type": "unknown"
        }
       ],
       "ref": "27e5e6ca-9375-466e-a609-6a229d30288e",
       "rows": [
        [
         "0",
         "1912.0",
         "Summer",
         "Tennis",
         "Singles, Men (Olympic)",
         "Jean-François Blanchy",
         "1",
         "FRA",
         null,
         "17.0",
         "True",
         null
        ],
        [
         "1",
         "1912.0",
         "Summer",
         "Tennis",
         "Doubles, Men (Olympic)",
         "Jean-François Blanchy",
         "1",
         "FRA",
         "Jean Montariol",
         null,
         "False",
         null
        ],
        [
         "2",
         "1920.0",
         "Summer",
         "Tennis",
         "Singles, Men (Olympic)",
         "Jean-François Blanchy",
         "1",
         "FRA",
         null,
         "32.0",
         "True",
         null
        ],
        [
         "3",
         "1920.0",
         "Summer",
         "Tennis",
         "Doubles, Mixed (Olympic)",
         "Jean-François Blanchy",
         "1",
         "FRA",
         "Jeanne Vaussard",
         "8.0",
         "True",
         null
        ],
        [
         "4",
         "1920.0",
         "Summer",
         "Tennis",
         "Doubles, Men (Olympic)",
         "Jean-François Blanchy",
         "1",
         "FRA",
         "Jacques Brugnon",
         "4.0",
         "False",
         null
        ]
       ],
       "shape": {
        "columns": 11,
        "rows": 5
       }
      },
      "text/html": [
       "<div>\n",
       "<style scoped>\n",
       "    .dataframe tbody tr th:only-of-type {\n",
       "        vertical-align: middle;\n",
       "    }\n",
       "\n",
       "    .dataframe tbody tr th {\n",
       "        vertical-align: top;\n",
       "    }\n",
       "\n",
       "    .dataframe thead th {\n",
       "        text-align: right;\n",
       "    }\n",
       "</style>\n",
       "<table border=\"1\" class=\"dataframe\">\n",
       "  <thead>\n",
       "    <tr style=\"text-align: right;\">\n",
       "      <th></th>\n",
       "      <th>year</th>\n",
       "      <th>type</th>\n",
       "      <th>discipline</th>\n",
       "      <th>event</th>\n",
       "      <th>as</th>\n",
       "      <th>athlete_id</th>\n",
       "      <th>noc</th>\n",
       "      <th>team</th>\n",
       "      <th>place</th>\n",
       "      <th>tied</th>\n",
       "      <th>medal</th>\n",
       "    </tr>\n",
       "  </thead>\n",
       "  <tbody>\n",
       "    <tr>\n",
       "      <th>0</th>\n",
       "      <td>1912.0</td>\n",
       "      <td>Summer</td>\n",
       "      <td>Tennis</td>\n",
       "      <td>Singles, Men (Olympic)</td>\n",
       "      <td>Jean-François Blanchy</td>\n",
       "      <td>1</td>\n",
       "      <td>FRA</td>\n",
       "      <td>NaN</td>\n",
       "      <td>17.0</td>\n",
       "      <td>True</td>\n",
       "      <td>NaN</td>\n",
       "    </tr>\n",
       "    <tr>\n",
       "      <th>1</th>\n",
       "      <td>1912.0</td>\n",
       "      <td>Summer</td>\n",
       "      <td>Tennis</td>\n",
       "      <td>Doubles, Men (Olympic)</td>\n",
       "      <td>Jean-François Blanchy</td>\n",
       "      <td>1</td>\n",
       "      <td>FRA</td>\n",
       "      <td>Jean Montariol</td>\n",
       "      <td>NaN</td>\n",
       "      <td>False</td>\n",
       "      <td>NaN</td>\n",
       "    </tr>\n",
       "    <tr>\n",
       "      <th>2</th>\n",
       "      <td>1920.0</td>\n",
       "      <td>Summer</td>\n",
       "      <td>Tennis</td>\n",
       "      <td>Singles, Men (Olympic)</td>\n",
       "      <td>Jean-François Blanchy</td>\n",
       "      <td>1</td>\n",
       "      <td>FRA</td>\n",
       "      <td>NaN</td>\n",
       "      <td>32.0</td>\n",
       "      <td>True</td>\n",
       "      <td>NaN</td>\n",
       "    </tr>\n",
       "    <tr>\n",
       "      <th>3</th>\n",
       "      <td>1920.0</td>\n",
       "      <td>Summer</td>\n",
       "      <td>Tennis</td>\n",
       "      <td>Doubles, Mixed (Olympic)</td>\n",
       "      <td>Jean-François Blanchy</td>\n",
       "      <td>1</td>\n",
       "      <td>FRA</td>\n",
       "      <td>Jeanne Vaussard</td>\n",
       "      <td>8.0</td>\n",
       "      <td>True</td>\n",
       "      <td>NaN</td>\n",
       "    </tr>\n",
       "    <tr>\n",
       "      <th>4</th>\n",
       "      <td>1920.0</td>\n",
       "      <td>Summer</td>\n",
       "      <td>Tennis</td>\n",
       "      <td>Doubles, Men (Olympic)</td>\n",
       "      <td>Jean-François Blanchy</td>\n",
       "      <td>1</td>\n",
       "      <td>FRA</td>\n",
       "      <td>Jacques Brugnon</td>\n",
       "      <td>4.0</td>\n",
       "      <td>False</td>\n",
       "      <td>NaN</td>\n",
       "    </tr>\n",
       "  </tbody>\n",
       "</table>\n",
       "</div>"
      ],
      "text/plain": [
       "     year    type discipline                     event                     as  \\\n",
       "0  1912.0  Summer     Tennis    Singles, Men (Olympic)  Jean-François Blanchy   \n",
       "1  1912.0  Summer     Tennis    Doubles, Men (Olympic)  Jean-François Blanchy   \n",
       "2  1920.0  Summer     Tennis    Singles, Men (Olympic)  Jean-François Blanchy   \n",
       "3  1920.0  Summer     Tennis  Doubles, Mixed (Olympic)  Jean-François Blanchy   \n",
       "4  1920.0  Summer     Tennis    Doubles, Men (Olympic)  Jean-François Blanchy   \n",
       "\n",
       "   athlete_id  noc             team  place   tied medal  \n",
       "0           1  FRA              NaN   17.0   True   NaN  \n",
       "1           1  FRA   Jean Montariol    NaN  False   NaN  \n",
       "2           1  FRA              NaN   32.0   True   NaN  \n",
       "3           1  FRA  Jeanne Vaussard    8.0   True   NaN  \n",
       "4           1  FRA  Jacques Brugnon    4.0  False   NaN  "
      ]
     },
     "execution_count": 22,
     "metadata": {},
     "output_type": "execute_result"
    }
   ],
   "source": [
    "olympics_data.head()"
   ]
  },
  {
   "cell_type": "code",
   "execution_count": 23,
   "id": "d2f65d50",
   "metadata": {},
   "outputs": [],
   "source": [
    "bios = pd.read_csv('./data/bios.csv')"
   ]
  },
  {
   "cell_type": "code",
   "execution_count": 24,
   "id": "438d626e",
   "metadata": {},
   "outputs": [
    {
     "data": {
      "application/vnd.microsoft.datawrangler.viewer.v0+json": {
       "columns": [
        {
         "name": "index",
         "rawType": "int64",
         "type": "integer"
        },
        {
         "name": "athlete_id",
         "rawType": "int64",
         "type": "integer"
        },
        {
         "name": "name",
         "rawType": "object",
         "type": "string"
        },
        {
         "name": "born_date",
         "rawType": "object",
         "type": "string"
        },
        {
         "name": "born_city",
         "rawType": "object",
         "type": "string"
        },
        {
         "name": "born_region",
         "rawType": "object",
         "type": "string"
        },
        {
         "name": "born_country",
         "rawType": "object",
         "type": "string"
        },
        {
         "name": "NOC",
         "rawType": "object",
         "type": "string"
        },
        {
         "name": "height_cm",
         "rawType": "float64",
         "type": "float"
        },
        {
         "name": "weight_kg",
         "rawType": "float64",
         "type": "float"
        },
        {
         "name": "died_date",
         "rawType": "object",
         "type": "unknown"
        }
       ],
       "ref": "36ff6b7b-2da9-4f7d-8ae9-09ed8f94ec0d",
       "rows": [
        [
         "0",
         "1",
         "Jean-François Blanchy",
         "1886-12-12",
         "Bordeaux",
         "Gironde",
         "FRA",
         "France",
         null,
         null,
         "1960-10-02"
        ],
        [
         "1",
         "2",
         "Arnaud Boetsch",
         "1969-04-01",
         "Meulan",
         "Yvelines",
         "FRA",
         "France",
         "183.0",
         "76.0",
         null
        ],
        [
         "2",
         "3",
         "Jean Borotra",
         "1898-08-13",
         "Biarritz",
         "Pyrénées-Atlantiques",
         "FRA",
         "France",
         "183.0",
         "76.0",
         "1994-07-17"
        ],
        [
         "3",
         "4",
         "Jacques Brugnon",
         "1895-05-11",
         "Paris VIIIe",
         "Paris",
         "FRA",
         "France",
         "168.0",
         "64.0",
         "1978-03-20"
        ],
        [
         "4",
         "5",
         "Albert Canet",
         "1878-04-17",
         "Wandsworth",
         "England",
         "GBR",
         "France",
         null,
         null,
         "1930-07-25"
        ]
       ],
       "shape": {
        "columns": 10,
        "rows": 5
       }
      },
      "text/html": [
       "<div>\n",
       "<style scoped>\n",
       "    .dataframe tbody tr th:only-of-type {\n",
       "        vertical-align: middle;\n",
       "    }\n",
       "\n",
       "    .dataframe tbody tr th {\n",
       "        vertical-align: top;\n",
       "    }\n",
       "\n",
       "    .dataframe thead th {\n",
       "        text-align: right;\n",
       "    }\n",
       "</style>\n",
       "<table border=\"1\" class=\"dataframe\">\n",
       "  <thead>\n",
       "    <tr style=\"text-align: right;\">\n",
       "      <th></th>\n",
       "      <th>athlete_id</th>\n",
       "      <th>name</th>\n",
       "      <th>born_date</th>\n",
       "      <th>born_city</th>\n",
       "      <th>born_region</th>\n",
       "      <th>born_country</th>\n",
       "      <th>NOC</th>\n",
       "      <th>height_cm</th>\n",
       "      <th>weight_kg</th>\n",
       "      <th>died_date</th>\n",
       "    </tr>\n",
       "  </thead>\n",
       "  <tbody>\n",
       "    <tr>\n",
       "      <th>0</th>\n",
       "      <td>1</td>\n",
       "      <td>Jean-François Blanchy</td>\n",
       "      <td>1886-12-12</td>\n",
       "      <td>Bordeaux</td>\n",
       "      <td>Gironde</td>\n",
       "      <td>FRA</td>\n",
       "      <td>France</td>\n",
       "      <td>NaN</td>\n",
       "      <td>NaN</td>\n",
       "      <td>1960-10-02</td>\n",
       "    </tr>\n",
       "    <tr>\n",
       "      <th>1</th>\n",
       "      <td>2</td>\n",
       "      <td>Arnaud Boetsch</td>\n",
       "      <td>1969-04-01</td>\n",
       "      <td>Meulan</td>\n",
       "      <td>Yvelines</td>\n",
       "      <td>FRA</td>\n",
       "      <td>France</td>\n",
       "      <td>183.0</td>\n",
       "      <td>76.0</td>\n",
       "      <td>NaN</td>\n",
       "    </tr>\n",
       "    <tr>\n",
       "      <th>2</th>\n",
       "      <td>3</td>\n",
       "      <td>Jean Borotra</td>\n",
       "      <td>1898-08-13</td>\n",
       "      <td>Biarritz</td>\n",
       "      <td>Pyrénées-Atlantiques</td>\n",
       "      <td>FRA</td>\n",
       "      <td>France</td>\n",
       "      <td>183.0</td>\n",
       "      <td>76.0</td>\n",
       "      <td>1994-07-17</td>\n",
       "    </tr>\n",
       "    <tr>\n",
       "      <th>3</th>\n",
       "      <td>4</td>\n",
       "      <td>Jacques Brugnon</td>\n",
       "      <td>1895-05-11</td>\n",
       "      <td>Paris VIIIe</td>\n",
       "      <td>Paris</td>\n",
       "      <td>FRA</td>\n",
       "      <td>France</td>\n",
       "      <td>168.0</td>\n",
       "      <td>64.0</td>\n",
       "      <td>1978-03-20</td>\n",
       "    </tr>\n",
       "    <tr>\n",
       "      <th>4</th>\n",
       "      <td>5</td>\n",
       "      <td>Albert Canet</td>\n",
       "      <td>1878-04-17</td>\n",
       "      <td>Wandsworth</td>\n",
       "      <td>England</td>\n",
       "      <td>GBR</td>\n",
       "      <td>France</td>\n",
       "      <td>NaN</td>\n",
       "      <td>NaN</td>\n",
       "      <td>1930-07-25</td>\n",
       "    </tr>\n",
       "  </tbody>\n",
       "</table>\n",
       "</div>"
      ],
      "text/plain": [
       "   athlete_id                   name   born_date    born_city  \\\n",
       "0           1  Jean-François Blanchy  1886-12-12     Bordeaux   \n",
       "1           2         Arnaud Boetsch  1969-04-01       Meulan   \n",
       "2           3           Jean Borotra  1898-08-13     Biarritz   \n",
       "3           4        Jacques Brugnon  1895-05-11  Paris VIIIe   \n",
       "4           5           Albert Canet  1878-04-17   Wandsworth   \n",
       "\n",
       "            born_region born_country     NOC  height_cm  weight_kg   died_date  \n",
       "0               Gironde          FRA  France        NaN        NaN  1960-10-02  \n",
       "1              Yvelines          FRA  France      183.0       76.0         NaN  \n",
       "2  Pyrénées-Atlantiques          FRA  France      183.0       76.0  1994-07-17  \n",
       "3                 Paris          FRA  France      168.0       64.0  1978-03-20  \n",
       "4               England          GBR  France        NaN        NaN  1930-07-25  "
      ]
     },
     "execution_count": 24,
     "metadata": {},
     "output_type": "execute_result"
    }
   ],
   "source": [
    "bios.head()"
   ]
  },
  {
   "cell_type": "markdown",
   "id": "c73e596d",
   "metadata": {},
   "source": [
    "# Assessing data with pandas"
   ]
  },
  {
   "cell_type": "code",
   "execution_count": null,
   "id": "23ad3c5c",
   "metadata": {},
   "outputs": [
    {
     "data": {
      "application/vnd.microsoft.datawrangler.viewer.v0+json": {
       "columns": [
        {
         "name": "index",
         "rawType": "int64",
         "type": "integer"
        },
        {
         "name": "Day",
         "rawType": "object",
         "type": "string"
        },
        {
         "name": "Coffee Type",
         "rawType": "object",
         "type": "string"
        },
        {
         "name": "Units Sold",
         "rawType": "int64",
         "type": "integer"
        }
       ],
       "ref": "c9812298-2e91-4635-8663-18ca1a7a4d40",
       "rows": [
        [
         "0",
         "Monday",
         "Espresso",
         "25"
        ],
        [
         "1",
         "Monday",
         "Latte",
         "15"
        ],
        [
         "2",
         "Tuesday",
         "Espresso",
         "30"
        ],
        [
         "3",
         "Tuesday",
         "Latte",
         "20"
        ]
       ],
       "shape": {
        "columns": 3,
        "rows": 4
       }
      },
      "text/html": [
       "<div>\n",
       "<style scoped>\n",
       "    .dataframe tbody tr th:only-of-type {\n",
       "        vertical-align: middle;\n",
       "    }\n",
       "\n",
       "    .dataframe tbody tr th {\n",
       "        vertical-align: top;\n",
       "    }\n",
       "\n",
       "    .dataframe thead th {\n",
       "        text-align: right;\n",
       "    }\n",
       "</style>\n",
       "<table border=\"1\" class=\"dataframe\">\n",
       "  <thead>\n",
       "    <tr style=\"text-align: right;\">\n",
       "      <th></th>\n",
       "      <th>Day</th>\n",
       "      <th>Coffee Type</th>\n",
       "      <th>Units Sold</th>\n",
       "    </tr>\n",
       "  </thead>\n",
       "  <tbody>\n",
       "    <tr>\n",
       "      <th>0</th>\n",
       "      <td>Monday</td>\n",
       "      <td>Espresso</td>\n",
       "      <td>25</td>\n",
       "    </tr>\n",
       "    <tr>\n",
       "      <th>1</th>\n",
       "      <td>Monday</td>\n",
       "      <td>Latte</td>\n",
       "      <td>15</td>\n",
       "    </tr>\n",
       "    <tr>\n",
       "      <th>2</th>\n",
       "      <td>Tuesday</td>\n",
       "      <td>Espresso</td>\n",
       "      <td>30</td>\n",
       "    </tr>\n",
       "    <tr>\n",
       "      <th>3</th>\n",
       "      <td>Tuesday</td>\n",
       "      <td>Latte</td>\n",
       "      <td>20</td>\n",
       "    </tr>\n",
       "  </tbody>\n",
       "</table>\n",
       "</div>"
      ],
      "text/plain": [
       "       Day Coffee Type  Units Sold\n",
       "0   Monday    Espresso          25\n",
       "1   Monday       Latte          15\n",
       "2  Tuesday    Espresso          30\n",
       "3  Tuesday       Latte          20"
      ]
     },
     "execution_count": 26,
     "metadata": {},
     "output_type": "execute_result"
    }
   ],
   "source": [
    "# first 4 rows\n",
    "coffee.loc[0:3]"
   ]
  },
  {
   "cell_type": "code",
   "execution_count": 33,
   "id": "0567f0fd",
   "metadata": {},
   "outputs": [
    {
     "data": {
      "application/vnd.microsoft.datawrangler.viewer.v0+json": {
       "columns": [
        {
         "name": "index",
         "rawType": "int64",
         "type": "integer"
        },
        {
         "name": "Day",
         "rawType": "object",
         "type": "string"
        },
        {
         "name": "Units Sold",
         "rawType": "int64",
         "type": "integer"
        }
       ],
       "ref": "4ef7e390-c459-4602-8b30-c40f6b4f706a",
       "rows": [
        [
         "0",
         "Monday",
         "25"
        ],
        [
         "1",
         "Monday",
         "15"
        ],
        [
         "2",
         "Tuesday",
         "30"
        ],
        [
         "3",
         "Tuesday",
         "20"
        ],
        [
         "4",
         "Wednesday",
         "35"
        ],
        [
         "5",
         "Wednesday",
         "25"
        ]
       ],
       "shape": {
        "columns": 2,
        "rows": 6
       }
      },
      "text/html": [
       "<div>\n",
       "<style scoped>\n",
       "    .dataframe tbody tr th:only-of-type {\n",
       "        vertical-align: middle;\n",
       "    }\n",
       "\n",
       "    .dataframe tbody tr th {\n",
       "        vertical-align: top;\n",
       "    }\n",
       "\n",
       "    .dataframe thead th {\n",
       "        text-align: right;\n",
       "    }\n",
       "</style>\n",
       "<table border=\"1\" class=\"dataframe\">\n",
       "  <thead>\n",
       "    <tr style=\"text-align: right;\">\n",
       "      <th></th>\n",
       "      <th>Day</th>\n",
       "      <th>Units Sold</th>\n",
       "    </tr>\n",
       "  </thead>\n",
       "  <tbody>\n",
       "    <tr>\n",
       "      <th>0</th>\n",
       "      <td>Monday</td>\n",
       "      <td>25</td>\n",
       "    </tr>\n",
       "    <tr>\n",
       "      <th>1</th>\n",
       "      <td>Monday</td>\n",
       "      <td>15</td>\n",
       "    </tr>\n",
       "    <tr>\n",
       "      <th>2</th>\n",
       "      <td>Tuesday</td>\n",
       "      <td>30</td>\n",
       "    </tr>\n",
       "    <tr>\n",
       "      <th>3</th>\n",
       "      <td>Tuesday</td>\n",
       "      <td>20</td>\n",
       "    </tr>\n",
       "    <tr>\n",
       "      <th>4</th>\n",
       "      <td>Wednesday</td>\n",
       "      <td>35</td>\n",
       "    </tr>\n",
       "    <tr>\n",
       "      <th>5</th>\n",
       "      <td>Wednesday</td>\n",
       "      <td>25</td>\n",
       "    </tr>\n",
       "  </tbody>\n",
       "</table>\n",
       "</div>"
      ],
      "text/plain": [
       "         Day  Units Sold\n",
       "0     Monday          25\n",
       "1     Monday          15\n",
       "2    Tuesday          30\n",
       "3    Tuesday          20\n",
       "4  Wednesday          35\n",
       "5  Wednesday          25"
      ]
     },
     "execution_count": 33,
     "metadata": {},
     "output_type": "execute_result"
    }
   ],
   "source": [
    "# all rows and two specific columns\n",
    "coffee.loc[0:5, ['Day', 'Units Sold']]"
   ]
  },
  {
   "cell_type": "code",
   "execution_count": 32,
   "id": "df3ab0b1",
   "metadata": {},
   "outputs": [
    {
     "data": {
      "application/vnd.microsoft.datawrangler.viewer.v0+json": {
       "columns": [
        {
         "name": "index",
         "rawType": "int64",
         "type": "integer"
        },
        {
         "name": "Day",
         "rawType": "object",
         "type": "string"
        },
        {
         "name": "Units Sold",
         "rawType": "int64",
         "type": "integer"
        }
       ],
       "ref": "b3bc0c5e-8bcc-43dd-81f7-98d96b59098d",
       "rows": [
        [
         "0",
         "Monday",
         "25"
        ],
        [
         "1",
         "Monday",
         "15"
        ],
        [
         "2",
         "Tuesday",
         "30"
        ],
        [
         "3",
         "Tuesday",
         "20"
        ],
        [
         "4",
         "Wednesday",
         "35"
        ]
       ],
       "shape": {
        "columns": 2,
        "rows": 5
       }
      },
      "text/html": [
       "<div>\n",
       "<style scoped>\n",
       "    .dataframe tbody tr th:only-of-type {\n",
       "        vertical-align: middle;\n",
       "    }\n",
       "\n",
       "    .dataframe tbody tr th {\n",
       "        vertical-align: top;\n",
       "    }\n",
       "\n",
       "    .dataframe thead th {\n",
       "        text-align: right;\n",
       "    }\n",
       "</style>\n",
       "<table border=\"1\" class=\"dataframe\">\n",
       "  <thead>\n",
       "    <tr style=\"text-align: right;\">\n",
       "      <th></th>\n",
       "      <th>Day</th>\n",
       "      <th>Units Sold</th>\n",
       "    </tr>\n",
       "  </thead>\n",
       "  <tbody>\n",
       "    <tr>\n",
       "      <th>0</th>\n",
       "      <td>Monday</td>\n",
       "      <td>25</td>\n",
       "    </tr>\n",
       "    <tr>\n",
       "      <th>1</th>\n",
       "      <td>Monday</td>\n",
       "      <td>15</td>\n",
       "    </tr>\n",
       "    <tr>\n",
       "      <th>2</th>\n",
       "      <td>Tuesday</td>\n",
       "      <td>30</td>\n",
       "    </tr>\n",
       "    <tr>\n",
       "      <th>3</th>\n",
       "      <td>Tuesday</td>\n",
       "      <td>20</td>\n",
       "    </tr>\n",
       "    <tr>\n",
       "      <th>4</th>\n",
       "      <td>Wednesday</td>\n",
       "      <td>35</td>\n",
       "    </tr>\n",
       "  </tbody>\n",
       "</table>\n",
       "</div>"
      ],
      "text/plain": [
       "         Day  Units Sold\n",
       "0     Monday          25\n",
       "1     Monday          15\n",
       "2    Tuesday          30\n",
       "3    Tuesday          20\n",
       "4  Wednesday          35"
      ]
     },
     "execution_count": 32,
     "metadata": {},
     "output_type": "execute_result"
    }
   ],
   "source": [
    "coffee.iloc[0:5, [0,2]]"
   ]
  },
  {
   "cell_type": "code",
   "execution_count": 34,
   "id": "4cd09f5c",
   "metadata": {},
   "outputs": [
    {
     "data": {
      "application/vnd.microsoft.datawrangler.viewer.v0+json": {
       "columns": [
        {
         "name": "index",
         "rawType": "int64",
         "type": "integer"
        },
        {
         "name": "Day",
         "rawType": "object",
         "type": "string"
        }
       ],
       "ref": "953f4a67-eaa6-479d-98fe-9a6f5f82ed16",
       "rows": [
        [
         "0",
         "Monday"
        ],
        [
         "1",
         "Monday"
        ],
        [
         "2",
         "Tuesday"
        ],
        [
         "3",
         "Tuesday"
        ],
        [
         "4",
         "Wednesday"
        ],
        [
         "5",
         "Wednesday"
        ],
        [
         "6",
         "Thursday"
        ],
        [
         "7",
         "Thursday"
        ],
        [
         "8",
         "Friday"
        ],
        [
         "9",
         "Friday"
        ],
        [
         "10",
         "Saturday"
        ],
        [
         "11",
         "Saturday"
        ],
        [
         "12",
         "Sunday"
        ],
        [
         "13",
         "Sunday"
        ]
       ],
       "shape": {
        "columns": 1,
        "rows": 14
       }
      },
      "text/plain": [
       "0        Monday\n",
       "1        Monday\n",
       "2       Tuesday\n",
       "3       Tuesday\n",
       "4     Wednesday\n",
       "5     Wednesday\n",
       "6      Thursday\n",
       "7      Thursday\n",
       "8        Friday\n",
       "9        Friday\n",
       "10     Saturday\n",
       "11     Saturday\n",
       "12       Sunday\n",
       "13       Sunday\n",
       "Name: Day, dtype: object"
      ]
     },
     "execution_count": 34,
     "metadata": {},
     "output_type": "execute_result"
    }
   ],
   "source": [
    "# assess the specific column\n",
    "coffee[\"Day\"]"
   ]
  },
  {
   "cell_type": "code",
   "execution_count": 36,
   "id": "95ba3312",
   "metadata": {},
   "outputs": [
    {
     "data": {
      "application/vnd.microsoft.datawrangler.viewer.v0+json": {
       "columns": [
        {
         "name": "index",
         "rawType": "int64",
         "type": "integer"
        },
        {
         "name": "Day",
         "rawType": "object",
         "type": "string"
        },
        {
         "name": "Coffee Type",
         "rawType": "object",
         "type": "string"
        },
        {
         "name": "Units Sold",
         "rawType": "int64",
         "type": "integer"
        }
       ],
       "ref": "4536232b-bf94-4a84-a30c-55ccf6421daa",
       "rows": [
        [
         "8",
         "Friday",
         "Espresso",
         "45"
        ],
        [
         "10",
         "Saturday",
         "Espresso",
         "45"
        ],
        [
         "12",
         "Sunday",
         "Espresso",
         "45"
        ],
        [
         "6",
         "Thursday",
         "Espresso",
         "40"
        ],
        [
         "4",
         "Wednesday",
         "Espresso",
         "35"
        ],
        [
         "9",
         "Friday",
         "Latte",
         "35"
        ],
        [
         "11",
         "Saturday",
         "Latte",
         "35"
        ],
        [
         "13",
         "Sunday",
         "Latte",
         "35"
        ],
        [
         "2",
         "Tuesday",
         "Espresso",
         "30"
        ],
        [
         "7",
         "Thursday",
         "Latte",
         "30"
        ],
        [
         "0",
         "Monday",
         "Espresso",
         "25"
        ],
        [
         "5",
         "Wednesday",
         "Latte",
         "25"
        ],
        [
         "3",
         "Tuesday",
         "Latte",
         "20"
        ],
        [
         "1",
         "Monday",
         "Latte",
         "15"
        ]
       ],
       "shape": {
        "columns": 3,
        "rows": 14
       }
      },
      "text/html": [
       "<div>\n",
       "<style scoped>\n",
       "    .dataframe tbody tr th:only-of-type {\n",
       "        vertical-align: middle;\n",
       "    }\n",
       "\n",
       "    .dataframe tbody tr th {\n",
       "        vertical-align: top;\n",
       "    }\n",
       "\n",
       "    .dataframe thead th {\n",
       "        text-align: right;\n",
       "    }\n",
       "</style>\n",
       "<table border=\"1\" class=\"dataframe\">\n",
       "  <thead>\n",
       "    <tr style=\"text-align: right;\">\n",
       "      <th></th>\n",
       "      <th>Day</th>\n",
       "      <th>Coffee Type</th>\n",
       "      <th>Units Sold</th>\n",
       "    </tr>\n",
       "  </thead>\n",
       "  <tbody>\n",
       "    <tr>\n",
       "      <th>8</th>\n",
       "      <td>Friday</td>\n",
       "      <td>Espresso</td>\n",
       "      <td>45</td>\n",
       "    </tr>\n",
       "    <tr>\n",
       "      <th>10</th>\n",
       "      <td>Saturday</td>\n",
       "      <td>Espresso</td>\n",
       "      <td>45</td>\n",
       "    </tr>\n",
       "    <tr>\n",
       "      <th>12</th>\n",
       "      <td>Sunday</td>\n",
       "      <td>Espresso</td>\n",
       "      <td>45</td>\n",
       "    </tr>\n",
       "    <tr>\n",
       "      <th>6</th>\n",
       "      <td>Thursday</td>\n",
       "      <td>Espresso</td>\n",
       "      <td>40</td>\n",
       "    </tr>\n",
       "    <tr>\n",
       "      <th>4</th>\n",
       "      <td>Wednesday</td>\n",
       "      <td>Espresso</td>\n",
       "      <td>35</td>\n",
       "    </tr>\n",
       "    <tr>\n",
       "      <th>9</th>\n",
       "      <td>Friday</td>\n",
       "      <td>Latte</td>\n",
       "      <td>35</td>\n",
       "    </tr>\n",
       "    <tr>\n",
       "      <th>11</th>\n",
       "      <td>Saturday</td>\n",
       "      <td>Latte</td>\n",
       "      <td>35</td>\n",
       "    </tr>\n",
       "    <tr>\n",
       "      <th>13</th>\n",
       "      <td>Sunday</td>\n",
       "      <td>Latte</td>\n",
       "      <td>35</td>\n",
       "    </tr>\n",
       "    <tr>\n",
       "      <th>2</th>\n",
       "      <td>Tuesday</td>\n",
       "      <td>Espresso</td>\n",
       "      <td>30</td>\n",
       "    </tr>\n",
       "    <tr>\n",
       "      <th>7</th>\n",
       "      <td>Thursday</td>\n",
       "      <td>Latte</td>\n",
       "      <td>30</td>\n",
       "    </tr>\n",
       "    <tr>\n",
       "      <th>0</th>\n",
       "      <td>Monday</td>\n",
       "      <td>Espresso</td>\n",
       "      <td>25</td>\n",
       "    </tr>\n",
       "    <tr>\n",
       "      <th>5</th>\n",
       "      <td>Wednesday</td>\n",
       "      <td>Latte</td>\n",
       "      <td>25</td>\n",
       "    </tr>\n",
       "    <tr>\n",
       "      <th>3</th>\n",
       "      <td>Tuesday</td>\n",
       "      <td>Latte</td>\n",
       "      <td>20</td>\n",
       "    </tr>\n",
       "    <tr>\n",
       "      <th>1</th>\n",
       "      <td>Monday</td>\n",
       "      <td>Latte</td>\n",
       "      <td>15</td>\n",
       "    </tr>\n",
       "  </tbody>\n",
       "</table>\n",
       "</div>"
      ],
      "text/plain": [
       "          Day Coffee Type  Units Sold\n",
       "8      Friday    Espresso          45\n",
       "10   Saturday    Espresso          45\n",
       "12     Sunday    Espresso          45\n",
       "6    Thursday    Espresso          40\n",
       "4   Wednesday    Espresso          35\n",
       "9      Friday       Latte          35\n",
       "11   Saturday       Latte          35\n",
       "13     Sunday       Latte          35\n",
       "2     Tuesday    Espresso          30\n",
       "7    Thursday       Latte          30\n",
       "0      Monday    Espresso          25\n",
       "5   Wednesday       Latte          25\n",
       "3     Tuesday       Latte          20\n",
       "1      Monday       Latte          15"
      ]
     },
     "execution_count": 36,
     "metadata": {},
     "output_type": "execute_result"
    }
   ],
   "source": [
    "coffee.sort_values(\"Units Sold\", ascending=False)"
   ]
  },
  {
   "cell_type": "code",
   "execution_count": 37,
   "id": "97f59b46",
   "metadata": {},
   "outputs": [
    {
     "name": "stdout",
     "output_type": "stream",
     "text": [
      "0\n",
      "25\n",
      "\n",
      "\n",
      "1\n",
      "15\n",
      "\n",
      "\n",
      "2\n",
      "30\n",
      "\n",
      "\n",
      "3\n",
      "20\n",
      "\n",
      "\n",
      "4\n",
      "35\n",
      "\n",
      "\n",
      "5\n",
      "25\n",
      "\n",
      "\n",
      "6\n",
      "40\n",
      "\n",
      "\n",
      "7\n",
      "30\n",
      "\n",
      "\n",
      "8\n",
      "45\n",
      "\n",
      "\n",
      "9\n",
      "35\n",
      "\n",
      "\n",
      "10\n",
      "45\n",
      "\n",
      "\n",
      "11\n",
      "35\n",
      "\n",
      "\n",
      "12\n",
      "45\n",
      "\n",
      "\n",
      "13\n",
      "35\n",
      "\n",
      "\n"
     ]
    }
   ],
   "source": [
    "for index, row in coffee.iterrows():\n",
    "    print(index)\n",
    "    print(row['Units Sold'])\n",
    "    print('\\n')"
   ]
  },
  {
   "cell_type": "markdown",
   "id": "ede9433f",
   "metadata": {},
   "source": [
    "# Filtering data"
   ]
  },
  {
   "cell_type": "code",
   "execution_count": 38,
   "id": "0bcd25e0",
   "metadata": {},
   "outputs": [
    {
     "data": {
      "application/vnd.microsoft.datawrangler.viewer.v0+json": {
       "columns": [
        {
         "name": "index",
         "rawType": "int64",
         "type": "integer"
        },
        {
         "name": "athlete_id",
         "rawType": "int64",
         "type": "integer"
        },
        {
         "name": "name",
         "rawType": "object",
         "type": "string"
        },
        {
         "name": "born_date",
         "rawType": "object",
         "type": "string"
        },
        {
         "name": "born_city",
         "rawType": "object",
         "type": "string"
        },
        {
         "name": "born_region",
         "rawType": "object",
         "type": "string"
        },
        {
         "name": "born_country",
         "rawType": "object",
         "type": "string"
        },
        {
         "name": "NOC",
         "rawType": "object",
         "type": "string"
        },
        {
         "name": "height_cm",
         "rawType": "float64",
         "type": "float"
        },
        {
         "name": "weight_kg",
         "rawType": "float64",
         "type": "float"
        },
        {
         "name": "died_date",
         "rawType": "object",
         "type": "unknown"
        }
       ],
       "ref": "13e6068d-b58f-4230-9796-e7752715e0f4",
       "rows": [
        [
         "0",
         "1",
         "Jean-François Blanchy",
         "1886-12-12",
         "Bordeaux",
         "Gironde",
         "FRA",
         "France",
         null,
         null,
         "1960-10-02"
        ],
        [
         "1",
         "2",
         "Arnaud Boetsch",
         "1969-04-01",
         "Meulan",
         "Yvelines",
         "FRA",
         "France",
         "183.0",
         "76.0",
         null
        ],
        [
         "2",
         "3",
         "Jean Borotra",
         "1898-08-13",
         "Biarritz",
         "Pyrénées-Atlantiques",
         "FRA",
         "France",
         "183.0",
         "76.0",
         "1994-07-17"
        ],
        [
         "3",
         "4",
         "Jacques Brugnon",
         "1895-05-11",
         "Paris VIIIe",
         "Paris",
         "FRA",
         "France",
         "168.0",
         "64.0",
         "1978-03-20"
        ],
        [
         "4",
         "5",
         "Albert Canet",
         "1878-04-17",
         "Wandsworth",
         "England",
         "GBR",
         "France",
         null,
         null,
         "1930-07-25"
        ]
       ],
       "shape": {
        "columns": 10,
        "rows": 5
       }
      },
      "text/html": [
       "<div>\n",
       "<style scoped>\n",
       "    .dataframe tbody tr th:only-of-type {\n",
       "        vertical-align: middle;\n",
       "    }\n",
       "\n",
       "    .dataframe tbody tr th {\n",
       "        vertical-align: top;\n",
       "    }\n",
       "\n",
       "    .dataframe thead th {\n",
       "        text-align: right;\n",
       "    }\n",
       "</style>\n",
       "<table border=\"1\" class=\"dataframe\">\n",
       "  <thead>\n",
       "    <tr style=\"text-align: right;\">\n",
       "      <th></th>\n",
       "      <th>athlete_id</th>\n",
       "      <th>name</th>\n",
       "      <th>born_date</th>\n",
       "      <th>born_city</th>\n",
       "      <th>born_region</th>\n",
       "      <th>born_country</th>\n",
       "      <th>NOC</th>\n",
       "      <th>height_cm</th>\n",
       "      <th>weight_kg</th>\n",
       "      <th>died_date</th>\n",
       "    </tr>\n",
       "  </thead>\n",
       "  <tbody>\n",
       "    <tr>\n",
       "      <th>0</th>\n",
       "      <td>1</td>\n",
       "      <td>Jean-François Blanchy</td>\n",
       "      <td>1886-12-12</td>\n",
       "      <td>Bordeaux</td>\n",
       "      <td>Gironde</td>\n",
       "      <td>FRA</td>\n",
       "      <td>France</td>\n",
       "      <td>NaN</td>\n",
       "      <td>NaN</td>\n",
       "      <td>1960-10-02</td>\n",
       "    </tr>\n",
       "    <tr>\n",
       "      <th>1</th>\n",
       "      <td>2</td>\n",
       "      <td>Arnaud Boetsch</td>\n",
       "      <td>1969-04-01</td>\n",
       "      <td>Meulan</td>\n",
       "      <td>Yvelines</td>\n",
       "      <td>FRA</td>\n",
       "      <td>France</td>\n",
       "      <td>183.0</td>\n",
       "      <td>76.0</td>\n",
       "      <td>NaN</td>\n",
       "    </tr>\n",
       "    <tr>\n",
       "      <th>2</th>\n",
       "      <td>3</td>\n",
       "      <td>Jean Borotra</td>\n",
       "      <td>1898-08-13</td>\n",
       "      <td>Biarritz</td>\n",
       "      <td>Pyrénées-Atlantiques</td>\n",
       "      <td>FRA</td>\n",
       "      <td>France</td>\n",
       "      <td>183.0</td>\n",
       "      <td>76.0</td>\n",
       "      <td>1994-07-17</td>\n",
       "    </tr>\n",
       "    <tr>\n",
       "      <th>3</th>\n",
       "      <td>4</td>\n",
       "      <td>Jacques Brugnon</td>\n",
       "      <td>1895-05-11</td>\n",
       "      <td>Paris VIIIe</td>\n",
       "      <td>Paris</td>\n",
       "      <td>FRA</td>\n",
       "      <td>France</td>\n",
       "      <td>168.0</td>\n",
       "      <td>64.0</td>\n",
       "      <td>1978-03-20</td>\n",
       "    </tr>\n",
       "    <tr>\n",
       "      <th>4</th>\n",
       "      <td>5</td>\n",
       "      <td>Albert Canet</td>\n",
       "      <td>1878-04-17</td>\n",
       "      <td>Wandsworth</td>\n",
       "      <td>England</td>\n",
       "      <td>GBR</td>\n",
       "      <td>France</td>\n",
       "      <td>NaN</td>\n",
       "      <td>NaN</td>\n",
       "      <td>1930-07-25</td>\n",
       "    </tr>\n",
       "  </tbody>\n",
       "</table>\n",
       "</div>"
      ],
      "text/plain": [
       "   athlete_id                   name   born_date    born_city  \\\n",
       "0           1  Jean-François Blanchy  1886-12-12     Bordeaux   \n",
       "1           2         Arnaud Boetsch  1969-04-01       Meulan   \n",
       "2           3           Jean Borotra  1898-08-13     Biarritz   \n",
       "3           4        Jacques Brugnon  1895-05-11  Paris VIIIe   \n",
       "4           5           Albert Canet  1878-04-17   Wandsworth   \n",
       "\n",
       "            born_region born_country     NOC  height_cm  weight_kg   died_date  \n",
       "0               Gironde          FRA  France        NaN        NaN  1960-10-02  \n",
       "1              Yvelines          FRA  France      183.0       76.0         NaN  \n",
       "2  Pyrénées-Atlantiques          FRA  France      183.0       76.0  1994-07-17  \n",
       "3                 Paris          FRA  France      168.0       64.0  1978-03-20  \n",
       "4               England          GBR  France        NaN        NaN  1930-07-25  "
      ]
     },
     "execution_count": 38,
     "metadata": {},
     "output_type": "execute_result"
    }
   ],
   "source": [
    "bios.head()"
   ]
  },
  {
   "cell_type": "code",
   "execution_count": 47,
   "id": "03c7aa10",
   "metadata": {},
   "outputs": [
    {
     "name": "stdout",
     "output_type": "stream",
     "text": [
      "<class 'pandas.core.frame.DataFrame'>\n",
      "RangeIndex: 145500 entries, 0 to 145499\n",
      "Data columns (total 10 columns):\n",
      " #   Column        Non-Null Count   Dtype  \n",
      "---  ------        --------------   -----  \n",
      " 0   athlete_id    145500 non-null  int64  \n",
      " 1   name          145500 non-null  object \n",
      " 2   born_date     143693 non-null  object \n",
      " 3   born_city     110908 non-null  object \n",
      " 4   born_region   110908 non-null  object \n",
      " 5   born_country  110908 non-null  object \n",
      " 6   NOC           145499 non-null  object \n",
      " 7   height_cm     106651 non-null  float64\n",
      " 8   weight_kg     102070 non-null  float64\n",
      " 9   died_date     33940 non-null   object \n",
      "dtypes: float64(2), int64(1), object(7)\n",
      "memory usage: 11.1+ MB\n"
     ]
    }
   ],
   "source": [
    "bios.info()"
   ]
  },
  {
   "cell_type": "code",
   "execution_count": 45,
   "id": "229a21ac",
   "metadata": {},
   "outputs": [
    {
     "data": {
      "application/vnd.microsoft.datawrangler.viewer.v0+json": {
       "columns": [
        {
         "name": "index",
         "rawType": "int64",
         "type": "integer"
        },
        {
         "name": "name",
         "rawType": "object",
         "type": "string"
        },
        {
         "name": "height_cm",
         "rawType": "float64",
         "type": "float"
        }
       ],
       "ref": "836f4527-e759-48ad-8019-5ee054e7e455",
       "rows": [
        [
         "7056",
         "Shan Tao",
         "215.0"
        ],
        [
         "7297",
         "Wang Zhidan",
         "214.0"
        ],
        [
         "7298",
         "Wang Zhizhi",
         "215.0"
        ],
        [
         "89070",
         "Yao Ming",
         "226.0"
        ],
        [
         "107363",
         "Yi Jianlian",
         "213.0"
        ],
        [
         "120266",
         "Zhang Zhaoxu",
         "221.0"
        ],
        [
         "130460",
         "Li Muhao",
         "218.0"
        ],
        [
         "130461",
         "Zhou Qi",
         "217.0"
        ],
        [
         "130465",
         "Wang Zhelin",
         "214.0"
        ]
       ],
       "shape": {
        "columns": 2,
        "rows": 9
       }
      },
      "text/html": [
       "<div>\n",
       "<style scoped>\n",
       "    .dataframe tbody tr th:only-of-type {\n",
       "        vertical-align: middle;\n",
       "    }\n",
       "\n",
       "    .dataframe tbody tr th {\n",
       "        vertical-align: top;\n",
       "    }\n",
       "\n",
       "    .dataframe thead th {\n",
       "        text-align: right;\n",
       "    }\n",
       "</style>\n",
       "<table border=\"1\" class=\"dataframe\">\n",
       "  <thead>\n",
       "    <tr style=\"text-align: right;\">\n",
       "      <th></th>\n",
       "      <th>name</th>\n",
       "      <th>height_cm</th>\n",
       "    </tr>\n",
       "  </thead>\n",
       "  <tbody>\n",
       "    <tr>\n",
       "      <th>7056</th>\n",
       "      <td>Shan Tao</td>\n",
       "      <td>215.0</td>\n",
       "    </tr>\n",
       "    <tr>\n",
       "      <th>7297</th>\n",
       "      <td>Wang Zhidan</td>\n",
       "      <td>214.0</td>\n",
       "    </tr>\n",
       "    <tr>\n",
       "      <th>7298</th>\n",
       "      <td>Wang Zhizhi</td>\n",
       "      <td>215.0</td>\n",
       "    </tr>\n",
       "    <tr>\n",
       "      <th>89070</th>\n",
       "      <td>Yao Ming</td>\n",
       "      <td>226.0</td>\n",
       "    </tr>\n",
       "    <tr>\n",
       "      <th>107363</th>\n",
       "      <td>Yi Jianlian</td>\n",
       "      <td>213.0</td>\n",
       "    </tr>\n",
       "    <tr>\n",
       "      <th>120266</th>\n",
       "      <td>Zhang Zhaoxu</td>\n",
       "      <td>221.0</td>\n",
       "    </tr>\n",
       "    <tr>\n",
       "      <th>130460</th>\n",
       "      <td>Li Muhao</td>\n",
       "      <td>218.0</td>\n",
       "    </tr>\n",
       "    <tr>\n",
       "      <th>130461</th>\n",
       "      <td>Zhou Qi</td>\n",
       "      <td>217.0</td>\n",
       "    </tr>\n",
       "    <tr>\n",
       "      <th>130465</th>\n",
       "      <td>Wang Zhelin</td>\n",
       "      <td>214.0</td>\n",
       "    </tr>\n",
       "  </tbody>\n",
       "</table>\n",
       "</div>"
      ],
      "text/plain": [
       "                name  height_cm\n",
       "7056        Shan Tao      215.0\n",
       "7297     Wang Zhidan      214.0\n",
       "7298     Wang Zhizhi      215.0\n",
       "89070       Yao Ming      226.0\n",
       "107363   Yi Jianlian      213.0\n",
       "120266  Zhang Zhaoxu      221.0\n",
       "130460      Li Muhao      218.0\n",
       "130461       Zhou Qi      217.0\n",
       "130465   Wang Zhelin      214.0"
      ]
     },
     "execution_count": 45,
     "metadata": {},
     "output_type": "execute_result"
    }
   ],
   "source": [
    "bios.loc[(bios['height_cm'] > 210) & (bios['born_country'] == 'CHN'), ['name', 'height_cm']]"
   ]
  },
  {
   "cell_type": "code",
   "execution_count": 49,
   "id": "0a63baaf",
   "metadata": {},
   "outputs": [
    {
     "data": {
      "application/vnd.microsoft.datawrangler.viewer.v0+json": {
       "columns": [
        {
         "name": "index",
         "rawType": "int64",
         "type": "integer"
        },
        {
         "name": "athlete_id",
         "rawType": "int64",
         "type": "integer"
        },
        {
         "name": "name",
         "rawType": "object",
         "type": "string"
        },
        {
         "name": "born_date",
         "rawType": "object",
         "type": "string"
        },
        {
         "name": "born_city",
         "rawType": "object",
         "type": "unknown"
        },
        {
         "name": "born_region",
         "rawType": "object",
         "type": "unknown"
        },
        {
         "name": "born_country",
         "rawType": "object",
         "type": "unknown"
        },
        {
         "name": "NOC",
         "rawType": "object",
         "type": "string"
        },
        {
         "name": "height_cm",
         "rawType": "float64",
         "type": "float"
        },
        {
         "name": "weight_kg",
         "rawType": "float64",
         "type": "float"
        },
        {
         "name": "died_date",
         "rawType": "object",
         "type": "unknown"
        }
       ],
       "ref": "a1ecd8ce-8ef4-4453-a2c2-7768ac0d4a66",
       "rows": [
        [
         "6722",
         "6755",
         "Shaquille O'Neal",
         "1972-03-06",
         "Newark",
         "New Jersey",
         "USA",
         "United States",
         "216.0",
         "137.0",
         null
        ],
        [
         "11357",
         "11417",
         "Cindy Neale-Ishoy",
         "1952-06-19",
         "Edmonton",
         "Alberta",
         "CAN",
         "Canada",
         "159.0",
         "59.0",
         null
        ],
        [
         "12224",
         "12290",
         "Neale Lavis",
         "1930-06-11",
         "Murwillumbah",
         "New South Wales",
         "AUS",
         "Australia",
         "171.0",
         "73.0",
         "2019-10-07"
        ],
        [
         "12670",
         "12739",
         "Neal Shapiro",
         "1945-07-22",
         null,
         null,
         null,
         "United States",
         "175.0",
         "70.0",
         null
        ],
        [
         "22005",
         "22164",
         "Neal Mallett",
         "1957-09-30",
         "Berlin",
         "Berlin",
         "GER",
         "Great Britain",
         "188.0",
         "75.0",
         null
        ],
        [
         "25072",
         "25262",
         "Jack Neale",
         "1917-02-11",
         "London",
         "England",
         "GBR",
         "Great Britain",
         null,
         null,
         "1977-12-16"
        ],
        [
         "28272",
         "28484",
         "Margaret Thomas-Neale",
         "1931-08-22",
         "Cardiff",
         "Wales",
         "GBR",
         "Great Britain",
         "152.0",
         "52.0",
         null
        ],
        [
         "29918",
         "30144",
         "Ian Neale",
         "1954-08-11",
         null,
         null,
         null,
         "Great Britain",
         "180.0",
         "70.0",
         null
        ],
        [
         "42060",
         "42383",
         "George Neal",
         "1894-01-14",
         "Smallburgh",
         "England",
         "GBR",
         "Great Britain",
         null,
         null,
         "1955-10-20"
        ],
        [
         "44289",
         "44629",
         "Neal Caloia",
         "1970-04-09",
         "Cottage Grove",
         "Oregon",
         "USA",
         "United States",
         "185.0",
         "82.0",
         null
        ],
        [
         "44760",
         "45102",
         "Gail Neall",
         "1955-08-02",
         "Sydney",
         "New South Wales",
         "AUS",
         "Australia",
         "163.0",
         "52.0",
         null
        ],
        [
         "58122",
         "58536",
         "Neal Kranz",
         "1966-08-07",
         null,
         null,
         null,
         "Guam",
         "190.0",
         "127.0",
         null
        ],
        [
         "62445",
         "62908",
         "O'Neal Marshall",
         "1971-08-25",
         null,
         null,
         null,
         "Barbados",
         "178.0",
         "87.0",
         null
        ],
        [
         "62491",
         "62955",
         "Neal McDonald",
         "1963-07-22",
         "Brighton",
         "England",
         "GBR",
         "Great Britain",
         "183.0",
         "87.0",
         null
        ],
        [
         "71182",
         "71720",
         "Flora Hyacinth",
         "1966-03-10",
         "Gros Islet",
         "Gros Islet",
         "LCA",
         "United States Virgin Islands",
         "172.0",
         "62.0",
         null
        ],
        [
         "76629",
         "77217",
         "Flora Kazantseva",
         "1929-01-01",
         null,
         null,
         null,
         "Soviet Union",
         null,
         null,
         null
        ],
        [
         "77338",
         "77929",
         "Lacey O'Neal",
         "1944-03-30",
         "Chicago",
         "Illinois",
         "USA",
         "United States",
         "170.0",
         "62.0",
         null
        ],
        [
         "78244",
         "78835",
         "McClinton Neal",
         "1968-07-11",
         "Dallas",
         "Texas",
         "USA",
         "United States",
         "193.0",
         "88.0",
         null
        ],
        [
         "78768",
         "79359",
         "Flora Hofman",
         "1911-11-17",
         "Sarajevo",
         "Kanton Sarajevo",
         "BIH",
         "Yugoslavia",
         "170.0",
         "58.0",
         null
        ],
        [
         "83732",
         "84396",
         "Neal Broten",
         "1959-11-29",
         "Roseau",
         "Minnesota",
         "USA",
         "United States",
         "175.0",
         "70.0",
         null
        ],
        [
         "91430",
         "92159",
         "Neal Marshall",
         "1969-06-13",
         "Victoria",
         "British Columbia",
         "CAN",
         "Canada",
         "182.0",
         "77.0",
         null
        ],
        [
         "91870",
         "92601",
         "Neal Byrne",
         "1976-06-15",
         "Dublin",
         "Dublin",
         "IRL",
         "Ireland",
         "185.0",
         "80.0",
         null
        ],
        [
         "92766",
         "93511",
         "Flora Kong",
         "1984-12-14",
         null,
         null,
         null,
         "Hong Kong, China",
         "160.0",
         "46.0",
         null
        ],
        [
         "94999",
         "95767",
         "Bill Neale",
         "1943-03-09",
         "Fort Erie",
         "Ontario",
         "CAN",
         "Canada",
         null,
         null,
         null
        ],
        [
         "100183",
         "101032",
         "Lars Flora",
         "1978-01-06",
         "Portland",
         "Oregon",
         "USA",
         "United States",
         "180.0",
         "73.0",
         null
        ],
        [
         "104296",
         "105312",
         "Flora Rentoumi",
         "1976-09-11",
         "Athina (Athens)",
         "Attiki",
         "GRE",
         "Greece",
         "168.0",
         "64.0",
         null
        ],
        [
         "112185",
         "113440",
         "Blaine Neal",
         "1978-04-06",
         "Marlton",
         "New Jersey",
         "USA",
         "United States",
         "196.0",
         "114.0",
         null
        ],
        [
         "112681",
         "113964",
         "Teneal Attard",
         "1985-03-16",
         "Mackay",
         "Queensland",
         "AUS",
         "Australia",
         "161.0",
         "59.0",
         null
        ],
        [
         "114885",
         "116209",
         "Flora Duffy",
         "1987-09-30",
         "Paget",
         "Paget",
         "BER",
         "Bermuda",
         "163.0",
         "57.0",
         null
        ],
        [
         "120006",
         "121854",
         "Mark Kenneally",
         "1981-04-18",
         "Dublin",
         "Dublin",
         "IRL",
         "Ireland",
         "192.0",
         "76.0",
         null
        ],
        [
         "123856",
         "126099",
         "Teneale Hatton",
         "1990-01-13",
         "Queenstown",
         "Otago",
         "NZL",
         "New Zealand",
         "167.0",
         "64.0",
         null
        ],
        [
         "124392",
         "126692",
         "Lia Neal",
         "1995-02-13",
         null,
         null,
         null,
         "United States",
         "178.0",
         "75.0",
         null
        ],
        [
         "126687",
         "129065",
         "Leah Neale",
         "1995-08-01",
         "Ipswich",
         "Queensland",
         "AUS",
         "Australia",
         "173.0",
         "66.0",
         null
        ],
        [
         "128726",
         "131290",
         "Brooke Neal",
         "1992-07-04",
         "Whangarei",
         "Northland",
         "NZL",
         "New Zealand",
         "182.0",
         "71.0",
         null
        ],
        [
         "131286",
         "134062",
         "Tim Kneale",
         "1982-10-16",
         "Douglas",
         "Isle of Man",
         "IOM",
         "Great Britain",
         "187.0",
         "85.0",
         null
        ],
        [
         "132371",
         "135229",
         "Fabian Florant",
         "1983-02-01",
         "Mahaut",
         "Saint Paul",
         "DMA",
         "Netherlands",
         "180.0",
         "74.0",
         null
        ],
        [
         "132506",
         "135381",
         "Shay Neal",
         "1990-06-04",
         "Whangarei",
         "Northland",
         "NZL",
         "New Zealand",
         "176.0",
         "75.0",
         null
        ],
        [
         "139726",
         "143204",
         "Neal Skupski",
         "1989-12-01",
         "Liverpool",
         "England",
         "GBR",
         "Great Britain",
         null,
         null,
         null
        ],
        [
         "144637",
         "148332",
         "Flora Dolci",
         "1999-10-09",
         "Briançon",
         "Hautes-Alpes",
         "FRA",
         "France",
         "159.0",
         "54.0",
         null
        ]
       ],
       "shape": {
        "columns": 10,
        "rows": 39
       }
      },
      "text/html": [
       "<div>\n",
       "<style scoped>\n",
       "    .dataframe tbody tr th:only-of-type {\n",
       "        vertical-align: middle;\n",
       "    }\n",
       "\n",
       "    .dataframe tbody tr th {\n",
       "        vertical-align: top;\n",
       "    }\n",
       "\n",
       "    .dataframe thead th {\n",
       "        text-align: right;\n",
       "    }\n",
       "</style>\n",
       "<table border=\"1\" class=\"dataframe\">\n",
       "  <thead>\n",
       "    <tr style=\"text-align: right;\">\n",
       "      <th></th>\n",
       "      <th>athlete_id</th>\n",
       "      <th>name</th>\n",
       "      <th>born_date</th>\n",
       "      <th>born_city</th>\n",
       "      <th>born_region</th>\n",
       "      <th>born_country</th>\n",
       "      <th>NOC</th>\n",
       "      <th>height_cm</th>\n",
       "      <th>weight_kg</th>\n",
       "      <th>died_date</th>\n",
       "    </tr>\n",
       "  </thead>\n",
       "  <tbody>\n",
       "    <tr>\n",
       "      <th>6722</th>\n",
       "      <td>6755</td>\n",
       "      <td>Shaquille O'Neal</td>\n",
       "      <td>1972-03-06</td>\n",
       "      <td>Newark</td>\n",
       "      <td>New Jersey</td>\n",
       "      <td>USA</td>\n",
       "      <td>United States</td>\n",
       "      <td>216.0</td>\n",
       "      <td>137.0</td>\n",
       "      <td>NaN</td>\n",
       "    </tr>\n",
       "    <tr>\n",
       "      <th>11357</th>\n",
       "      <td>11417</td>\n",
       "      <td>Cindy Neale-Ishoy</td>\n",
       "      <td>1952-06-19</td>\n",
       "      <td>Edmonton</td>\n",
       "      <td>Alberta</td>\n",
       "      <td>CAN</td>\n",
       "      <td>Canada</td>\n",
       "      <td>159.0</td>\n",
       "      <td>59.0</td>\n",
       "      <td>NaN</td>\n",
       "    </tr>\n",
       "    <tr>\n",
       "      <th>12224</th>\n",
       "      <td>12290</td>\n",
       "      <td>Neale Lavis</td>\n",
       "      <td>1930-06-11</td>\n",
       "      <td>Murwillumbah</td>\n",
       "      <td>New South Wales</td>\n",
       "      <td>AUS</td>\n",
       "      <td>Australia</td>\n",
       "      <td>171.0</td>\n",
       "      <td>73.0</td>\n",
       "      <td>2019-10-07</td>\n",
       "    </tr>\n",
       "    <tr>\n",
       "      <th>12670</th>\n",
       "      <td>12739</td>\n",
       "      <td>Neal Shapiro</td>\n",
       "      <td>1945-07-22</td>\n",
       "      <td>NaN</td>\n",
       "      <td>NaN</td>\n",
       "      <td>NaN</td>\n",
       "      <td>United States</td>\n",
       "      <td>175.0</td>\n",
       "      <td>70.0</td>\n",
       "      <td>NaN</td>\n",
       "    </tr>\n",
       "    <tr>\n",
       "      <th>22005</th>\n",
       "      <td>22164</td>\n",
       "      <td>Neal Mallett</td>\n",
       "      <td>1957-09-30</td>\n",
       "      <td>Berlin</td>\n",
       "      <td>Berlin</td>\n",
       "      <td>GER</td>\n",
       "      <td>Great Britain</td>\n",
       "      <td>188.0</td>\n",
       "      <td>75.0</td>\n",
       "      <td>NaN</td>\n",
       "    </tr>\n",
       "    <tr>\n",
       "      <th>25072</th>\n",
       "      <td>25262</td>\n",
       "      <td>Jack Neale</td>\n",
       "      <td>1917-02-11</td>\n",
       "      <td>London</td>\n",
       "      <td>England</td>\n",
       "      <td>GBR</td>\n",
       "      <td>Great Britain</td>\n",
       "      <td>NaN</td>\n",
       "      <td>NaN</td>\n",
       "      <td>1977-12-16</td>\n",
       "    </tr>\n",
       "    <tr>\n",
       "      <th>28272</th>\n",
       "      <td>28484</td>\n",
       "      <td>Margaret Thomas-Neale</td>\n",
       "      <td>1931-08-22</td>\n",
       "      <td>Cardiff</td>\n",
       "      <td>Wales</td>\n",
       "      <td>GBR</td>\n",
       "      <td>Great Britain</td>\n",
       "      <td>152.0</td>\n",
       "      <td>52.0</td>\n",
       "      <td>NaN</td>\n",
       "    </tr>\n",
       "    <tr>\n",
       "      <th>29918</th>\n",
       "      <td>30144</td>\n",
       "      <td>Ian Neale</td>\n",
       "      <td>1954-08-11</td>\n",
       "      <td>NaN</td>\n",
       "      <td>NaN</td>\n",
       "      <td>NaN</td>\n",
       "      <td>Great Britain</td>\n",
       "      <td>180.0</td>\n",
       "      <td>70.0</td>\n",
       "      <td>NaN</td>\n",
       "    </tr>\n",
       "    <tr>\n",
       "      <th>42060</th>\n",
       "      <td>42383</td>\n",
       "      <td>George Neal</td>\n",
       "      <td>1894-01-14</td>\n",
       "      <td>Smallburgh</td>\n",
       "      <td>England</td>\n",
       "      <td>GBR</td>\n",
       "      <td>Great Britain</td>\n",
       "      <td>NaN</td>\n",
       "      <td>NaN</td>\n",
       "      <td>1955-10-20</td>\n",
       "    </tr>\n",
       "    <tr>\n",
       "      <th>44289</th>\n",
       "      <td>44629</td>\n",
       "      <td>Neal Caloia</td>\n",
       "      <td>1970-04-09</td>\n",
       "      <td>Cottage Grove</td>\n",
       "      <td>Oregon</td>\n",
       "      <td>USA</td>\n",
       "      <td>United States</td>\n",
       "      <td>185.0</td>\n",
       "      <td>82.0</td>\n",
       "      <td>NaN</td>\n",
       "    </tr>\n",
       "    <tr>\n",
       "      <th>44760</th>\n",
       "      <td>45102</td>\n",
       "      <td>Gail Neall</td>\n",
       "      <td>1955-08-02</td>\n",
       "      <td>Sydney</td>\n",
       "      <td>New South Wales</td>\n",
       "      <td>AUS</td>\n",
       "      <td>Australia</td>\n",
       "      <td>163.0</td>\n",
       "      <td>52.0</td>\n",
       "      <td>NaN</td>\n",
       "    </tr>\n",
       "    <tr>\n",
       "      <th>58122</th>\n",
       "      <td>58536</td>\n",
       "      <td>Neal Kranz</td>\n",
       "      <td>1966-08-07</td>\n",
       "      <td>NaN</td>\n",
       "      <td>NaN</td>\n",
       "      <td>NaN</td>\n",
       "      <td>Guam</td>\n",
       "      <td>190.0</td>\n",
       "      <td>127.0</td>\n",
       "      <td>NaN</td>\n",
       "    </tr>\n",
       "    <tr>\n",
       "      <th>62445</th>\n",
       "      <td>62908</td>\n",
       "      <td>O'Neal Marshall</td>\n",
       "      <td>1971-08-25</td>\n",
       "      <td>NaN</td>\n",
       "      <td>NaN</td>\n",
       "      <td>NaN</td>\n",
       "      <td>Barbados</td>\n",
       "      <td>178.0</td>\n",
       "      <td>87.0</td>\n",
       "      <td>NaN</td>\n",
       "    </tr>\n",
       "    <tr>\n",
       "      <th>62491</th>\n",
       "      <td>62955</td>\n",
       "      <td>Neal McDonald</td>\n",
       "      <td>1963-07-22</td>\n",
       "      <td>Brighton</td>\n",
       "      <td>England</td>\n",
       "      <td>GBR</td>\n",
       "      <td>Great Britain</td>\n",
       "      <td>183.0</td>\n",
       "      <td>87.0</td>\n",
       "      <td>NaN</td>\n",
       "    </tr>\n",
       "    <tr>\n",
       "      <th>71182</th>\n",
       "      <td>71720</td>\n",
       "      <td>Flora Hyacinth</td>\n",
       "      <td>1966-03-10</td>\n",
       "      <td>Gros Islet</td>\n",
       "      <td>Gros Islet</td>\n",
       "      <td>LCA</td>\n",
       "      <td>United States Virgin Islands</td>\n",
       "      <td>172.0</td>\n",
       "      <td>62.0</td>\n",
       "      <td>NaN</td>\n",
       "    </tr>\n",
       "    <tr>\n",
       "      <th>76629</th>\n",
       "      <td>77217</td>\n",
       "      <td>Flora Kazantseva</td>\n",
       "      <td>1929-01-01</td>\n",
       "      <td>NaN</td>\n",
       "      <td>NaN</td>\n",
       "      <td>NaN</td>\n",
       "      <td>Soviet Union</td>\n",
       "      <td>NaN</td>\n",
       "      <td>NaN</td>\n",
       "      <td>NaN</td>\n",
       "    </tr>\n",
       "    <tr>\n",
       "      <th>77338</th>\n",
       "      <td>77929</td>\n",
       "      <td>Lacey O'Neal</td>\n",
       "      <td>1944-03-30</td>\n",
       "      <td>Chicago</td>\n",
       "      <td>Illinois</td>\n",
       "      <td>USA</td>\n",
       "      <td>United States</td>\n",
       "      <td>170.0</td>\n",
       "      <td>62.0</td>\n",
       "      <td>NaN</td>\n",
       "    </tr>\n",
       "    <tr>\n",
       "      <th>78244</th>\n",
       "      <td>78835</td>\n",
       "      <td>McClinton Neal</td>\n",
       "      <td>1968-07-11</td>\n",
       "      <td>Dallas</td>\n",
       "      <td>Texas</td>\n",
       "      <td>USA</td>\n",
       "      <td>United States</td>\n",
       "      <td>193.0</td>\n",
       "      <td>88.0</td>\n",
       "      <td>NaN</td>\n",
       "    </tr>\n",
       "    <tr>\n",
       "      <th>78768</th>\n",
       "      <td>79359</td>\n",
       "      <td>Flora Hofman</td>\n",
       "      <td>1911-11-17</td>\n",
       "      <td>Sarajevo</td>\n",
       "      <td>Kanton Sarajevo</td>\n",
       "      <td>BIH</td>\n",
       "      <td>Yugoslavia</td>\n",
       "      <td>170.0</td>\n",
       "      <td>58.0</td>\n",
       "      <td>NaN</td>\n",
       "    </tr>\n",
       "    <tr>\n",
       "      <th>83732</th>\n",
       "      <td>84396</td>\n",
       "      <td>Neal Broten</td>\n",
       "      <td>1959-11-29</td>\n",
       "      <td>Roseau</td>\n",
       "      <td>Minnesota</td>\n",
       "      <td>USA</td>\n",
       "      <td>United States</td>\n",
       "      <td>175.0</td>\n",
       "      <td>70.0</td>\n",
       "      <td>NaN</td>\n",
       "    </tr>\n",
       "    <tr>\n",
       "      <th>91430</th>\n",
       "      <td>92159</td>\n",
       "      <td>Neal Marshall</td>\n",
       "      <td>1969-06-13</td>\n",
       "      <td>Victoria</td>\n",
       "      <td>British Columbia</td>\n",
       "      <td>CAN</td>\n",
       "      <td>Canada</td>\n",
       "      <td>182.0</td>\n",
       "      <td>77.0</td>\n",
       "      <td>NaN</td>\n",
       "    </tr>\n",
       "    <tr>\n",
       "      <th>91870</th>\n",
       "      <td>92601</td>\n",
       "      <td>Neal Byrne</td>\n",
       "      <td>1976-06-15</td>\n",
       "      <td>Dublin</td>\n",
       "      <td>Dublin</td>\n",
       "      <td>IRL</td>\n",
       "      <td>Ireland</td>\n",
       "      <td>185.0</td>\n",
       "      <td>80.0</td>\n",
       "      <td>NaN</td>\n",
       "    </tr>\n",
       "    <tr>\n",
       "      <th>92766</th>\n",
       "      <td>93511</td>\n",
       "      <td>Flora Kong</td>\n",
       "      <td>1984-12-14</td>\n",
       "      <td>NaN</td>\n",
       "      <td>NaN</td>\n",
       "      <td>NaN</td>\n",
       "      <td>Hong Kong, China</td>\n",
       "      <td>160.0</td>\n",
       "      <td>46.0</td>\n",
       "      <td>NaN</td>\n",
       "    </tr>\n",
       "    <tr>\n",
       "      <th>94999</th>\n",
       "      <td>95767</td>\n",
       "      <td>Bill Neale</td>\n",
       "      <td>1943-03-09</td>\n",
       "      <td>Fort Erie</td>\n",
       "      <td>Ontario</td>\n",
       "      <td>CAN</td>\n",
       "      <td>Canada</td>\n",
       "      <td>NaN</td>\n",
       "      <td>NaN</td>\n",
       "      <td>NaN</td>\n",
       "    </tr>\n",
       "    <tr>\n",
       "      <th>100183</th>\n",
       "      <td>101032</td>\n",
       "      <td>Lars Flora</td>\n",
       "      <td>1978-01-06</td>\n",
       "      <td>Portland</td>\n",
       "      <td>Oregon</td>\n",
       "      <td>USA</td>\n",
       "      <td>United States</td>\n",
       "      <td>180.0</td>\n",
       "      <td>73.0</td>\n",
       "      <td>NaN</td>\n",
       "    </tr>\n",
       "    <tr>\n",
       "      <th>104296</th>\n",
       "      <td>105312</td>\n",
       "      <td>Flora Rentoumi</td>\n",
       "      <td>1976-09-11</td>\n",
       "      <td>Athina (Athens)</td>\n",
       "      <td>Attiki</td>\n",
       "      <td>GRE</td>\n",
       "      <td>Greece</td>\n",
       "      <td>168.0</td>\n",
       "      <td>64.0</td>\n",
       "      <td>NaN</td>\n",
       "    </tr>\n",
       "    <tr>\n",
       "      <th>112185</th>\n",
       "      <td>113440</td>\n",
       "      <td>Blaine Neal</td>\n",
       "      <td>1978-04-06</td>\n",
       "      <td>Marlton</td>\n",
       "      <td>New Jersey</td>\n",
       "      <td>USA</td>\n",
       "      <td>United States</td>\n",
       "      <td>196.0</td>\n",
       "      <td>114.0</td>\n",
       "      <td>NaN</td>\n",
       "    </tr>\n",
       "    <tr>\n",
       "      <th>112681</th>\n",
       "      <td>113964</td>\n",
       "      <td>Teneal Attard</td>\n",
       "      <td>1985-03-16</td>\n",
       "      <td>Mackay</td>\n",
       "      <td>Queensland</td>\n",
       "      <td>AUS</td>\n",
       "      <td>Australia</td>\n",
       "      <td>161.0</td>\n",
       "      <td>59.0</td>\n",
       "      <td>NaN</td>\n",
       "    </tr>\n",
       "    <tr>\n",
       "      <th>114885</th>\n",
       "      <td>116209</td>\n",
       "      <td>Flora Duffy</td>\n",
       "      <td>1987-09-30</td>\n",
       "      <td>Paget</td>\n",
       "      <td>Paget</td>\n",
       "      <td>BER</td>\n",
       "      <td>Bermuda</td>\n",
       "      <td>163.0</td>\n",
       "      <td>57.0</td>\n",
       "      <td>NaN</td>\n",
       "    </tr>\n",
       "    <tr>\n",
       "      <th>120006</th>\n",
       "      <td>121854</td>\n",
       "      <td>Mark Kenneally</td>\n",
       "      <td>1981-04-18</td>\n",
       "      <td>Dublin</td>\n",
       "      <td>Dublin</td>\n",
       "      <td>IRL</td>\n",
       "      <td>Ireland</td>\n",
       "      <td>192.0</td>\n",
       "      <td>76.0</td>\n",
       "      <td>NaN</td>\n",
       "    </tr>\n",
       "    <tr>\n",
       "      <th>123856</th>\n",
       "      <td>126099</td>\n",
       "      <td>Teneale Hatton</td>\n",
       "      <td>1990-01-13</td>\n",
       "      <td>Queenstown</td>\n",
       "      <td>Otago</td>\n",
       "      <td>NZL</td>\n",
       "      <td>New Zealand</td>\n",
       "      <td>167.0</td>\n",
       "      <td>64.0</td>\n",
       "      <td>NaN</td>\n",
       "    </tr>\n",
       "    <tr>\n",
       "      <th>124392</th>\n",
       "      <td>126692</td>\n",
       "      <td>Lia Neal</td>\n",
       "      <td>1995-02-13</td>\n",
       "      <td>NaN</td>\n",
       "      <td>NaN</td>\n",
       "      <td>NaN</td>\n",
       "      <td>United States</td>\n",
       "      <td>178.0</td>\n",
       "      <td>75.0</td>\n",
       "      <td>NaN</td>\n",
       "    </tr>\n",
       "    <tr>\n",
       "      <th>126687</th>\n",
       "      <td>129065</td>\n",
       "      <td>Leah Neale</td>\n",
       "      <td>1995-08-01</td>\n",
       "      <td>Ipswich</td>\n",
       "      <td>Queensland</td>\n",
       "      <td>AUS</td>\n",
       "      <td>Australia</td>\n",
       "      <td>173.0</td>\n",
       "      <td>66.0</td>\n",
       "      <td>NaN</td>\n",
       "    </tr>\n",
       "    <tr>\n",
       "      <th>128726</th>\n",
       "      <td>131290</td>\n",
       "      <td>Brooke Neal</td>\n",
       "      <td>1992-07-04</td>\n",
       "      <td>Whangarei</td>\n",
       "      <td>Northland</td>\n",
       "      <td>NZL</td>\n",
       "      <td>New Zealand</td>\n",
       "      <td>182.0</td>\n",
       "      <td>71.0</td>\n",
       "      <td>NaN</td>\n",
       "    </tr>\n",
       "    <tr>\n",
       "      <th>131286</th>\n",
       "      <td>134062</td>\n",
       "      <td>Tim Kneale</td>\n",
       "      <td>1982-10-16</td>\n",
       "      <td>Douglas</td>\n",
       "      <td>Isle of Man</td>\n",
       "      <td>IOM</td>\n",
       "      <td>Great Britain</td>\n",
       "      <td>187.0</td>\n",
       "      <td>85.0</td>\n",
       "      <td>NaN</td>\n",
       "    </tr>\n",
       "    <tr>\n",
       "      <th>132371</th>\n",
       "      <td>135229</td>\n",
       "      <td>Fabian Florant</td>\n",
       "      <td>1983-02-01</td>\n",
       "      <td>Mahaut</td>\n",
       "      <td>Saint Paul</td>\n",
       "      <td>DMA</td>\n",
       "      <td>Netherlands</td>\n",
       "      <td>180.0</td>\n",
       "      <td>74.0</td>\n",
       "      <td>NaN</td>\n",
       "    </tr>\n",
       "    <tr>\n",
       "      <th>132506</th>\n",
       "      <td>135381</td>\n",
       "      <td>Shay Neal</td>\n",
       "      <td>1990-06-04</td>\n",
       "      <td>Whangarei</td>\n",
       "      <td>Northland</td>\n",
       "      <td>NZL</td>\n",
       "      <td>New Zealand</td>\n",
       "      <td>176.0</td>\n",
       "      <td>75.0</td>\n",
       "      <td>NaN</td>\n",
       "    </tr>\n",
       "    <tr>\n",
       "      <th>139726</th>\n",
       "      <td>143204</td>\n",
       "      <td>Neal Skupski</td>\n",
       "      <td>1989-12-01</td>\n",
       "      <td>Liverpool</td>\n",
       "      <td>England</td>\n",
       "      <td>GBR</td>\n",
       "      <td>Great Britain</td>\n",
       "      <td>NaN</td>\n",
       "      <td>NaN</td>\n",
       "      <td>NaN</td>\n",
       "    </tr>\n",
       "    <tr>\n",
       "      <th>144637</th>\n",
       "      <td>148332</td>\n",
       "      <td>Flora Dolci</td>\n",
       "      <td>1999-10-09</td>\n",
       "      <td>Briançon</td>\n",
       "      <td>Hautes-Alpes</td>\n",
       "      <td>FRA</td>\n",
       "      <td>France</td>\n",
       "      <td>159.0</td>\n",
       "      <td>54.0</td>\n",
       "      <td>NaN</td>\n",
       "    </tr>\n",
       "  </tbody>\n",
       "</table>\n",
       "</div>"
      ],
      "text/plain": [
       "        athlete_id                   name   born_date        born_city  \\\n",
       "6722          6755       Shaquille O'Neal  1972-03-06           Newark   \n",
       "11357        11417      Cindy Neale-Ishoy  1952-06-19         Edmonton   \n",
       "12224        12290            Neale Lavis  1930-06-11     Murwillumbah   \n",
       "12670        12739           Neal Shapiro  1945-07-22              NaN   \n",
       "22005        22164           Neal Mallett  1957-09-30           Berlin   \n",
       "25072        25262             Jack Neale  1917-02-11           London   \n",
       "28272        28484  Margaret Thomas-Neale  1931-08-22          Cardiff   \n",
       "29918        30144              Ian Neale  1954-08-11              NaN   \n",
       "42060        42383            George Neal  1894-01-14       Smallburgh   \n",
       "44289        44629            Neal Caloia  1970-04-09    Cottage Grove   \n",
       "44760        45102             Gail Neall  1955-08-02           Sydney   \n",
       "58122        58536             Neal Kranz  1966-08-07              NaN   \n",
       "62445        62908        O'Neal Marshall  1971-08-25              NaN   \n",
       "62491        62955          Neal McDonald  1963-07-22         Brighton   \n",
       "71182        71720         Flora Hyacinth  1966-03-10       Gros Islet   \n",
       "76629        77217       Flora Kazantseva  1929-01-01              NaN   \n",
       "77338        77929           Lacey O'Neal  1944-03-30          Chicago   \n",
       "78244        78835         McClinton Neal  1968-07-11           Dallas   \n",
       "78768        79359           Flora Hofman  1911-11-17         Sarajevo   \n",
       "83732        84396            Neal Broten  1959-11-29           Roseau   \n",
       "91430        92159          Neal Marshall  1969-06-13         Victoria   \n",
       "91870        92601             Neal Byrne  1976-06-15           Dublin   \n",
       "92766        93511             Flora Kong  1984-12-14              NaN   \n",
       "94999        95767             Bill Neale  1943-03-09        Fort Erie   \n",
       "100183      101032             Lars Flora  1978-01-06         Portland   \n",
       "104296      105312         Flora Rentoumi  1976-09-11  Athina (Athens)   \n",
       "112185      113440            Blaine Neal  1978-04-06          Marlton   \n",
       "112681      113964          Teneal Attard  1985-03-16           Mackay   \n",
       "114885      116209            Flora Duffy  1987-09-30            Paget   \n",
       "120006      121854         Mark Kenneally  1981-04-18           Dublin   \n",
       "123856      126099         Teneale Hatton  1990-01-13       Queenstown   \n",
       "124392      126692               Lia Neal  1995-02-13              NaN   \n",
       "126687      129065             Leah Neale  1995-08-01          Ipswich   \n",
       "128726      131290            Brooke Neal  1992-07-04        Whangarei   \n",
       "131286      134062             Tim Kneale  1982-10-16          Douglas   \n",
       "132371      135229         Fabian Florant  1983-02-01           Mahaut   \n",
       "132506      135381              Shay Neal  1990-06-04        Whangarei   \n",
       "139726      143204           Neal Skupski  1989-12-01        Liverpool   \n",
       "144637      148332            Flora Dolci  1999-10-09         Briançon   \n",
       "\n",
       "             born_region born_country                           NOC  \\\n",
       "6722          New Jersey          USA                 United States   \n",
       "11357            Alberta          CAN                        Canada   \n",
       "12224    New South Wales          AUS                     Australia   \n",
       "12670                NaN          NaN                 United States   \n",
       "22005             Berlin          GER                 Great Britain   \n",
       "25072            England          GBR                 Great Britain   \n",
       "28272              Wales          GBR                 Great Britain   \n",
       "29918                NaN          NaN                 Great Britain   \n",
       "42060            England          GBR                 Great Britain   \n",
       "44289             Oregon          USA                 United States   \n",
       "44760    New South Wales          AUS                     Australia   \n",
       "58122                NaN          NaN                          Guam   \n",
       "62445                NaN          NaN                      Barbados   \n",
       "62491            England          GBR                 Great Britain   \n",
       "71182         Gros Islet          LCA  United States Virgin Islands   \n",
       "76629                NaN          NaN                  Soviet Union   \n",
       "77338           Illinois          USA                 United States   \n",
       "78244              Texas          USA                 United States   \n",
       "78768    Kanton Sarajevo          BIH                    Yugoslavia   \n",
       "83732          Minnesota          USA                 United States   \n",
       "91430   British Columbia          CAN                        Canada   \n",
       "91870             Dublin          IRL                       Ireland   \n",
       "92766                NaN          NaN              Hong Kong, China   \n",
       "94999            Ontario          CAN                        Canada   \n",
       "100183            Oregon          USA                 United States   \n",
       "104296            Attiki          GRE                        Greece   \n",
       "112185        New Jersey          USA                 United States   \n",
       "112681        Queensland          AUS                     Australia   \n",
       "114885             Paget          BER                       Bermuda   \n",
       "120006            Dublin          IRL                       Ireland   \n",
       "123856             Otago          NZL                   New Zealand   \n",
       "124392               NaN          NaN                 United States   \n",
       "126687        Queensland          AUS                     Australia   \n",
       "128726         Northland          NZL                   New Zealand   \n",
       "131286       Isle of Man          IOM                 Great Britain   \n",
       "132371        Saint Paul          DMA                   Netherlands   \n",
       "132506         Northland          NZL                   New Zealand   \n",
       "139726           England          GBR                 Great Britain   \n",
       "144637      Hautes-Alpes          FRA                        France   \n",
       "\n",
       "        height_cm  weight_kg   died_date  \n",
       "6722        216.0      137.0         NaN  \n",
       "11357       159.0       59.0         NaN  \n",
       "12224       171.0       73.0  2019-10-07  \n",
       "12670       175.0       70.0         NaN  \n",
       "22005       188.0       75.0         NaN  \n",
       "25072         NaN        NaN  1977-12-16  \n",
       "28272       152.0       52.0         NaN  \n",
       "29918       180.0       70.0         NaN  \n",
       "42060         NaN        NaN  1955-10-20  \n",
       "44289       185.0       82.0         NaN  \n",
       "44760       163.0       52.0         NaN  \n",
       "58122       190.0      127.0         NaN  \n",
       "62445       178.0       87.0         NaN  \n",
       "62491       183.0       87.0         NaN  \n",
       "71182       172.0       62.0         NaN  \n",
       "76629         NaN        NaN         NaN  \n",
       "77338       170.0       62.0         NaN  \n",
       "78244       193.0       88.0         NaN  \n",
       "78768       170.0       58.0         NaN  \n",
       "83732       175.0       70.0         NaN  \n",
       "91430       182.0       77.0         NaN  \n",
       "91870       185.0       80.0         NaN  \n",
       "92766       160.0       46.0         NaN  \n",
       "94999         NaN        NaN         NaN  \n",
       "100183      180.0       73.0         NaN  \n",
       "104296      168.0       64.0         NaN  \n",
       "112185      196.0      114.0         NaN  \n",
       "112681      161.0       59.0         NaN  \n",
       "114885      163.0       57.0         NaN  \n",
       "120006      192.0       76.0         NaN  \n",
       "123856      167.0       64.0         NaN  \n",
       "124392      178.0       75.0         NaN  \n",
       "126687      173.0       66.0         NaN  \n",
       "128726      182.0       71.0         NaN  \n",
       "131286      187.0       85.0         NaN  \n",
       "132371      180.0       74.0         NaN  \n",
       "132506      176.0       75.0         NaN  \n",
       "139726        NaN        NaN         NaN  \n",
       "144637      159.0       54.0         NaN  "
      ]
     },
     "execution_count": 49,
     "metadata": {},
     "output_type": "execute_result"
    }
   ],
   "source": [
    "bios[bios['name'].str.contains(r'Neal|Flora', case=False)]"
   ]
  },
  {
   "cell_type": "code",
   "execution_count": 50,
   "id": "f3bafba2",
   "metadata": {},
   "outputs": [
    {
     "data": {
      "application/vnd.microsoft.datawrangler.viewer.v0+json": {
       "columns": [
        {
         "name": "index",
         "rawType": "int64",
         "type": "integer"
        },
        {
         "name": "athlete_id",
         "rawType": "int64",
         "type": "integer"
        },
        {
         "name": "name",
         "rawType": "object",
         "type": "string"
        },
        {
         "name": "born_date",
         "rawType": "object",
         "type": "string"
        },
        {
         "name": "born_city",
         "rawType": "object",
         "type": "string"
        },
        {
         "name": "born_region",
         "rawType": "object",
         "type": "string"
        },
        {
         "name": "born_country",
         "rawType": "object",
         "type": "string"
        },
        {
         "name": "NOC",
         "rawType": "object",
         "type": "string"
        },
        {
         "name": "height_cm",
         "rawType": "float64",
         "type": "float"
        },
        {
         "name": "weight_kg",
         "rawType": "float64",
         "type": "float"
        },
        {
         "name": "died_date",
         "rawType": "object",
         "type": "unknown"
        }
       ],
       "ref": "ed96c92d-6912-4cac-90dd-5fe999d4a576",
       "rows": [
        [
         "54",
         "55",
         "Monique Javer",
         "1967-07-22",
         "Burlingame",
         "California",
         "USA",
         "Great Britain",
         "177.0",
         "64.0",
         null
        ],
        [
         "83",
         "84",
         "Xinhua Chen",
         "1960-01-30",
         "Fuan",
         "Fujian",
         "CHN",
         "Great Britain",
         "175.0",
         "71.0",
         null
        ],
        [
         "133",
         "134",
         "Jie Schöpp",
         "1968-01-25",
         "Baoding",
         "Hebei",
         "CHN",
         "Germany",
         "174.0",
         "63.0",
         null
        ],
        [
         "381",
         "382",
         "He Ying",
         "1977-04-17",
         "Siping",
         "Jilin",
         "CHN",
         "People's Republic of China",
         "170.0",
         "68.0",
         null
        ],
        [
         "383",
         "384",
         "Ma Xiangjun",
         "1964-10-30",
         "Qingdao",
         "Shandong",
         "CHN",
         "People's Republic of China",
         "171.0",
         "65.0",
         null
        ],
        [
         "389",
         "390",
         "Yang Jianping",
         "1979-12-10",
         "Taiyuan",
         "Shanxi",
         "CHN",
         "People's Republic of China",
         "171.0",
         "75.0",
         null
        ],
        [
         "609",
         "611",
         "Ying Kwok",
         "1966-04-24",
         "Guangzhou (Canton)",
         "Guangdong",
         "CHN",
         "Australia",
         null,
         null,
         null
        ],
        [
         "618",
         "620",
         "Song Yang",
         "1965-05-12",
         "Nanjing",
         "Jiangsu",
         "CHN",
         "Australia",
         "170.0",
         "62.0",
         null
        ],
        [
         "619",
         "621",
         "Shirley Zhou",
         "1978-03-10",
         "Beijing",
         "Beijing",
         "CHN",
         "Australia",
         "170.0",
         "56.0",
         null
        ],
        [
         "646",
         "649",
         "Ding Yi",
         "1959-01-14",
         "Shanghai",
         "Shanghai",
         "CHN",
         "Austria",
         "166.0",
         "68.0",
         null
        ],
        [
         "653",
         "656",
         "Qian Qianli",
         "1965-02-07",
         "Qidong",
         "Jiangsu",
         "CHN",
         "Austria",
         "168.0",
         "65.0",
         null
        ],
        [
         "728",
         "732",
         "Barbara Chiu",
         "1964-07-14",
         "Guangzhou (Canton)",
         "Guangdong",
         "CHN",
         "Canada",
         "158.0",
         "54.0",
         null
        ],
        [
         "729",
         "733",
         "Si-An Deng",
         "1963-06-25",
         "Shanghai",
         "Shanghai",
         "CHN",
         "Canada",
         "163.0",
         "53.0",
         null
        ],
        [
         "774",
         "778",
         "Chen Jing",
         "1968-09-20",
         "Wuhan",
         "Hubei",
         "CHN",
         "Chinese Taipei People's Republic of China",
         "170.0",
         "60.0",
         null
        ],
        [
         "775",
         "779",
         "Chen Zihe",
         "1968-02-29",
         "Minqing",
         "Fujian",
         "CHN",
         "People's Republic of China",
         "166.0",
         "58.0",
         null
        ],
        [
         "776",
         "780",
         "Chen Li",
         "1971-03-13",
         "Xiangtan",
         "Hunan",
         "CHN",
         "People's Republic of China",
         "165.0",
         "60.0",
         null
        ],
        [
         "777",
         "781",
         "Deng Yaping",
         "1973-02-06",
         "Zhengzhou",
         "Henan",
         "CHN",
         "People's Republic of China",
         "150.0",
         "53.0",
         null
        ],
        [
         "778",
         "782",
         "Ge Fei",
         "1975-10-09",
         "Nantong",
         "Jiangsu",
         "CHN",
         "People's Republic of China",
         "171.0",
         "58.0",
         null
        ],
        [
         "779",
         "783",
         "Jun Gao",
         "1969-01-25",
         "Baoding",
         "Hebei",
         "CHN",
         "People's Republic of China United States",
         "168.0",
         "73.0",
         null
        ],
        [
         "780",
         "784",
         "Gu Jun",
         "1975-01-03",
         "Wuxi",
         "Jiangsu",
         "CHN",
         "People's Republic of China",
         "165.0",
         "62.0",
         null
        ],
        [
         "781",
         "785",
         "Guan Weizhen",
         "1964-06-15",
         "Guangzhou (Canton)",
         "Guangdong",
         "CHN",
         "People's Republic of China",
         "172.0",
         "70.0",
         null
        ],
        [
         "782",
         "786",
         "Huang Hua",
         "1969-11-16",
         "Hechi",
         "Guangxi",
         "CHN",
         "People's Republic of China",
         "171.0",
         "61.0",
         null
        ],
        [
         "839",
         "843",
         "Chire Koyama",
         "1964-09-30",
         "Shanghai",
         "Shanghai",
         "CHN",
         "Japan",
         "168.0",
         "60.0",
         null
        ],
        [
         "960",
         "964",
         "Xóchitl Escobedo",
         "1968-09-17",
         "West Covina",
         "California",
         "USA",
         "Mexico",
         "170.0",
         "60.0",
         null
        ],
        [
         "961",
         "965",
         "Angélica Gavaldón",
         "1973-10-03",
         "El Centro",
         "California",
         "USA",
         "Mexico",
         "160.0",
         "54.0",
         null
        ],
        [
         "1036",
         "1043",
         "Chunli Li",
         "1962-02-28",
         "Guiping",
         "Guangxi",
         "CHN",
         "New Zealand",
         "158.0",
         "58.0",
         null
        ],
        [
         "1231",
         "1238",
         "Bert Schneider",
         "1897-07-01",
         "Cleveland",
         "Ohio",
         "USA",
         "Canada",
         null,
         null,
         "1986-02-20"
        ],
        [
         "1280",
         "1287",
         "Bai Chongguang",
         "1970-08-15",
         "Harbin",
         "Heilongjiang",
         "CHN",
         "People's Republic of China",
         "184.0",
         "83.0",
         null
        ],
        [
         "1288",
         "1295",
         "Wang Runlan",
         "1913-05-28",
         "Liuchu",
         "Hebei",
         "CHN",
         "People's Republic of China",
         "180.0",
         "80.0",
         "1937-09-21"
        ],
        [
         "1345",
         "1352",
         "Laura Berg",
         "1975-01-06",
         "Santa Fe Springs",
         "California",
         "USA",
         "United States",
         "168.0",
         "61.0",
         null
        ],
        [
         "1346",
         "1353",
         "Gillian Boxx",
         "1973-09-01",
         "Fontana",
         "California",
         "USA",
         "United States",
         "170.0",
         null,
         null
        ],
        [
         "1349",
         "1356",
         "Chen Hong",
         "1970-02-28",
         "Beijing",
         "Beijing",
         "CHN",
         "People's Republic of China",
         "172.0",
         "70.0",
         null
        ],
        [
         "1356",
         "1363",
         "Sheila Cornell-Douty",
         "1962-02-26",
         "Encino",
         "California",
         "USA",
         "United States",
         "175.0",
         "81.0",
         null
        ],
        [
         "1365",
         "1372",
         "Lisa Fernandez",
         "1971-02-22",
         "Long Beach",
         "California",
         "USA",
         "United States",
         "167.0",
         "77.0",
         null
        ],
        [
         "1371",
         "1378",
         "Michele Granger",
         "1970-01-15",
         "Placentia",
         "California",
         "USA",
         "United States",
         "180.0",
         null,
         null
        ],
        [
         "1375",
         "1382",
         "Lori Harrigan",
         "1970-09-05",
         "Anaheim",
         "California",
         "USA",
         "United States",
         "182.0",
         "99.0",
         null
        ],
        [
         "1376",
         "1383",
         "Dionna Harris",
         "1968-03-04",
         "Wilmington",
         "Delaware",
         "USA",
         "United States",
         "160.0",
         null,
         null
        ],
        [
         "1390",
         "1397",
         "Liu Xuqing",
         "1968-08-15",
         "Shanghai",
         "Shanghai",
         "CHN",
         "People's Republic of China",
         "166.0",
         "60.0",
         null
        ],
        [
         "1391",
         "1398",
         "Liu Yaju",
         "1972-04-25",
         "Tianjin",
         "Tianjin",
         "CHN",
         "People's Republic of China",
         "172.0",
         "68.0",
         null
        ],
        [
         "1394",
         "1401",
         "Ma Ying",
         "1972-04-10",
         "Qiqihar",
         "Heilongjiang",
         "CHN",
         "People's Republic of China",
         "176.0",
         "75.0",
         null
        ],
        [
         "1408",
         "1415",
         "Leah O'Brien-Amico",
         "1974-09-09",
         "Garden Grove",
         "California",
         "USA",
         "United States",
         "175.0",
         "65.0",
         null
        ],
        [
         "1411",
         "1418",
         "Ou Jingbai",
         "1971-06-02",
         "Beijing",
         "Beijing",
         "CHN",
         "People's Republic of China",
         "174.0",
         "70.0",
         null
        ],
        [
         "1419",
         "1426",
         "Dot Richardson",
         "1961-09-22",
         "Orlando",
         "Florida",
         "USA",
         "United States",
         "175.0",
         "60.0",
         null
        ],
        [
         "1426",
         "1433",
         "Julie Smith",
         "1968-05-10",
         "Glendora",
         "California",
         "USA",
         "United States",
         "162.0",
         null,
         null
        ],
        [
         "1427",
         "1434",
         "Michele Smith",
         "1967-06-21",
         "Plainfield",
         "New Jersey",
         "USA",
         "United States",
         "177.0",
         "70.0",
         null
        ],
        [
         "1433",
         "1440",
         "Shelly Stokes",
         "1967-10-26",
         "Sacramento",
         "California",
         "USA",
         "United States",
         "165.0",
         null,
         null
        ],
        [
         "1435",
         "1442",
         "Tao Hua",
         "1972-12-12",
         "Shanghai",
         "Shanghai",
         "CHN",
         "People's Republic of China",
         "170.0",
         "66.0",
         null
        ],
        [
         "1444",
         "1451",
         "Wang Lihong",
         "1970-11-22",
         "Dunhua",
         "Jilin",
         "CHN",
         "People's Republic of China",
         "168.0",
         "63.0",
         null
        ],
        [
         "1445",
         "1452",
         "Wang Ying",
         "1968-12-31",
         "Beijing",
         "Beijing",
         "CHN",
         "People's Republic of China",
         "172.0",
         "63.0",
         null
        ],
        [
         "1450",
         "1457",
         "Wei Qiang",
         "1972-04-25",
         "Beijing",
         "Beijing",
         "CHN",
         "People's Republic of China",
         "170.0",
         "65.0",
         null
        ]
       ],
       "shape": {
        "columns": 10,
        "rows": 11666
       }
      },
      "text/html": [
       "<div>\n",
       "<style scoped>\n",
       "    .dataframe tbody tr th:only-of-type {\n",
       "        vertical-align: middle;\n",
       "    }\n",
       "\n",
       "    .dataframe tbody tr th {\n",
       "        vertical-align: top;\n",
       "    }\n",
       "\n",
       "    .dataframe thead th {\n",
       "        text-align: right;\n",
       "    }\n",
       "</style>\n",
       "<table border=\"1\" class=\"dataframe\">\n",
       "  <thead>\n",
       "    <tr style=\"text-align: right;\">\n",
       "      <th></th>\n",
       "      <th>athlete_id</th>\n",
       "      <th>name</th>\n",
       "      <th>born_date</th>\n",
       "      <th>born_city</th>\n",
       "      <th>born_region</th>\n",
       "      <th>born_country</th>\n",
       "      <th>NOC</th>\n",
       "      <th>height_cm</th>\n",
       "      <th>weight_kg</th>\n",
       "      <th>died_date</th>\n",
       "    </tr>\n",
       "  </thead>\n",
       "  <tbody>\n",
       "    <tr>\n",
       "      <th>54</th>\n",
       "      <td>55</td>\n",
       "      <td>Monique Javer</td>\n",
       "      <td>1967-07-22</td>\n",
       "      <td>Burlingame</td>\n",
       "      <td>California</td>\n",
       "      <td>USA</td>\n",
       "      <td>Great Britain</td>\n",
       "      <td>177.0</td>\n",
       "      <td>64.0</td>\n",
       "      <td>NaN</td>\n",
       "    </tr>\n",
       "    <tr>\n",
       "      <th>83</th>\n",
       "      <td>84</td>\n",
       "      <td>Xinhua Chen</td>\n",
       "      <td>1960-01-30</td>\n",
       "      <td>Fuan</td>\n",
       "      <td>Fujian</td>\n",
       "      <td>CHN</td>\n",
       "      <td>Great Britain</td>\n",
       "      <td>175.0</td>\n",
       "      <td>71.0</td>\n",
       "      <td>NaN</td>\n",
       "    </tr>\n",
       "    <tr>\n",
       "      <th>133</th>\n",
       "      <td>134</td>\n",
       "      <td>Jie Schöpp</td>\n",
       "      <td>1968-01-25</td>\n",
       "      <td>Baoding</td>\n",
       "      <td>Hebei</td>\n",
       "      <td>CHN</td>\n",
       "      <td>Germany</td>\n",
       "      <td>174.0</td>\n",
       "      <td>63.0</td>\n",
       "      <td>NaN</td>\n",
       "    </tr>\n",
       "    <tr>\n",
       "      <th>381</th>\n",
       "      <td>382</td>\n",
       "      <td>He Ying</td>\n",
       "      <td>1977-04-17</td>\n",
       "      <td>Siping</td>\n",
       "      <td>Jilin</td>\n",
       "      <td>CHN</td>\n",
       "      <td>People's Republic of China</td>\n",
       "      <td>170.0</td>\n",
       "      <td>68.0</td>\n",
       "      <td>NaN</td>\n",
       "    </tr>\n",
       "    <tr>\n",
       "      <th>383</th>\n",
       "      <td>384</td>\n",
       "      <td>Ma Xiangjun</td>\n",
       "      <td>1964-10-30</td>\n",
       "      <td>Qingdao</td>\n",
       "      <td>Shandong</td>\n",
       "      <td>CHN</td>\n",
       "      <td>People's Republic of China</td>\n",
       "      <td>171.0</td>\n",
       "      <td>65.0</td>\n",
       "      <td>NaN</td>\n",
       "    </tr>\n",
       "    <tr>\n",
       "      <th>...</th>\n",
       "      <td>...</td>\n",
       "      <td>...</td>\n",
       "      <td>...</td>\n",
       "      <td>...</td>\n",
       "      <td>...</td>\n",
       "      <td>...</td>\n",
       "      <td>...</td>\n",
       "      <td>...</td>\n",
       "      <td>...</td>\n",
       "      <td>...</td>\n",
       "    </tr>\n",
       "    <tr>\n",
       "      <th>145446</th>\n",
       "      <td>149169</td>\n",
       "      <td>Corinne Stoddard</td>\n",
       "      <td>2001-08-15</td>\n",
       "      <td>Seattle</td>\n",
       "      <td>Washington</td>\n",
       "      <td>USA</td>\n",
       "      <td>United States</td>\n",
       "      <td>NaN</td>\n",
       "      <td>NaN</td>\n",
       "      <td>NaN</td>\n",
       "    </tr>\n",
       "    <tr>\n",
       "      <th>145454</th>\n",
       "      <td>149180</td>\n",
       "      <td>Anna Hoffmann</td>\n",
       "      <td>2000-03-28</td>\n",
       "      <td>Madison</td>\n",
       "      <td>Wisconsin</td>\n",
       "      <td>USA</td>\n",
       "      <td>United States</td>\n",
       "      <td>NaN</td>\n",
       "      <td>NaN</td>\n",
       "      <td>NaN</td>\n",
       "    </tr>\n",
       "    <tr>\n",
       "      <th>145457</th>\n",
       "      <td>149183</td>\n",
       "      <td>Alix Wilkinson</td>\n",
       "      <td>2000-08-02</td>\n",
       "      <td>Mammoth Lakes</td>\n",
       "      <td>California</td>\n",
       "      <td>USA</td>\n",
       "      <td>United States</td>\n",
       "      <td>NaN</td>\n",
       "      <td>NaN</td>\n",
       "      <td>NaN</td>\n",
       "    </tr>\n",
       "    <tr>\n",
       "      <th>145468</th>\n",
       "      <td>149195</td>\n",
       "      <td>Justin Abdelkader</td>\n",
       "      <td>1987-02-25</td>\n",
       "      <td>Muskegon</td>\n",
       "      <td>Michigan</td>\n",
       "      <td>USA</td>\n",
       "      <td>United States</td>\n",
       "      <td>187.0</td>\n",
       "      <td>97.0</td>\n",
       "      <td>NaN</td>\n",
       "    </tr>\n",
       "    <tr>\n",
       "      <th>145482</th>\n",
       "      <td>149209</td>\n",
       "      <td>Jiang Dongxu</td>\n",
       "      <td>1993-03-03</td>\n",
       "      <td>Harbin</td>\n",
       "      <td>Heilongjiang</td>\n",
       "      <td>CHN</td>\n",
       "      <td>People's Republic of China</td>\n",
       "      <td>NaN</td>\n",
       "      <td>NaN</td>\n",
       "      <td>NaN</td>\n",
       "    </tr>\n",
       "  </tbody>\n",
       "</table>\n",
       "<p>11666 rows × 10 columns</p>\n",
       "</div>"
      ],
      "text/plain": [
       "        athlete_id               name   born_date      born_city  \\\n",
       "54              55      Monique Javer  1967-07-22     Burlingame   \n",
       "83              84        Xinhua Chen  1960-01-30           Fuan   \n",
       "133            134         Jie Schöpp  1968-01-25        Baoding   \n",
       "381            382            He Ying  1977-04-17         Siping   \n",
       "383            384        Ma Xiangjun  1964-10-30        Qingdao   \n",
       "...            ...                ...         ...            ...   \n",
       "145446      149169   Corinne Stoddard  2001-08-15        Seattle   \n",
       "145454      149180      Anna Hoffmann  2000-03-28        Madison   \n",
       "145457      149183     Alix Wilkinson  2000-08-02  Mammoth Lakes   \n",
       "145468      149195  Justin Abdelkader  1987-02-25       Muskegon   \n",
       "145482      149209       Jiang Dongxu  1993-03-03         Harbin   \n",
       "\n",
       "         born_region born_country                         NOC  height_cm  \\\n",
       "54        California          USA               Great Britain      177.0   \n",
       "83            Fujian          CHN               Great Britain      175.0   \n",
       "133            Hebei          CHN                     Germany      174.0   \n",
       "381            Jilin          CHN  People's Republic of China      170.0   \n",
       "383         Shandong          CHN  People's Republic of China      171.0   \n",
       "...              ...          ...                         ...        ...   \n",
       "145446    Washington          USA               United States        NaN   \n",
       "145454     Wisconsin          USA               United States        NaN   \n",
       "145457    California          USA               United States        NaN   \n",
       "145468      Michigan          USA               United States      187.0   \n",
       "145482  Heilongjiang          CHN  People's Republic of China        NaN   \n",
       "\n",
       "        weight_kg died_date  \n",
       "54           64.0       NaN  \n",
       "83           71.0       NaN  \n",
       "133          63.0       NaN  \n",
       "381          68.0       NaN  \n",
       "383          65.0       NaN  \n",
       "...           ...       ...  \n",
       "145446        NaN       NaN  \n",
       "145454        NaN       NaN  \n",
       "145457        NaN       NaN  \n",
       "145468       97.0       NaN  \n",
       "145482        NaN       NaN  \n",
       "\n",
       "[11666 rows x 10 columns]"
      ]
     },
     "execution_count": 50,
     "metadata": {},
     "output_type": "execute_result"
    }
   ],
   "source": [
    "bios[bios['born_country'].isin(['USA', 'CHN'])]"
   ]
  },
  {
   "cell_type": "markdown",
   "id": "6e0cef75",
   "metadata": {},
   "source": [
    "# Adding/removing columns"
   ]
  },
  {
   "cell_type": "code",
   "execution_count": 52,
   "id": "9490a509",
   "metadata": {},
   "outputs": [],
   "source": [
    "coffee['price'] = 4.99"
   ]
  },
  {
   "cell_type": "code",
   "execution_count": 54,
   "id": "f882b3cc",
   "metadata": {},
   "outputs": [],
   "source": [
    "coffee['new_price'] = np.where(coffee['Coffee Type'] == 'Espresso', 3.99, 5.99)"
   ]
  },
  {
   "cell_type": "code",
   "execution_count": 55,
   "id": "6dd826d8",
   "metadata": {},
   "outputs": [
    {
     "data": {
      "application/vnd.microsoft.datawrangler.viewer.v0+json": {
       "columns": [
        {
         "name": "index",
         "rawType": "int64",
         "type": "integer"
        },
        {
         "name": "Day",
         "rawType": "object",
         "type": "string"
        },
        {
         "name": "Coffee Type",
         "rawType": "object",
         "type": "string"
        },
        {
         "name": "Units Sold",
         "rawType": "int64",
         "type": "integer"
        },
        {
         "name": "price",
         "rawType": "float64",
         "type": "float"
        },
        {
         "name": "new_price",
         "rawType": "float64",
         "type": "float"
        }
       ],
       "ref": "f1cfafa8-d4de-46b1-8c77-95af87b607a3",
       "rows": [
        [
         "0",
         "Monday",
         "Espresso",
         "25",
         "4.99",
         "3.99"
        ],
        [
         "1",
         "Monday",
         "Latte",
         "15",
         "4.99",
         "5.99"
        ],
        [
         "2",
         "Tuesday",
         "Espresso",
         "30",
         "4.99",
         "3.99"
        ],
        [
         "3",
         "Tuesday",
         "Latte",
         "20",
         "4.99",
         "5.99"
        ],
        [
         "4",
         "Wednesday",
         "Espresso",
         "35",
         "4.99",
         "3.99"
        ],
        [
         "5",
         "Wednesday",
         "Latte",
         "25",
         "4.99",
         "5.99"
        ],
        [
         "6",
         "Thursday",
         "Espresso",
         "40",
         "4.99",
         "3.99"
        ],
        [
         "7",
         "Thursday",
         "Latte",
         "30",
         "4.99",
         "5.99"
        ],
        [
         "8",
         "Friday",
         "Espresso",
         "45",
         "4.99",
         "3.99"
        ],
        [
         "9",
         "Friday",
         "Latte",
         "35",
         "4.99",
         "5.99"
        ],
        [
         "10",
         "Saturday",
         "Espresso",
         "45",
         "4.99",
         "3.99"
        ],
        [
         "11",
         "Saturday",
         "Latte",
         "35",
         "4.99",
         "5.99"
        ],
        [
         "12",
         "Sunday",
         "Espresso",
         "45",
         "4.99",
         "3.99"
        ],
        [
         "13",
         "Sunday",
         "Latte",
         "35",
         "4.99",
         "5.99"
        ]
       ],
       "shape": {
        "columns": 5,
        "rows": 14
       }
      },
      "text/html": [
       "<div>\n",
       "<style scoped>\n",
       "    .dataframe tbody tr th:only-of-type {\n",
       "        vertical-align: middle;\n",
       "    }\n",
       "\n",
       "    .dataframe tbody tr th {\n",
       "        vertical-align: top;\n",
       "    }\n",
       "\n",
       "    .dataframe thead th {\n",
       "        text-align: right;\n",
       "    }\n",
       "</style>\n",
       "<table border=\"1\" class=\"dataframe\">\n",
       "  <thead>\n",
       "    <tr style=\"text-align: right;\">\n",
       "      <th></th>\n",
       "      <th>Day</th>\n",
       "      <th>Coffee Type</th>\n",
       "      <th>Units Sold</th>\n",
       "      <th>price</th>\n",
       "      <th>new_price</th>\n",
       "    </tr>\n",
       "  </thead>\n",
       "  <tbody>\n",
       "    <tr>\n",
       "      <th>0</th>\n",
       "      <td>Monday</td>\n",
       "      <td>Espresso</td>\n",
       "      <td>25</td>\n",
       "      <td>4.99</td>\n",
       "      <td>3.99</td>\n",
       "    </tr>\n",
       "    <tr>\n",
       "      <th>1</th>\n",
       "      <td>Monday</td>\n",
       "      <td>Latte</td>\n",
       "      <td>15</td>\n",
       "      <td>4.99</td>\n",
       "      <td>5.99</td>\n",
       "    </tr>\n",
       "    <tr>\n",
       "      <th>2</th>\n",
       "      <td>Tuesday</td>\n",
       "      <td>Espresso</td>\n",
       "      <td>30</td>\n",
       "      <td>4.99</td>\n",
       "      <td>3.99</td>\n",
       "    </tr>\n",
       "    <tr>\n",
       "      <th>3</th>\n",
       "      <td>Tuesday</td>\n",
       "      <td>Latte</td>\n",
       "      <td>20</td>\n",
       "      <td>4.99</td>\n",
       "      <td>5.99</td>\n",
       "    </tr>\n",
       "    <tr>\n",
       "      <th>4</th>\n",
       "      <td>Wednesday</td>\n",
       "      <td>Espresso</td>\n",
       "      <td>35</td>\n",
       "      <td>4.99</td>\n",
       "      <td>3.99</td>\n",
       "    </tr>\n",
       "    <tr>\n",
       "      <th>5</th>\n",
       "      <td>Wednesday</td>\n",
       "      <td>Latte</td>\n",
       "      <td>25</td>\n",
       "      <td>4.99</td>\n",
       "      <td>5.99</td>\n",
       "    </tr>\n",
       "    <tr>\n",
       "      <th>6</th>\n",
       "      <td>Thursday</td>\n",
       "      <td>Espresso</td>\n",
       "      <td>40</td>\n",
       "      <td>4.99</td>\n",
       "      <td>3.99</td>\n",
       "    </tr>\n",
       "    <tr>\n",
       "      <th>7</th>\n",
       "      <td>Thursday</td>\n",
       "      <td>Latte</td>\n",
       "      <td>30</td>\n",
       "      <td>4.99</td>\n",
       "      <td>5.99</td>\n",
       "    </tr>\n",
       "    <tr>\n",
       "      <th>8</th>\n",
       "      <td>Friday</td>\n",
       "      <td>Espresso</td>\n",
       "      <td>45</td>\n",
       "      <td>4.99</td>\n",
       "      <td>3.99</td>\n",
       "    </tr>\n",
       "    <tr>\n",
       "      <th>9</th>\n",
       "      <td>Friday</td>\n",
       "      <td>Latte</td>\n",
       "      <td>35</td>\n",
       "      <td>4.99</td>\n",
       "      <td>5.99</td>\n",
       "    </tr>\n",
       "    <tr>\n",
       "      <th>10</th>\n",
       "      <td>Saturday</td>\n",
       "      <td>Espresso</td>\n",
       "      <td>45</td>\n",
       "      <td>4.99</td>\n",
       "      <td>3.99</td>\n",
       "    </tr>\n",
       "    <tr>\n",
       "      <th>11</th>\n",
       "      <td>Saturday</td>\n",
       "      <td>Latte</td>\n",
       "      <td>35</td>\n",
       "      <td>4.99</td>\n",
       "      <td>5.99</td>\n",
       "    </tr>\n",
       "    <tr>\n",
       "      <th>12</th>\n",
       "      <td>Sunday</td>\n",
       "      <td>Espresso</td>\n",
       "      <td>45</td>\n",
       "      <td>4.99</td>\n",
       "      <td>3.99</td>\n",
       "    </tr>\n",
       "    <tr>\n",
       "      <th>13</th>\n",
       "      <td>Sunday</td>\n",
       "      <td>Latte</td>\n",
       "      <td>35</td>\n",
       "      <td>4.99</td>\n",
       "      <td>5.99</td>\n",
       "    </tr>\n",
       "  </tbody>\n",
       "</table>\n",
       "</div>"
      ],
      "text/plain": [
       "          Day Coffee Type  Units Sold  price  new_price\n",
       "0      Monday    Espresso          25   4.99       3.99\n",
       "1      Monday       Latte          15   4.99       5.99\n",
       "2     Tuesday    Espresso          30   4.99       3.99\n",
       "3     Tuesday       Latte          20   4.99       5.99\n",
       "4   Wednesday    Espresso          35   4.99       3.99\n",
       "5   Wednesday       Latte          25   4.99       5.99\n",
       "6    Thursday    Espresso          40   4.99       3.99\n",
       "7    Thursday       Latte          30   4.99       5.99\n",
       "8      Friday    Espresso          45   4.99       3.99\n",
       "9      Friday       Latte          35   4.99       5.99\n",
       "10   Saturday    Espresso          45   4.99       3.99\n",
       "11   Saturday       Latte          35   4.99       5.99\n",
       "12     Sunday    Espresso          45   4.99       3.99\n",
       "13     Sunday       Latte          35   4.99       5.99"
      ]
     },
     "execution_count": 55,
     "metadata": {},
     "output_type": "execute_result"
    }
   ],
   "source": [
    "coffee"
   ]
  },
  {
   "cell_type": "code",
   "execution_count": 62,
   "id": "47af256d",
   "metadata": {},
   "outputs": [],
   "source": [
    "coffee.drop(columns = ['price'], inplace=True)"
   ]
  },
  {
   "cell_type": "code",
   "execution_count": 58,
   "id": "278d42c8",
   "metadata": {},
   "outputs": [],
   "source": [
    "coffee_new = coffee.copy()"
   ]
  },
  {
   "cell_type": "code",
   "execution_count": 59,
   "id": "fe9a828e",
   "metadata": {},
   "outputs": [
    {
     "data": {
      "application/vnd.microsoft.datawrangler.viewer.v0+json": {
       "columns": [
        {
         "name": "index",
         "rawType": "int64",
         "type": "integer"
        },
        {
         "name": "Day",
         "rawType": "object",
         "type": "string"
        },
        {
         "name": "Coffee Type",
         "rawType": "object",
         "type": "string"
        },
        {
         "name": "Units Sold",
         "rawType": "int64",
         "type": "integer"
        },
        {
         "name": "price",
         "rawType": "float64",
         "type": "float"
        },
        {
         "name": "new_price",
         "rawType": "float64",
         "type": "float"
        }
       ],
       "ref": "17f4f94a-dcc8-43e5-9352-d945813bb12e",
       "rows": [
        [
         "0",
         "Monday",
         "Espresso",
         "25",
         "4.99",
         "3.99"
        ],
        [
         "1",
         "Monday",
         "Latte",
         "15",
         "4.99",
         "5.99"
        ],
        [
         "2",
         "Tuesday",
         "Espresso",
         "30",
         "4.99",
         "3.99"
        ],
        [
         "3",
         "Tuesday",
         "Latte",
         "20",
         "4.99",
         "5.99"
        ],
        [
         "4",
         "Wednesday",
         "Espresso",
         "35",
         "4.99",
         "3.99"
        ],
        [
         "5",
         "Wednesday",
         "Latte",
         "25",
         "4.99",
         "5.99"
        ],
        [
         "6",
         "Thursday",
         "Espresso",
         "40",
         "4.99",
         "3.99"
        ],
        [
         "7",
         "Thursday",
         "Latte",
         "30",
         "4.99",
         "5.99"
        ],
        [
         "8",
         "Friday",
         "Espresso",
         "45",
         "4.99",
         "3.99"
        ],
        [
         "9",
         "Friday",
         "Latte",
         "35",
         "4.99",
         "5.99"
        ],
        [
         "10",
         "Saturday",
         "Espresso",
         "45",
         "4.99",
         "3.99"
        ],
        [
         "11",
         "Saturday",
         "Latte",
         "35",
         "4.99",
         "5.99"
        ],
        [
         "12",
         "Sunday",
         "Espresso",
         "45",
         "4.99",
         "3.99"
        ],
        [
         "13",
         "Sunday",
         "Latte",
         "35",
         "4.99",
         "5.99"
        ]
       ],
       "shape": {
        "columns": 5,
        "rows": 14
       }
      },
      "text/html": [
       "<div>\n",
       "<style scoped>\n",
       "    .dataframe tbody tr th:only-of-type {\n",
       "        vertical-align: middle;\n",
       "    }\n",
       "\n",
       "    .dataframe tbody tr th {\n",
       "        vertical-align: top;\n",
       "    }\n",
       "\n",
       "    .dataframe thead th {\n",
       "        text-align: right;\n",
       "    }\n",
       "</style>\n",
       "<table border=\"1\" class=\"dataframe\">\n",
       "  <thead>\n",
       "    <tr style=\"text-align: right;\">\n",
       "      <th></th>\n",
       "      <th>Day</th>\n",
       "      <th>Coffee Type</th>\n",
       "      <th>Units Sold</th>\n",
       "      <th>price</th>\n",
       "      <th>new_price</th>\n",
       "    </tr>\n",
       "  </thead>\n",
       "  <tbody>\n",
       "    <tr>\n",
       "      <th>0</th>\n",
       "      <td>Monday</td>\n",
       "      <td>Espresso</td>\n",
       "      <td>25</td>\n",
       "      <td>4.99</td>\n",
       "      <td>3.99</td>\n",
       "    </tr>\n",
       "    <tr>\n",
       "      <th>1</th>\n",
       "      <td>Monday</td>\n",
       "      <td>Latte</td>\n",
       "      <td>15</td>\n",
       "      <td>4.99</td>\n",
       "      <td>5.99</td>\n",
       "    </tr>\n",
       "    <tr>\n",
       "      <th>2</th>\n",
       "      <td>Tuesday</td>\n",
       "      <td>Espresso</td>\n",
       "      <td>30</td>\n",
       "      <td>4.99</td>\n",
       "      <td>3.99</td>\n",
       "    </tr>\n",
       "    <tr>\n",
       "      <th>3</th>\n",
       "      <td>Tuesday</td>\n",
       "      <td>Latte</td>\n",
       "      <td>20</td>\n",
       "      <td>4.99</td>\n",
       "      <td>5.99</td>\n",
       "    </tr>\n",
       "    <tr>\n",
       "      <th>4</th>\n",
       "      <td>Wednesday</td>\n",
       "      <td>Espresso</td>\n",
       "      <td>35</td>\n",
       "      <td>4.99</td>\n",
       "      <td>3.99</td>\n",
       "    </tr>\n",
       "    <tr>\n",
       "      <th>5</th>\n",
       "      <td>Wednesday</td>\n",
       "      <td>Latte</td>\n",
       "      <td>25</td>\n",
       "      <td>4.99</td>\n",
       "      <td>5.99</td>\n",
       "    </tr>\n",
       "    <tr>\n",
       "      <th>6</th>\n",
       "      <td>Thursday</td>\n",
       "      <td>Espresso</td>\n",
       "      <td>40</td>\n",
       "      <td>4.99</td>\n",
       "      <td>3.99</td>\n",
       "    </tr>\n",
       "    <tr>\n",
       "      <th>7</th>\n",
       "      <td>Thursday</td>\n",
       "      <td>Latte</td>\n",
       "      <td>30</td>\n",
       "      <td>4.99</td>\n",
       "      <td>5.99</td>\n",
       "    </tr>\n",
       "    <tr>\n",
       "      <th>8</th>\n",
       "      <td>Friday</td>\n",
       "      <td>Espresso</td>\n",
       "      <td>45</td>\n",
       "      <td>4.99</td>\n",
       "      <td>3.99</td>\n",
       "    </tr>\n",
       "    <tr>\n",
       "      <th>9</th>\n",
       "      <td>Friday</td>\n",
       "      <td>Latte</td>\n",
       "      <td>35</td>\n",
       "      <td>4.99</td>\n",
       "      <td>5.99</td>\n",
       "    </tr>\n",
       "    <tr>\n",
       "      <th>10</th>\n",
       "      <td>Saturday</td>\n",
       "      <td>Espresso</td>\n",
       "      <td>45</td>\n",
       "      <td>4.99</td>\n",
       "      <td>3.99</td>\n",
       "    </tr>\n",
       "    <tr>\n",
       "      <th>11</th>\n",
       "      <td>Saturday</td>\n",
       "      <td>Latte</td>\n",
       "      <td>35</td>\n",
       "      <td>4.99</td>\n",
       "      <td>5.99</td>\n",
       "    </tr>\n",
       "    <tr>\n",
       "      <th>12</th>\n",
       "      <td>Sunday</td>\n",
       "      <td>Espresso</td>\n",
       "      <td>45</td>\n",
       "      <td>4.99</td>\n",
       "      <td>3.99</td>\n",
       "    </tr>\n",
       "    <tr>\n",
       "      <th>13</th>\n",
       "      <td>Sunday</td>\n",
       "      <td>Latte</td>\n",
       "      <td>35</td>\n",
       "      <td>4.99</td>\n",
       "      <td>5.99</td>\n",
       "    </tr>\n",
       "  </tbody>\n",
       "</table>\n",
       "</div>"
      ],
      "text/plain": [
       "          Day Coffee Type  Units Sold  price  new_price\n",
       "0      Monday    Espresso          25   4.99       3.99\n",
       "1      Monday       Latte          15   4.99       5.99\n",
       "2     Tuesday    Espresso          30   4.99       3.99\n",
       "3     Tuesday       Latte          20   4.99       5.99\n",
       "4   Wednesday    Espresso          35   4.99       3.99\n",
       "5   Wednesday       Latte          25   4.99       5.99\n",
       "6    Thursday    Espresso          40   4.99       3.99\n",
       "7    Thursday       Latte          30   4.99       5.99\n",
       "8      Friday    Espresso          45   4.99       3.99\n",
       "9      Friday       Latte          35   4.99       5.99\n",
       "10   Saturday    Espresso          45   4.99       3.99\n",
       "11   Saturday       Latte          35   4.99       5.99\n",
       "12     Sunday    Espresso          45   4.99       3.99\n",
       "13     Sunday       Latte          35   4.99       5.99"
      ]
     },
     "execution_count": 59,
     "metadata": {},
     "output_type": "execute_result"
    }
   ],
   "source": [
    "coffee_new"
   ]
  },
  {
   "cell_type": "code",
   "execution_count": 63,
   "id": "1edbd658",
   "metadata": {},
   "outputs": [
    {
     "data": {
      "application/vnd.microsoft.datawrangler.viewer.v0+json": {
       "columns": [
        {
         "name": "index",
         "rawType": "int64",
         "type": "integer"
        },
        {
         "name": "Day",
         "rawType": "object",
         "type": "string"
        },
        {
         "name": "Coffee Type",
         "rawType": "object",
         "type": "string"
        },
        {
         "name": "Units Sold",
         "rawType": "int64",
         "type": "integer"
        },
        {
         "name": "new_price",
         "rawType": "float64",
         "type": "float"
        },
        {
         "name": "revenue",
         "rawType": "float64",
         "type": "float"
        }
       ],
       "ref": "0c6012f7-7713-4e54-b4ab-321c4ee0d38e",
       "rows": [
        [
         "0",
         "Monday",
         "Espresso",
         "25",
         "3.99",
         "99.75"
        ],
        [
         "1",
         "Monday",
         "Latte",
         "15",
         "5.99",
         "89.85000000000001"
        ],
        [
         "2",
         "Tuesday",
         "Espresso",
         "30",
         "3.99",
         "119.7"
        ],
        [
         "3",
         "Tuesday",
         "Latte",
         "20",
         "5.99",
         "119.80000000000001"
        ],
        [
         "4",
         "Wednesday",
         "Espresso",
         "35",
         "3.99",
         "139.65"
        ]
       ],
       "shape": {
        "columns": 5,
        "rows": 5
       }
      },
      "text/html": [
       "<div>\n",
       "<style scoped>\n",
       "    .dataframe tbody tr th:only-of-type {\n",
       "        vertical-align: middle;\n",
       "    }\n",
       "\n",
       "    .dataframe tbody tr th {\n",
       "        vertical-align: top;\n",
       "    }\n",
       "\n",
       "    .dataframe thead th {\n",
       "        text-align: right;\n",
       "    }\n",
       "</style>\n",
       "<table border=\"1\" class=\"dataframe\">\n",
       "  <thead>\n",
       "    <tr style=\"text-align: right;\">\n",
       "      <th></th>\n",
       "      <th>Day</th>\n",
       "      <th>Coffee Type</th>\n",
       "      <th>Units Sold</th>\n",
       "      <th>new_price</th>\n",
       "      <th>revenue</th>\n",
       "    </tr>\n",
       "  </thead>\n",
       "  <tbody>\n",
       "    <tr>\n",
       "      <th>0</th>\n",
       "      <td>Monday</td>\n",
       "      <td>Espresso</td>\n",
       "      <td>25</td>\n",
       "      <td>3.99</td>\n",
       "      <td>99.75</td>\n",
       "    </tr>\n",
       "    <tr>\n",
       "      <th>1</th>\n",
       "      <td>Monday</td>\n",
       "      <td>Latte</td>\n",
       "      <td>15</td>\n",
       "      <td>5.99</td>\n",
       "      <td>89.85</td>\n",
       "    </tr>\n",
       "    <tr>\n",
       "      <th>2</th>\n",
       "      <td>Tuesday</td>\n",
       "      <td>Espresso</td>\n",
       "      <td>30</td>\n",
       "      <td>3.99</td>\n",
       "      <td>119.70</td>\n",
       "    </tr>\n",
       "    <tr>\n",
       "      <th>3</th>\n",
       "      <td>Tuesday</td>\n",
       "      <td>Latte</td>\n",
       "      <td>20</td>\n",
       "      <td>5.99</td>\n",
       "      <td>119.80</td>\n",
       "    </tr>\n",
       "    <tr>\n",
       "      <th>4</th>\n",
       "      <td>Wednesday</td>\n",
       "      <td>Espresso</td>\n",
       "      <td>35</td>\n",
       "      <td>3.99</td>\n",
       "      <td>139.65</td>\n",
       "    </tr>\n",
       "  </tbody>\n",
       "</table>\n",
       "</div>"
      ],
      "text/plain": [
       "         Day Coffee Type  Units Sold  new_price  revenue\n",
       "0     Monday    Espresso          25       3.99    99.75\n",
       "1     Monday       Latte          15       5.99    89.85\n",
       "2    Tuesday    Espresso          30       3.99   119.70\n",
       "3    Tuesday       Latte          20       5.99   119.80\n",
       "4  Wednesday    Espresso          35       3.99   139.65"
      ]
     },
     "execution_count": 63,
     "metadata": {},
     "output_type": "execute_result"
    }
   ],
   "source": [
    "coffee['revenue'] = coffee['Units Sold'] * coffee['new_price']\n",
    "coffee.head()"
   ]
  },
  {
   "cell_type": "code",
   "execution_count": 65,
   "id": "1b7953fb",
   "metadata": {},
   "outputs": [
    {
     "data": {
      "application/vnd.microsoft.datawrangler.viewer.v0+json": {
       "columns": [
        {
         "name": "index",
         "rawType": "int64",
         "type": "integer"
        },
        {
         "name": "Day",
         "rawType": "object",
         "type": "string"
        },
        {
         "name": "Coffee Type",
         "rawType": "object",
         "type": "string"
        },
        {
         "name": "Units Sold",
         "rawType": "int64",
         "type": "integer"
        },
        {
         "name": "price",
         "rawType": "float64",
         "type": "float"
        },
        {
         "name": "revenue",
         "rawType": "float64",
         "type": "float"
        }
       ],
       "ref": "2f7e42f4-eba6-426d-bcce-85027ae63079",
       "rows": [
        [
         "0",
         "Monday",
         "Espresso",
         "25",
         "3.99",
         "99.75"
        ],
        [
         "1",
         "Monday",
         "Latte",
         "15",
         "5.99",
         "89.85000000000001"
        ],
        [
         "2",
         "Tuesday",
         "Espresso",
         "30",
         "3.99",
         "119.7"
        ],
        [
         "3",
         "Tuesday",
         "Latte",
         "20",
         "5.99",
         "119.80000000000001"
        ],
        [
         "4",
         "Wednesday",
         "Espresso",
         "35",
         "3.99",
         "139.65"
        ]
       ],
       "shape": {
        "columns": 5,
        "rows": 5
       }
      },
      "text/html": [
       "<div>\n",
       "<style scoped>\n",
       "    .dataframe tbody tr th:only-of-type {\n",
       "        vertical-align: middle;\n",
       "    }\n",
       "\n",
       "    .dataframe tbody tr th {\n",
       "        vertical-align: top;\n",
       "    }\n",
       "\n",
       "    .dataframe thead th {\n",
       "        text-align: right;\n",
       "    }\n",
       "</style>\n",
       "<table border=\"1\" class=\"dataframe\">\n",
       "  <thead>\n",
       "    <tr style=\"text-align: right;\">\n",
       "      <th></th>\n",
       "      <th>Day</th>\n",
       "      <th>Coffee Type</th>\n",
       "      <th>Units Sold</th>\n",
       "      <th>price</th>\n",
       "      <th>revenue</th>\n",
       "    </tr>\n",
       "  </thead>\n",
       "  <tbody>\n",
       "    <tr>\n",
       "      <th>0</th>\n",
       "      <td>Monday</td>\n",
       "      <td>Espresso</td>\n",
       "      <td>25</td>\n",
       "      <td>3.99</td>\n",
       "      <td>99.75</td>\n",
       "    </tr>\n",
       "    <tr>\n",
       "      <th>1</th>\n",
       "      <td>Monday</td>\n",
       "      <td>Latte</td>\n",
       "      <td>15</td>\n",
       "      <td>5.99</td>\n",
       "      <td>89.85</td>\n",
       "    </tr>\n",
       "    <tr>\n",
       "      <th>2</th>\n",
       "      <td>Tuesday</td>\n",
       "      <td>Espresso</td>\n",
       "      <td>30</td>\n",
       "      <td>3.99</td>\n",
       "      <td>119.70</td>\n",
       "    </tr>\n",
       "    <tr>\n",
       "      <th>3</th>\n",
       "      <td>Tuesday</td>\n",
       "      <td>Latte</td>\n",
       "      <td>20</td>\n",
       "      <td>5.99</td>\n",
       "      <td>119.80</td>\n",
       "    </tr>\n",
       "    <tr>\n",
       "      <th>4</th>\n",
       "      <td>Wednesday</td>\n",
       "      <td>Espresso</td>\n",
       "      <td>35</td>\n",
       "      <td>3.99</td>\n",
       "      <td>139.65</td>\n",
       "    </tr>\n",
       "  </tbody>\n",
       "</table>\n",
       "</div>"
      ],
      "text/plain": [
       "         Day Coffee Type  Units Sold  price  revenue\n",
       "0     Monday    Espresso          25   3.99    99.75\n",
       "1     Monday       Latte          15   5.99    89.85\n",
       "2    Tuesday    Espresso          30   3.99   119.70\n",
       "3    Tuesday       Latte          20   5.99   119.80\n",
       "4  Wednesday    Espresso          35   3.99   139.65"
      ]
     },
     "execution_count": 65,
     "metadata": {},
     "output_type": "execute_result"
    }
   ],
   "source": [
    "# rename column names\n",
    "coffee.rename(columns = {'new_price':'price'}, inplace=True)\n",
    "coffee.head()"
   ]
  },
  {
   "cell_type": "code",
   "execution_count": 66,
   "id": "552c2ba1",
   "metadata": {},
   "outputs": [],
   "source": [
    "bios_new = bios.copy()"
   ]
  },
  {
   "cell_type": "code",
   "execution_count": 72,
   "id": "cba2dd93",
   "metadata": {},
   "outputs": [
    {
     "data": {
      "application/vnd.microsoft.datawrangler.viewer.v0+json": {
       "columns": [
        {
         "name": "index",
         "rawType": "int64",
         "type": "integer"
        },
        {
         "name": "athlete_id",
         "rawType": "int64",
         "type": "integer"
        },
        {
         "name": "name",
         "rawType": "object",
         "type": "string"
        },
        {
         "name": "born_date",
         "rawType": "object",
         "type": "string"
        },
        {
         "name": "born_city",
         "rawType": "object",
         "type": "string"
        },
        {
         "name": "born_region",
         "rawType": "object",
         "type": "string"
        },
        {
         "name": "born_country",
         "rawType": "object",
         "type": "string"
        },
        {
         "name": "NOC",
         "rawType": "object",
         "type": "string"
        },
        {
         "name": "height_cm",
         "rawType": "float64",
         "type": "float"
        },
        {
         "name": "weight_kg",
         "rawType": "float64",
         "type": "float"
        },
        {
         "name": "died_date",
         "rawType": "object",
         "type": "unknown"
        },
        {
         "name": "born_datetime",
         "rawType": "datetime64[ns]",
         "type": "datetime"
        },
        {
         "name": "born_year",
         "rawType": "float64",
         "type": "float"
        }
       ],
       "ref": "81263284-e933-49ef-ae7b-9812984f8ef4",
       "rows": [
        [
         "0",
         "1",
         "Jean-François Blanchy",
         "1886-12-12",
         "Bordeaux",
         "Gironde",
         "FRA",
         "France",
         null,
         null,
         "1960-10-02",
         "1886-12-12 00:00:00",
         "1886.0"
        ],
        [
         "1",
         "2",
         "Arnaud Boetsch",
         "1969-04-01",
         "Meulan",
         "Yvelines",
         "FRA",
         "France",
         "183.0",
         "76.0",
         null,
         "1969-04-01 00:00:00",
         "1969.0"
        ],
        [
         "2",
         "3",
         "Jean Borotra",
         "1898-08-13",
         "Biarritz",
         "Pyrénées-Atlantiques",
         "FRA",
         "France",
         "183.0",
         "76.0",
         "1994-07-17",
         "1898-08-13 00:00:00",
         "1898.0"
        ],
        [
         "3",
         "4",
         "Jacques Brugnon",
         "1895-05-11",
         "Paris VIIIe",
         "Paris",
         "FRA",
         "France",
         "168.0",
         "64.0",
         "1978-03-20",
         "1895-05-11 00:00:00",
         "1895.0"
        ],
        [
         "4",
         "5",
         "Albert Canet",
         "1878-04-17",
         "Wandsworth",
         "England",
         "GBR",
         "France",
         null,
         null,
         "1930-07-25",
         "1878-04-17 00:00:00",
         "1878.0"
        ]
       ],
       "shape": {
        "columns": 12,
        "rows": 5
       }
      },
      "text/html": [
       "<div>\n",
       "<style scoped>\n",
       "    .dataframe tbody tr th:only-of-type {\n",
       "        vertical-align: middle;\n",
       "    }\n",
       "\n",
       "    .dataframe tbody tr th {\n",
       "        vertical-align: top;\n",
       "    }\n",
       "\n",
       "    .dataframe thead th {\n",
       "        text-align: right;\n",
       "    }\n",
       "</style>\n",
       "<table border=\"1\" class=\"dataframe\">\n",
       "  <thead>\n",
       "    <tr style=\"text-align: right;\">\n",
       "      <th></th>\n",
       "      <th>athlete_id</th>\n",
       "      <th>name</th>\n",
       "      <th>born_date</th>\n",
       "      <th>born_city</th>\n",
       "      <th>born_region</th>\n",
       "      <th>born_country</th>\n",
       "      <th>NOC</th>\n",
       "      <th>height_cm</th>\n",
       "      <th>weight_kg</th>\n",
       "      <th>died_date</th>\n",
       "      <th>born_datetime</th>\n",
       "      <th>born_year</th>\n",
       "    </tr>\n",
       "  </thead>\n",
       "  <tbody>\n",
       "    <tr>\n",
       "      <th>0</th>\n",
       "      <td>1</td>\n",
       "      <td>Jean-François Blanchy</td>\n",
       "      <td>1886-12-12</td>\n",
       "      <td>Bordeaux</td>\n",
       "      <td>Gironde</td>\n",
       "      <td>FRA</td>\n",
       "      <td>France</td>\n",
       "      <td>NaN</td>\n",
       "      <td>NaN</td>\n",
       "      <td>1960-10-02</td>\n",
       "      <td>1886-12-12</td>\n",
       "      <td>1886.0</td>\n",
       "    </tr>\n",
       "    <tr>\n",
       "      <th>1</th>\n",
       "      <td>2</td>\n",
       "      <td>Arnaud Boetsch</td>\n",
       "      <td>1969-04-01</td>\n",
       "      <td>Meulan</td>\n",
       "      <td>Yvelines</td>\n",
       "      <td>FRA</td>\n",
       "      <td>France</td>\n",
       "      <td>183.0</td>\n",
       "      <td>76.0</td>\n",
       "      <td>NaN</td>\n",
       "      <td>1969-04-01</td>\n",
       "      <td>1969.0</td>\n",
       "    </tr>\n",
       "    <tr>\n",
       "      <th>2</th>\n",
       "      <td>3</td>\n",
       "      <td>Jean Borotra</td>\n",
       "      <td>1898-08-13</td>\n",
       "      <td>Biarritz</td>\n",
       "      <td>Pyrénées-Atlantiques</td>\n",
       "      <td>FRA</td>\n",
       "      <td>France</td>\n",
       "      <td>183.0</td>\n",
       "      <td>76.0</td>\n",
       "      <td>1994-07-17</td>\n",
       "      <td>1898-08-13</td>\n",
       "      <td>1898.0</td>\n",
       "    </tr>\n",
       "    <tr>\n",
       "      <th>3</th>\n",
       "      <td>4</td>\n",
       "      <td>Jacques Brugnon</td>\n",
       "      <td>1895-05-11</td>\n",
       "      <td>Paris VIIIe</td>\n",
       "      <td>Paris</td>\n",
       "      <td>FRA</td>\n",
       "      <td>France</td>\n",
       "      <td>168.0</td>\n",
       "      <td>64.0</td>\n",
       "      <td>1978-03-20</td>\n",
       "      <td>1895-05-11</td>\n",
       "      <td>1895.0</td>\n",
       "    </tr>\n",
       "    <tr>\n",
       "      <th>4</th>\n",
       "      <td>5</td>\n",
       "      <td>Albert Canet</td>\n",
       "      <td>1878-04-17</td>\n",
       "      <td>Wandsworth</td>\n",
       "      <td>England</td>\n",
       "      <td>GBR</td>\n",
       "      <td>France</td>\n",
       "      <td>NaN</td>\n",
       "      <td>NaN</td>\n",
       "      <td>1930-07-25</td>\n",
       "      <td>1878-04-17</td>\n",
       "      <td>1878.0</td>\n",
       "    </tr>\n",
       "  </tbody>\n",
       "</table>\n",
       "</div>"
      ],
      "text/plain": [
       "   athlete_id                   name   born_date    born_city  \\\n",
       "0           1  Jean-François Blanchy  1886-12-12     Bordeaux   \n",
       "1           2         Arnaud Boetsch  1969-04-01       Meulan   \n",
       "2           3           Jean Borotra  1898-08-13     Biarritz   \n",
       "3           4        Jacques Brugnon  1895-05-11  Paris VIIIe   \n",
       "4           5           Albert Canet  1878-04-17   Wandsworth   \n",
       "\n",
       "            born_region born_country     NOC  height_cm  weight_kg  \\\n",
       "0               Gironde          FRA  France        NaN        NaN   \n",
       "1              Yvelines          FRA  France      183.0       76.0   \n",
       "2  Pyrénées-Atlantiques          FRA  France      183.0       76.0   \n",
       "3                 Paris          FRA  France      168.0       64.0   \n",
       "4               England          GBR  France        NaN        NaN   \n",
       "\n",
       "    died_date born_datetime  born_year  \n",
       "0  1960-10-02    1886-12-12     1886.0  \n",
       "1         NaN    1969-04-01     1969.0  \n",
       "2  1994-07-17    1898-08-13     1898.0  \n",
       "3  1978-03-20    1895-05-11     1895.0  \n",
       "4  1930-07-25    1878-04-17     1878.0  "
      ]
     },
     "execution_count": 72,
     "metadata": {},
     "output_type": "execute_result"
    }
   ],
   "source": [
    "# date time\n",
    "bios_new['born_datetime'] = pd.to_datetime(bios_new['born_date'], format = '%Y-%m-%d')\n",
    "bios_new.head()"
   ]
  },
  {
   "cell_type": "code",
   "execution_count": 69,
   "id": "5dcd31db",
   "metadata": {},
   "outputs": [
    {
     "name": "stdout",
     "output_type": "stream",
     "text": [
      "<class 'pandas.core.frame.DataFrame'>\n",
      "RangeIndex: 145500 entries, 0 to 145499\n",
      "Data columns (total 11 columns):\n",
      " #   Column         Non-Null Count   Dtype         \n",
      "---  ------         --------------   -----         \n",
      " 0   athlete_id     145500 non-null  int64         \n",
      " 1   name           145500 non-null  object        \n",
      " 2   born_date      143693 non-null  object        \n",
      " 3   born_city      110908 non-null  object        \n",
      " 4   born_region    110908 non-null  object        \n",
      " 5   born_country   110908 non-null  object        \n",
      " 6   NOC            145499 non-null  object        \n",
      " 7   height_cm      106651 non-null  float64       \n",
      " 8   weight_kg      102070 non-null  float64       \n",
      " 9   died_date      33940 non-null   object        \n",
      " 10  born_datetime  143693 non-null  datetime64[ns]\n",
      "dtypes: datetime64[ns](1), float64(2), int64(1), object(7)\n",
      "memory usage: 12.2+ MB\n"
     ]
    }
   ],
   "source": [
    "bios_new.info()"
   ]
  },
  {
   "cell_type": "code",
   "execution_count": 73,
   "id": "ed171427",
   "metadata": {},
   "outputs": [
    {
     "data": {
      "application/vnd.microsoft.datawrangler.viewer.v0+json": {
       "columns": [
        {
         "name": "index",
         "rawType": "int64",
         "type": "integer"
        },
        {
         "name": "name",
         "rawType": "object",
         "type": "string"
        },
        {
         "name": "born_datetime",
         "rawType": "datetime64[ns]",
         "type": "datetime"
        },
        {
         "name": "born_year",
         "rawType": "float64",
         "type": "float"
        }
       ],
       "ref": "9881a424-de71-456b-a027-3070dae6b885",
       "rows": [
        [
         "0",
         "Jean-François Blanchy",
         "1886-12-12 00:00:00",
         "1886.0"
        ],
        [
         "1",
         "Arnaud Boetsch",
         "1969-04-01 00:00:00",
         "1969.0"
        ],
        [
         "2",
         "Jean Borotra",
         "1898-08-13 00:00:00",
         "1898.0"
        ],
        [
         "3",
         "Jacques Brugnon",
         "1895-05-11 00:00:00",
         "1895.0"
        ],
        [
         "4",
         "Albert Canet",
         "1878-04-17 00:00:00",
         "1878.0"
        ]
       ],
       "shape": {
        "columns": 3,
        "rows": 5
       }
      },
      "text/html": [
       "<div>\n",
       "<style scoped>\n",
       "    .dataframe tbody tr th:only-of-type {\n",
       "        vertical-align: middle;\n",
       "    }\n",
       "\n",
       "    .dataframe tbody tr th {\n",
       "        vertical-align: top;\n",
       "    }\n",
       "\n",
       "    .dataframe thead th {\n",
       "        text-align: right;\n",
       "    }\n",
       "</style>\n",
       "<table border=\"1\" class=\"dataframe\">\n",
       "  <thead>\n",
       "    <tr style=\"text-align: right;\">\n",
       "      <th></th>\n",
       "      <th>name</th>\n",
       "      <th>born_datetime</th>\n",
       "      <th>born_year</th>\n",
       "    </tr>\n",
       "  </thead>\n",
       "  <tbody>\n",
       "    <tr>\n",
       "      <th>0</th>\n",
       "      <td>Jean-François Blanchy</td>\n",
       "      <td>1886-12-12</td>\n",
       "      <td>1886.0</td>\n",
       "    </tr>\n",
       "    <tr>\n",
       "      <th>1</th>\n",
       "      <td>Arnaud Boetsch</td>\n",
       "      <td>1969-04-01</td>\n",
       "      <td>1969.0</td>\n",
       "    </tr>\n",
       "    <tr>\n",
       "      <th>2</th>\n",
       "      <td>Jean Borotra</td>\n",
       "      <td>1898-08-13</td>\n",
       "      <td>1898.0</td>\n",
       "    </tr>\n",
       "    <tr>\n",
       "      <th>3</th>\n",
       "      <td>Jacques Brugnon</td>\n",
       "      <td>1895-05-11</td>\n",
       "      <td>1895.0</td>\n",
       "    </tr>\n",
       "    <tr>\n",
       "      <th>4</th>\n",
       "      <td>Albert Canet</td>\n",
       "      <td>1878-04-17</td>\n",
       "      <td>1878.0</td>\n",
       "    </tr>\n",
       "  </tbody>\n",
       "</table>\n",
       "</div>"
      ],
      "text/plain": [
       "                    name born_datetime  born_year\n",
       "0  Jean-François Blanchy    1886-12-12     1886.0\n",
       "1         Arnaud Boetsch    1969-04-01     1969.0\n",
       "2           Jean Borotra    1898-08-13     1898.0\n",
       "3        Jacques Brugnon    1895-05-11     1895.0\n",
       "4           Albert Canet    1878-04-17     1878.0"
      ]
     },
     "execution_count": 73,
     "metadata": {},
     "output_type": "execute_result"
    }
   ],
   "source": [
    "bios_new['born_year'] = bios_new['born_datetime'].dt.year\n",
    "bios_new[['name', 'born_datetime', 'born_year']].head()"
   ]
  },
  {
   "cell_type": "code",
   "execution_count": 74,
   "id": "bf403c54",
   "metadata": {},
   "outputs": [],
   "source": [
    "# output data\n",
    "bios_new.to_csv('./data/bios_new.csv', index=False)"
   ]
  },
  {
   "cell_type": "code",
   "execution_count": 76,
   "id": "4515b06a",
   "metadata": {},
   "outputs": [
    {
     "data": {
      "application/vnd.microsoft.datawrangler.viewer.v0+json": {
       "columns": [
        {
         "name": "index",
         "rawType": "int64",
         "type": "integer"
        },
        {
         "name": "athlete_id",
         "rawType": "int64",
         "type": "integer"
        },
        {
         "name": "name",
         "rawType": "object",
         "type": "string"
        },
        {
         "name": "born_date",
         "rawType": "object",
         "type": "string"
        },
        {
         "name": "born_city",
         "rawType": "object",
         "type": "string"
        },
        {
         "name": "born_region",
         "rawType": "object",
         "type": "string"
        },
        {
         "name": "born_country",
         "rawType": "object",
         "type": "string"
        },
        {
         "name": "NOC",
         "rawType": "object",
         "type": "string"
        },
        {
         "name": "height_cm",
         "rawType": "float64",
         "type": "float"
        },
        {
         "name": "weight_kg",
         "rawType": "float64",
         "type": "float"
        },
        {
         "name": "died_date",
         "rawType": "object",
         "type": "unknown"
        },
        {
         "name": "height_category",
         "rawType": "object",
         "type": "string"
        }
       ],
       "ref": "0535da54-982e-4d47-95d6-19abec716853",
       "rows": [
        [
         "0",
         "1",
         "Jean-François Blanchy",
         "1886-12-12",
         "Bordeaux",
         "Gironde",
         "FRA",
         "France",
         null,
         null,
         "1960-10-02",
         "Unknown"
        ],
        [
         "1",
         "2",
         "Arnaud Boetsch",
         "1969-04-01",
         "Meulan",
         "Yvelines",
         "FRA",
         "France",
         "183.0",
         "76.0",
         null,
         "Average"
        ],
        [
         "2",
         "3",
         "Jean Borotra",
         "1898-08-13",
         "Biarritz",
         "Pyrénées-Atlantiques",
         "FRA",
         "France",
         "183.0",
         "76.0",
         "1994-07-17",
         "Average"
        ],
        [
         "3",
         "4",
         "Jacques Brugnon",
         "1895-05-11",
         "Paris VIIIe",
         "Paris",
         "FRA",
         "France",
         "168.0",
         "64.0",
         "1978-03-20",
         "Average"
        ],
        [
         "4",
         "5",
         "Albert Canet",
         "1878-04-17",
         "Wandsworth",
         "England",
         "GBR",
         "France",
         null,
         null,
         "1930-07-25",
         "Unknown"
        ]
       ],
       "shape": {
        "columns": 11,
        "rows": 5
       }
      },
      "text/html": [
       "<div>\n",
       "<style scoped>\n",
       "    .dataframe tbody tr th:only-of-type {\n",
       "        vertical-align: middle;\n",
       "    }\n",
       "\n",
       "    .dataframe tbody tr th {\n",
       "        vertical-align: top;\n",
       "    }\n",
       "\n",
       "    .dataframe thead th {\n",
       "        text-align: right;\n",
       "    }\n",
       "</style>\n",
       "<table border=\"1\" class=\"dataframe\">\n",
       "  <thead>\n",
       "    <tr style=\"text-align: right;\">\n",
       "      <th></th>\n",
       "      <th>athlete_id</th>\n",
       "      <th>name</th>\n",
       "      <th>born_date</th>\n",
       "      <th>born_city</th>\n",
       "      <th>born_region</th>\n",
       "      <th>born_country</th>\n",
       "      <th>NOC</th>\n",
       "      <th>height_cm</th>\n",
       "      <th>weight_kg</th>\n",
       "      <th>died_date</th>\n",
       "      <th>height_category</th>\n",
       "    </tr>\n",
       "  </thead>\n",
       "  <tbody>\n",
       "    <tr>\n",
       "      <th>0</th>\n",
       "      <td>1</td>\n",
       "      <td>Jean-François Blanchy</td>\n",
       "      <td>1886-12-12</td>\n",
       "      <td>Bordeaux</td>\n",
       "      <td>Gironde</td>\n",
       "      <td>FRA</td>\n",
       "      <td>France</td>\n",
       "      <td>NaN</td>\n",
       "      <td>NaN</td>\n",
       "      <td>1960-10-02</td>\n",
       "      <td>Unknown</td>\n",
       "    </tr>\n",
       "    <tr>\n",
       "      <th>1</th>\n",
       "      <td>2</td>\n",
       "      <td>Arnaud Boetsch</td>\n",
       "      <td>1969-04-01</td>\n",
       "      <td>Meulan</td>\n",
       "      <td>Yvelines</td>\n",
       "      <td>FRA</td>\n",
       "      <td>France</td>\n",
       "      <td>183.0</td>\n",
       "      <td>76.0</td>\n",
       "      <td>NaN</td>\n",
       "      <td>Average</td>\n",
       "    </tr>\n",
       "    <tr>\n",
       "      <th>2</th>\n",
       "      <td>3</td>\n",
       "      <td>Jean Borotra</td>\n",
       "      <td>1898-08-13</td>\n",
       "      <td>Biarritz</td>\n",
       "      <td>Pyrénées-Atlantiques</td>\n",
       "      <td>FRA</td>\n",
       "      <td>France</td>\n",
       "      <td>183.0</td>\n",
       "      <td>76.0</td>\n",
       "      <td>1994-07-17</td>\n",
       "      <td>Average</td>\n",
       "    </tr>\n",
       "    <tr>\n",
       "      <th>3</th>\n",
       "      <td>4</td>\n",
       "      <td>Jacques Brugnon</td>\n",
       "      <td>1895-05-11</td>\n",
       "      <td>Paris VIIIe</td>\n",
       "      <td>Paris</td>\n",
       "      <td>FRA</td>\n",
       "      <td>France</td>\n",
       "      <td>168.0</td>\n",
       "      <td>64.0</td>\n",
       "      <td>1978-03-20</td>\n",
       "      <td>Average</td>\n",
       "    </tr>\n",
       "    <tr>\n",
       "      <th>4</th>\n",
       "      <td>5</td>\n",
       "      <td>Albert Canet</td>\n",
       "      <td>1878-04-17</td>\n",
       "      <td>Wandsworth</td>\n",
       "      <td>England</td>\n",
       "      <td>GBR</td>\n",
       "      <td>France</td>\n",
       "      <td>NaN</td>\n",
       "      <td>NaN</td>\n",
       "      <td>1930-07-25</td>\n",
       "      <td>Unknown</td>\n",
       "    </tr>\n",
       "  </tbody>\n",
       "</table>\n",
       "</div>"
      ],
      "text/plain": [
       "   athlete_id                   name   born_date    born_city  \\\n",
       "0           1  Jean-François Blanchy  1886-12-12     Bordeaux   \n",
       "1           2         Arnaud Boetsch  1969-04-01       Meulan   \n",
       "2           3           Jean Borotra  1898-08-13     Biarritz   \n",
       "3           4        Jacques Brugnon  1895-05-11  Paris VIIIe   \n",
       "4           5           Albert Canet  1878-04-17   Wandsworth   \n",
       "\n",
       "            born_region born_country     NOC  height_cm  weight_kg  \\\n",
       "0               Gironde          FRA  France        NaN        NaN   \n",
       "1              Yvelines          FRA  France      183.0       76.0   \n",
       "2  Pyrénées-Atlantiques          FRA  France      183.0       76.0   \n",
       "3                 Paris          FRA  France      168.0       64.0   \n",
       "4               England          GBR  France        NaN        NaN   \n",
       "\n",
       "    died_date height_category  \n",
       "0  1960-10-02         Unknown  \n",
       "1         NaN         Average  \n",
       "2  1994-07-17         Average  \n",
       "3  1978-03-20         Average  \n",
       "4  1930-07-25         Unknown  "
      ]
     },
     "execution_count": 76,
     "metadata": {},
     "output_type": "execute_result"
    }
   ],
   "source": [
    "bios['height_category'] = bios['height_cm'].apply(lambda x: 'Short' if x < 165 else ('Average' if x < 185 else ('Tall' if x >= 185 else 'Unknown')))\n",
    "bios.head()"
   ]
  },
  {
   "cell_type": "markdown",
   "id": "d100e483",
   "metadata": {},
   "source": [
    "# Merge and concatenating data"
   ]
  },
  {
   "cell_type": "code",
   "execution_count": 77,
   "id": "9d773c89",
   "metadata": {},
   "outputs": [
    {
     "data": {
      "application/vnd.microsoft.datawrangler.viewer.v0+json": {
       "columns": [
        {
         "name": "index",
         "rawType": "int64",
         "type": "integer"
        },
        {
         "name": "NOC",
         "rawType": "object",
         "type": "string"
        },
        {
         "name": "region",
         "rawType": "object",
         "type": "string"
        },
        {
         "name": "notes",
         "rawType": "object",
         "type": "unknown"
        }
       ],
       "ref": "0959cb6c-2106-44bc-b572-5a9ab4576672",
       "rows": [
        [
         "0",
         "AFG",
         "Afghanistan",
         null
        ],
        [
         "1",
         "AHO",
         "Curacao",
         "Netherlands Antilles"
        ],
        [
         "2",
         "ALB",
         "Albania",
         null
        ],
        [
         "3",
         "ALG",
         "Algeria",
         null
        ],
        [
         "4",
         "AND",
         "Andorra",
         null
        ]
       ],
       "shape": {
        "columns": 3,
        "rows": 5
       }
      },
      "text/html": [
       "<div>\n",
       "<style scoped>\n",
       "    .dataframe tbody tr th:only-of-type {\n",
       "        vertical-align: middle;\n",
       "    }\n",
       "\n",
       "    .dataframe tbody tr th {\n",
       "        vertical-align: top;\n",
       "    }\n",
       "\n",
       "    .dataframe thead th {\n",
       "        text-align: right;\n",
       "    }\n",
       "</style>\n",
       "<table border=\"1\" class=\"dataframe\">\n",
       "  <thead>\n",
       "    <tr style=\"text-align: right;\">\n",
       "      <th></th>\n",
       "      <th>NOC</th>\n",
       "      <th>region</th>\n",
       "      <th>notes</th>\n",
       "    </tr>\n",
       "  </thead>\n",
       "  <tbody>\n",
       "    <tr>\n",
       "      <th>0</th>\n",
       "      <td>AFG</td>\n",
       "      <td>Afghanistan</td>\n",
       "      <td>NaN</td>\n",
       "    </tr>\n",
       "    <tr>\n",
       "      <th>1</th>\n",
       "      <td>AHO</td>\n",
       "      <td>Curacao</td>\n",
       "      <td>Netherlands Antilles</td>\n",
       "    </tr>\n",
       "    <tr>\n",
       "      <th>2</th>\n",
       "      <td>ALB</td>\n",
       "      <td>Albania</td>\n",
       "      <td>NaN</td>\n",
       "    </tr>\n",
       "    <tr>\n",
       "      <th>3</th>\n",
       "      <td>ALG</td>\n",
       "      <td>Algeria</td>\n",
       "      <td>NaN</td>\n",
       "    </tr>\n",
       "    <tr>\n",
       "      <th>4</th>\n",
       "      <td>AND</td>\n",
       "      <td>Andorra</td>\n",
       "      <td>NaN</td>\n",
       "    </tr>\n",
       "  </tbody>\n",
       "</table>\n",
       "</div>"
      ],
      "text/plain": [
       "   NOC       region                 notes\n",
       "0  AFG  Afghanistan                   NaN\n",
       "1  AHO      Curacao  Netherlands Antilles\n",
       "2  ALB      Albania                   NaN\n",
       "3  ALG      Algeria                   NaN\n",
       "4  AND      Andorra                   NaN"
      ]
     },
     "execution_count": 77,
     "metadata": {},
     "output_type": "execute_result"
    }
   ],
   "source": [
    "nocs = pd.read_csv('./data/noc_regions.csv')\n",
    "nocs.head()"
   ]
  },
  {
   "cell_type": "code",
   "execution_count": 78,
   "id": "7370a14d",
   "metadata": {},
   "outputs": [
    {
     "data": {
      "application/vnd.microsoft.datawrangler.viewer.v0+json": {
       "columns": [
        {
         "name": "index",
         "rawType": "int64",
         "type": "integer"
        },
        {
         "name": "athlete_id",
         "rawType": "int64",
         "type": "integer"
        },
        {
         "name": "name",
         "rawType": "object",
         "type": "string"
        },
        {
         "name": "born_date",
         "rawType": "object",
         "type": "string"
        },
        {
         "name": "born_city",
         "rawType": "object",
         "type": "string"
        },
        {
         "name": "born_region",
         "rawType": "object",
         "type": "string"
        },
        {
         "name": "born_country",
         "rawType": "object",
         "type": "string"
        },
        {
         "name": "NOC_x",
         "rawType": "object",
         "type": "string"
        },
        {
         "name": "height_cm",
         "rawType": "float64",
         "type": "float"
        },
        {
         "name": "weight_kg",
         "rawType": "float64",
         "type": "float"
        },
        {
         "name": "died_date",
         "rawType": "object",
         "type": "unknown"
        },
        {
         "name": "height_category",
         "rawType": "object",
         "type": "string"
        },
        {
         "name": "NOC_y",
         "rawType": "object",
         "type": "string"
        },
        {
         "name": "region",
         "rawType": "object",
         "type": "string"
        },
        {
         "name": "notes",
         "rawType": "object",
         "type": "unknown"
        }
       ],
       "ref": "35767d8a-30d9-4d51-a71c-f79aa4e66ee4",
       "rows": [
        [
         "0",
         "1",
         "Jean-François Blanchy",
         "1886-12-12",
         "Bordeaux",
         "Gironde",
         "FRA",
         "France",
         null,
         null,
         "1960-10-02",
         "Unknown",
         "FRA",
         "France",
         null
        ],
        [
         "1",
         "2",
         "Arnaud Boetsch",
         "1969-04-01",
         "Meulan",
         "Yvelines",
         "FRA",
         "France",
         "183.0",
         "76.0",
         null,
         "Average",
         "FRA",
         "France",
         null
        ],
        [
         "2",
         "3",
         "Jean Borotra",
         "1898-08-13",
         "Biarritz",
         "Pyrénées-Atlantiques",
         "FRA",
         "France",
         "183.0",
         "76.0",
         "1994-07-17",
         "Average",
         "FRA",
         "France",
         null
        ],
        [
         "3",
         "4",
         "Jacques Brugnon",
         "1895-05-11",
         "Paris VIIIe",
         "Paris",
         "FRA",
         "France",
         "168.0",
         "64.0",
         "1978-03-20",
         "Average",
         "FRA",
         "France",
         null
        ],
        [
         "4",
         "5",
         "Albert Canet",
         "1878-04-17",
         "Wandsworth",
         "England",
         "GBR",
         "France",
         null,
         null,
         "1930-07-25",
         "Unknown",
         "GBR",
         "UK",
         null
        ]
       ],
       "shape": {
        "columns": 14,
        "rows": 5
       }
      },
      "text/html": [
       "<div>\n",
       "<style scoped>\n",
       "    .dataframe tbody tr th:only-of-type {\n",
       "        vertical-align: middle;\n",
       "    }\n",
       "\n",
       "    .dataframe tbody tr th {\n",
       "        vertical-align: top;\n",
       "    }\n",
       "\n",
       "    .dataframe thead th {\n",
       "        text-align: right;\n",
       "    }\n",
       "</style>\n",
       "<table border=\"1\" class=\"dataframe\">\n",
       "  <thead>\n",
       "    <tr style=\"text-align: right;\">\n",
       "      <th></th>\n",
       "      <th>athlete_id</th>\n",
       "      <th>name</th>\n",
       "      <th>born_date</th>\n",
       "      <th>born_city</th>\n",
       "      <th>born_region</th>\n",
       "      <th>born_country</th>\n",
       "      <th>NOC_x</th>\n",
       "      <th>height_cm</th>\n",
       "      <th>weight_kg</th>\n",
       "      <th>died_date</th>\n",
       "      <th>height_category</th>\n",
       "      <th>NOC_y</th>\n",
       "      <th>region</th>\n",
       "      <th>notes</th>\n",
       "    </tr>\n",
       "  </thead>\n",
       "  <tbody>\n",
       "    <tr>\n",
       "      <th>0</th>\n",
       "      <td>1</td>\n",
       "      <td>Jean-François Blanchy</td>\n",
       "      <td>1886-12-12</td>\n",
       "      <td>Bordeaux</td>\n",
       "      <td>Gironde</td>\n",
       "      <td>FRA</td>\n",
       "      <td>France</td>\n",
       "      <td>NaN</td>\n",
       "      <td>NaN</td>\n",
       "      <td>1960-10-02</td>\n",
       "      <td>Unknown</td>\n",
       "      <td>FRA</td>\n",
       "      <td>France</td>\n",
       "      <td>NaN</td>\n",
       "    </tr>\n",
       "    <tr>\n",
       "      <th>1</th>\n",
       "      <td>2</td>\n",
       "      <td>Arnaud Boetsch</td>\n",
       "      <td>1969-04-01</td>\n",
       "      <td>Meulan</td>\n",
       "      <td>Yvelines</td>\n",
       "      <td>FRA</td>\n",
       "      <td>France</td>\n",
       "      <td>183.0</td>\n",
       "      <td>76.0</td>\n",
       "      <td>NaN</td>\n",
       "      <td>Average</td>\n",
       "      <td>FRA</td>\n",
       "      <td>France</td>\n",
       "      <td>NaN</td>\n",
       "    </tr>\n",
       "    <tr>\n",
       "      <th>2</th>\n",
       "      <td>3</td>\n",
       "      <td>Jean Borotra</td>\n",
       "      <td>1898-08-13</td>\n",
       "      <td>Biarritz</td>\n",
       "      <td>Pyrénées-Atlantiques</td>\n",
       "      <td>FRA</td>\n",
       "      <td>France</td>\n",
       "      <td>183.0</td>\n",
       "      <td>76.0</td>\n",
       "      <td>1994-07-17</td>\n",
       "      <td>Average</td>\n",
       "      <td>FRA</td>\n",
       "      <td>France</td>\n",
       "      <td>NaN</td>\n",
       "    </tr>\n",
       "    <tr>\n",
       "      <th>3</th>\n",
       "      <td>4</td>\n",
       "      <td>Jacques Brugnon</td>\n",
       "      <td>1895-05-11</td>\n",
       "      <td>Paris VIIIe</td>\n",
       "      <td>Paris</td>\n",
       "      <td>FRA</td>\n",
       "      <td>France</td>\n",
       "      <td>168.0</td>\n",
       "      <td>64.0</td>\n",
       "      <td>1978-03-20</td>\n",
       "      <td>Average</td>\n",
       "      <td>FRA</td>\n",
       "      <td>France</td>\n",
       "      <td>NaN</td>\n",
       "    </tr>\n",
       "    <tr>\n",
       "      <th>4</th>\n",
       "      <td>5</td>\n",
       "      <td>Albert Canet</td>\n",
       "      <td>1878-04-17</td>\n",
       "      <td>Wandsworth</td>\n",
       "      <td>England</td>\n",
       "      <td>GBR</td>\n",
       "      <td>France</td>\n",
       "      <td>NaN</td>\n",
       "      <td>NaN</td>\n",
       "      <td>1930-07-25</td>\n",
       "      <td>Unknown</td>\n",
       "      <td>GBR</td>\n",
       "      <td>UK</td>\n",
       "      <td>NaN</td>\n",
       "    </tr>\n",
       "  </tbody>\n",
       "</table>\n",
       "</div>"
      ],
      "text/plain": [
       "   athlete_id                   name   born_date    born_city  \\\n",
       "0           1  Jean-François Blanchy  1886-12-12     Bordeaux   \n",
       "1           2         Arnaud Boetsch  1969-04-01       Meulan   \n",
       "2           3           Jean Borotra  1898-08-13     Biarritz   \n",
       "3           4        Jacques Brugnon  1895-05-11  Paris VIIIe   \n",
       "4           5           Albert Canet  1878-04-17   Wandsworth   \n",
       "\n",
       "            born_region born_country   NOC_x  height_cm  weight_kg  \\\n",
       "0               Gironde          FRA  France        NaN        NaN   \n",
       "1              Yvelines          FRA  France      183.0       76.0   \n",
       "2  Pyrénées-Atlantiques          FRA  France      183.0       76.0   \n",
       "3                 Paris          FRA  France      168.0       64.0   \n",
       "4               England          GBR  France        NaN        NaN   \n",
       "\n",
       "    died_date height_category NOC_y  region notes  \n",
       "0  1960-10-02         Unknown   FRA  France   NaN  \n",
       "1         NaN         Average   FRA  France   NaN  \n",
       "2  1994-07-17         Average   FRA  France   NaN  \n",
       "3  1978-03-20         Average   FRA  France   NaN  \n",
       "4  1930-07-25         Unknown   GBR      UK   NaN  "
      ]
     },
     "execution_count": 78,
     "metadata": {},
     "output_type": "execute_result"
    }
   ],
   "source": [
    "bios_new = pd.merge(bios, nocs, left_on = 'born_country', right_on = 'NOC', how = 'left')\n",
    "bios_new.head()"
   ]
  },
  {
   "cell_type": "code",
   "execution_count": 80,
   "id": "68f65e87",
   "metadata": {},
   "outputs": [
    {
     "data": {
      "application/vnd.microsoft.datawrangler.viewer.v0+json": {
       "columns": [
        {
         "name": "index",
         "rawType": "int64",
         "type": "integer"
        },
        {
         "name": "athlete_id",
         "rawType": "int64",
         "type": "integer"
        },
        {
         "name": "name",
         "rawType": "object",
         "type": "string"
        },
        {
         "name": "born_date",
         "rawType": "object",
         "type": "string"
        },
        {
         "name": "born_city",
         "rawType": "object",
         "type": "string"
        },
        {
         "name": "born_region",
         "rawType": "object",
         "type": "string"
        },
        {
         "name": "born_country",
         "rawType": "object",
         "type": "string"
        },
        {
         "name": "NOC_x",
         "rawType": "object",
         "type": "string"
        },
        {
         "name": "height_cm",
         "rawType": "float64",
         "type": "float"
        },
        {
         "name": "weight_kg",
         "rawType": "float64",
         "type": "float"
        },
        {
         "name": "died_date",
         "rawType": "object",
         "type": "unknown"
        },
        {
         "name": "height_category",
         "rawType": "object",
         "type": "string"
        },
        {
         "name": "NOC_y",
         "rawType": "object",
         "type": "string"
        },
        {
         "name": "born_country_full",
         "rawType": "object",
         "type": "string"
        },
        {
         "name": "notes",
         "rawType": "object",
         "type": "unknown"
        }
       ],
       "ref": "0620f11a-d94d-4239-9217-d10a94032c8f",
       "rows": [
        [
         "0",
         "1",
         "Jean-François Blanchy",
         "1886-12-12",
         "Bordeaux",
         "Gironde",
         "FRA",
         "France",
         null,
         null,
         "1960-10-02",
         "Unknown",
         "FRA",
         "France",
         null
        ],
        [
         "1",
         "2",
         "Arnaud Boetsch",
         "1969-04-01",
         "Meulan",
         "Yvelines",
         "FRA",
         "France",
         "183.0",
         "76.0",
         null,
         "Average",
         "FRA",
         "France",
         null
        ],
        [
         "2",
         "3",
         "Jean Borotra",
         "1898-08-13",
         "Biarritz",
         "Pyrénées-Atlantiques",
         "FRA",
         "France",
         "183.0",
         "76.0",
         "1994-07-17",
         "Average",
         "FRA",
         "France",
         null
        ],
        [
         "3",
         "4",
         "Jacques Brugnon",
         "1895-05-11",
         "Paris VIIIe",
         "Paris",
         "FRA",
         "France",
         "168.0",
         "64.0",
         "1978-03-20",
         "Average",
         "FRA",
         "France",
         null
        ],
        [
         "4",
         "5",
         "Albert Canet",
         "1878-04-17",
         "Wandsworth",
         "England",
         "GBR",
         "France",
         null,
         null,
         "1930-07-25",
         "Unknown",
         "GBR",
         "UK",
         null
        ]
       ],
       "shape": {
        "columns": 14,
        "rows": 5
       }
      },
      "text/html": [
       "<div>\n",
       "<style scoped>\n",
       "    .dataframe tbody tr th:only-of-type {\n",
       "        vertical-align: middle;\n",
       "    }\n",
       "\n",
       "    .dataframe tbody tr th {\n",
       "        vertical-align: top;\n",
       "    }\n",
       "\n",
       "    .dataframe thead th {\n",
       "        text-align: right;\n",
       "    }\n",
       "</style>\n",
       "<table border=\"1\" class=\"dataframe\">\n",
       "  <thead>\n",
       "    <tr style=\"text-align: right;\">\n",
       "      <th></th>\n",
       "      <th>athlete_id</th>\n",
       "      <th>name</th>\n",
       "      <th>born_date</th>\n",
       "      <th>born_city</th>\n",
       "      <th>born_region</th>\n",
       "      <th>born_country</th>\n",
       "      <th>NOC_x</th>\n",
       "      <th>height_cm</th>\n",
       "      <th>weight_kg</th>\n",
       "      <th>died_date</th>\n",
       "      <th>height_category</th>\n",
       "      <th>NOC_y</th>\n",
       "      <th>born_country_full</th>\n",
       "      <th>notes</th>\n",
       "    </tr>\n",
       "  </thead>\n",
       "  <tbody>\n",
       "    <tr>\n",
       "      <th>0</th>\n",
       "      <td>1</td>\n",
       "      <td>Jean-François Blanchy</td>\n",
       "      <td>1886-12-12</td>\n",
       "      <td>Bordeaux</td>\n",
       "      <td>Gironde</td>\n",
       "      <td>FRA</td>\n",
       "      <td>France</td>\n",
       "      <td>NaN</td>\n",
       "      <td>NaN</td>\n",
       "      <td>1960-10-02</td>\n",
       "      <td>Unknown</td>\n",
       "      <td>FRA</td>\n",
       "      <td>France</td>\n",
       "      <td>NaN</td>\n",
       "    </tr>\n",
       "    <tr>\n",
       "      <th>1</th>\n",
       "      <td>2</td>\n",
       "      <td>Arnaud Boetsch</td>\n",
       "      <td>1969-04-01</td>\n",
       "      <td>Meulan</td>\n",
       "      <td>Yvelines</td>\n",
       "      <td>FRA</td>\n",
       "      <td>France</td>\n",
       "      <td>183.0</td>\n",
       "      <td>76.0</td>\n",
       "      <td>NaN</td>\n",
       "      <td>Average</td>\n",
       "      <td>FRA</td>\n",
       "      <td>France</td>\n",
       "      <td>NaN</td>\n",
       "    </tr>\n",
       "    <tr>\n",
       "      <th>2</th>\n",
       "      <td>3</td>\n",
       "      <td>Jean Borotra</td>\n",
       "      <td>1898-08-13</td>\n",
       "      <td>Biarritz</td>\n",
       "      <td>Pyrénées-Atlantiques</td>\n",
       "      <td>FRA</td>\n",
       "      <td>France</td>\n",
       "      <td>183.0</td>\n",
       "      <td>76.0</td>\n",
       "      <td>1994-07-17</td>\n",
       "      <td>Average</td>\n",
       "      <td>FRA</td>\n",
       "      <td>France</td>\n",
       "      <td>NaN</td>\n",
       "    </tr>\n",
       "    <tr>\n",
       "      <th>3</th>\n",
       "      <td>4</td>\n",
       "      <td>Jacques Brugnon</td>\n",
       "      <td>1895-05-11</td>\n",
       "      <td>Paris VIIIe</td>\n",
       "      <td>Paris</td>\n",
       "      <td>FRA</td>\n",
       "      <td>France</td>\n",
       "      <td>168.0</td>\n",
       "      <td>64.0</td>\n",
       "      <td>1978-03-20</td>\n",
       "      <td>Average</td>\n",
       "      <td>FRA</td>\n",
       "      <td>France</td>\n",
       "      <td>NaN</td>\n",
       "    </tr>\n",
       "    <tr>\n",
       "      <th>4</th>\n",
       "      <td>5</td>\n",
       "      <td>Albert Canet</td>\n",
       "      <td>1878-04-17</td>\n",
       "      <td>Wandsworth</td>\n",
       "      <td>England</td>\n",
       "      <td>GBR</td>\n",
       "      <td>France</td>\n",
       "      <td>NaN</td>\n",
       "      <td>NaN</td>\n",
       "      <td>1930-07-25</td>\n",
       "      <td>Unknown</td>\n",
       "      <td>GBR</td>\n",
       "      <td>UK</td>\n",
       "      <td>NaN</td>\n",
       "    </tr>\n",
       "  </tbody>\n",
       "</table>\n",
       "</div>"
      ],
      "text/plain": [
       "   athlete_id                   name   born_date    born_city  \\\n",
       "0           1  Jean-François Blanchy  1886-12-12     Bordeaux   \n",
       "1           2         Arnaud Boetsch  1969-04-01       Meulan   \n",
       "2           3           Jean Borotra  1898-08-13     Biarritz   \n",
       "3           4        Jacques Brugnon  1895-05-11  Paris VIIIe   \n",
       "4           5           Albert Canet  1878-04-17   Wandsworth   \n",
       "\n",
       "            born_region born_country   NOC_x  height_cm  weight_kg  \\\n",
       "0               Gironde          FRA  France        NaN        NaN   \n",
       "1              Yvelines          FRA  France      183.0       76.0   \n",
       "2  Pyrénées-Atlantiques          FRA  France      183.0       76.0   \n",
       "3                 Paris          FRA  France      168.0       64.0   \n",
       "4               England          GBR  France        NaN        NaN   \n",
       "\n",
       "    died_date height_category NOC_y born_country_full notes  \n",
       "0  1960-10-02         Unknown   FRA            France   NaN  \n",
       "1         NaN         Average   FRA            France   NaN  \n",
       "2  1994-07-17         Average   FRA            France   NaN  \n",
       "3  1978-03-20         Average   FRA            France   NaN  \n",
       "4  1930-07-25         Unknown   GBR                UK   NaN  "
      ]
     },
     "execution_count": 80,
     "metadata": {},
     "output_type": "execute_result"
    }
   ],
   "source": [
    "bios_new.rename(columns = {'region' : 'born_country_full'}, inplace=True)\n",
    "bios_new.head()"
   ]
  },
  {
   "cell_type": "code",
   "execution_count": null,
   "id": "aec3114c",
   "metadata": {},
   "outputs": [],
   "source": [
    "usa = bios[bios['born_country'] == 'USA'].copy()\n",
    "chn = bios[bios['born_country'] == 'CHN'].copy()"
   ]
  },
  {
   "cell_type": "code",
   "execution_count": 85,
   "id": "4bb06a49",
   "metadata": {},
   "outputs": [
    {
     "data": {
      "application/vnd.microsoft.datawrangler.viewer.v0+json": {
       "columns": [
        {
         "name": "index",
         "rawType": "int64",
         "type": "integer"
        },
        {
         "name": "athlete_id",
         "rawType": "int64",
         "type": "integer"
        },
        {
         "name": "name",
         "rawType": "object",
         "type": "string"
        },
        {
         "name": "born_date",
         "rawType": "object",
         "type": "string"
        },
        {
         "name": "born_city",
         "rawType": "object",
         "type": "string"
        },
        {
         "name": "born_region",
         "rawType": "object",
         "type": "string"
        },
        {
         "name": "born_country",
         "rawType": "object",
         "type": "string"
        },
        {
         "name": "NOC",
         "rawType": "object",
         "type": "string"
        },
        {
         "name": "height_cm",
         "rawType": "float64",
         "type": "float"
        },
        {
         "name": "weight_kg",
         "rawType": "float64",
         "type": "float"
        },
        {
         "name": "died_date",
         "rawType": "object",
         "type": "unknown"
        },
        {
         "name": "height_category",
         "rawType": "object",
         "type": "string"
        }
       ],
       "ref": "e644cbcc-913e-464f-a898-773875cd83d6",
       "rows": [
        [
         "54",
         "55",
         "Monique Javer",
         "1967-07-22",
         "Burlingame",
         "California",
         "USA",
         "Great Britain",
         "177.0",
         "64.0",
         null,
         "Average"
        ],
        [
         "960",
         "964",
         "Xóchitl Escobedo",
         "1968-09-17",
         "West Covina",
         "California",
         "USA",
         "Mexico",
         "170.0",
         "60.0",
         null,
         "Average"
        ],
        [
         "961",
         "965",
         "Angélica Gavaldón",
         "1973-10-03",
         "El Centro",
         "California",
         "USA",
         "Mexico",
         "160.0",
         "54.0",
         null,
         "Short"
        ],
        [
         "1231",
         "1238",
         "Bert Schneider",
         "1897-07-01",
         "Cleveland",
         "Ohio",
         "USA",
         "Canada",
         null,
         null,
         "1986-02-20",
         "Unknown"
        ],
        [
         "1345",
         "1352",
         "Laura Berg",
         "1975-01-06",
         "Santa Fe Springs",
         "California",
         "USA",
         "United States",
         "168.0",
         "61.0",
         null,
         "Average"
        ],
        [
         "1346",
         "1353",
         "Gillian Boxx",
         "1973-09-01",
         "Fontana",
         "California",
         "USA",
         "United States",
         "170.0",
         null,
         null,
         "Average"
        ],
        [
         "1356",
         "1363",
         "Sheila Cornell-Douty",
         "1962-02-26",
         "Encino",
         "California",
         "USA",
         "United States",
         "175.0",
         "81.0",
         null,
         "Average"
        ],
        [
         "1365",
         "1372",
         "Lisa Fernandez",
         "1971-02-22",
         "Long Beach",
         "California",
         "USA",
         "United States",
         "167.0",
         "77.0",
         null,
         "Average"
        ],
        [
         "1371",
         "1378",
         "Michele Granger",
         "1970-01-15",
         "Placentia",
         "California",
         "USA",
         "United States",
         "180.0",
         null,
         null,
         "Average"
        ],
        [
         "1375",
         "1382",
         "Lori Harrigan",
         "1970-09-05",
         "Anaheim",
         "California",
         "USA",
         "United States",
         "182.0",
         "99.0",
         null,
         "Average"
        ],
        [
         "1376",
         "1383",
         "Dionna Harris",
         "1968-03-04",
         "Wilmington",
         "Delaware",
         "USA",
         "United States",
         "160.0",
         null,
         null,
         "Short"
        ],
        [
         "1408",
         "1415",
         "Leah O'Brien-Amico",
         "1974-09-09",
         "Garden Grove",
         "California",
         "USA",
         "United States",
         "175.0",
         "65.0",
         null,
         "Average"
        ],
        [
         "1419",
         "1426",
         "Dot Richardson",
         "1961-09-22",
         "Orlando",
         "Florida",
         "USA",
         "United States",
         "175.0",
         "60.0",
         null,
         "Average"
        ],
        [
         "1426",
         "1433",
         "Julie Smith",
         "1968-05-10",
         "Glendora",
         "California",
         "USA",
         "United States",
         "162.0",
         null,
         null,
         "Short"
        ],
        [
         "1427",
         "1434",
         "Michele Smith",
         "1967-06-21",
         "Plainfield",
         "New Jersey",
         "USA",
         "United States",
         "177.0",
         "70.0",
         null,
         "Average"
        ],
        [
         "1433",
         "1440",
         "Shelly Stokes",
         "1967-10-26",
         "Sacramento",
         "California",
         "USA",
         "United States",
         "165.0",
         null,
         null,
         "Average"
        ],
        [
         "1452",
         "1459",
         "Christa Williams",
         "1978-02-08",
         "Houston",
         "Texas",
         "USA",
         "United States",
         "172.0",
         "72.0",
         null,
         "Average"
        ],
        [
         "1989",
         "1999",
         "Rafael Aveleyra",
         "1932-07-29",
         "Chicago",
         "Illinois",
         "USA",
         "Mexico",
         "180.0",
         null,
         null,
         "Average"
        ],
        [
         "2193",
         "2203",
         "Judi Adams",
         "1959-07-12",
         "Phoenix",
         "Arizona",
         "USA",
         "United States",
         null,
         null,
         null,
         "Unknown"
        ],
        [
         "2194",
         "2204",
         "Maureen Bechdolt",
         "1952-07-17",
         "Dayton",
         "Ohio",
         "USA",
         "United States",
         "160.0",
         "61.0",
         null,
         "Short"
        ],
        [
         "2195",
         "2205",
         "Sherry Block",
         "1971-02-10",
         "Denver",
         "Colorado",
         "USA",
         "United States",
         "162.0",
         "64.0",
         null,
         "Short"
        ],
        [
         "2196",
         "2206",
         "Emma Cooke",
         "1848-09-07",
         "Fayetteville",
         "Pennsylvania",
         "USA",
         "United States",
         null,
         null,
         "1929-01-22",
         "Unknown"
        ],
        [
         "2197",
         "2207",
         "Janet Dykman",
         "1954-01-17",
         "Monterey Park",
         "California",
         "USA",
         "United States",
         "167.0",
         "65.0",
         null,
         "Average"
        ],
        [
         "2198",
         "2208",
         "Benita Edds",
         "1958-06-12",
         "Sullivan",
         "Indiana",
         "USA",
         "United States",
         "175.0",
         "72.0",
         null,
         "Average"
        ],
        [
         "2199",
         "2209",
         "Lida Howell",
         "1859-08-28",
         "Lebanon",
         "Ohio",
         "USA",
         "United States",
         null,
         null,
         "1938-12-20",
         "Unknown"
        ],
        [
         "2200",
         "2210",
         "Trena King",
         "1958-01-17",
         "Kingwood",
         "West Virginia",
         "USA",
         "United States",
         "172.0",
         "68.0",
         null,
         "Average"
        ],
        [
         "2201",
         "2211",
         "Linda Myers",
         "1947-06-19",
         "York",
         "Pennsylvania",
         "USA",
         "United States",
         "170.0",
         "62.0",
         null,
         "Average"
        ],
        [
         "2202",
         "2212",
         "Jennifer O'Donnell",
         "1973-10-12",
         "Farmington",
         "Michigan",
         "USA",
         "United States",
         "175.0",
         "81.0",
         null,
         "Average"
        ],
        [
         "2203",
         "2213",
         "Debra Ochs",
         "1966-01-30",
         "Howell",
         "Michigan",
         "USA",
         "United States",
         "170.0",
         "55.0",
         null,
         "Average"
        ],
        [
         "2204",
         "2214",
         "Denise Parker",
         "1973-12-12",
         "Salt Lake City",
         "Utah",
         "USA",
         "United States",
         "165.0",
         "59.0",
         null,
         "Average"
        ],
        [
         "2205",
         "2215",
         "Eliza Pollock",
         "1840-10-24",
         "Hamilton",
         "Ohio",
         "USA",
         "United States",
         null,
         null,
         "1919-05-25",
         "Unknown"
        ],
        [
         "2206",
         "2216",
         "Ruth Rowe",
         "1947-03-11",
         "Pittsburgh",
         "Pennsylvania",
         "USA",
         "United States",
         "185.0",
         "63.0",
         null,
         "Tall"
        ],
        [
         "2207",
         "2217",
         "Luann Ryon",
         "1953-01-13",
         "Long Beach",
         "California",
         "USA",
         "United States",
         "175.0",
         "72.0",
         "2022-12-27",
         "Average"
        ],
        [
         "2208",
         "2218",
         "Melanie Skillman",
         "1954-09-23",
         "Reading",
         "Pennsylvania",
         "USA",
         "United States",
         "155.0",
         "59.0",
         null,
         "Short"
        ],
        [
         "2209",
         "2219",
         "Leonie Taylor",
         "1870-01-01",
         "Cincinnati",
         "Ohio",
         "USA",
         "United States",
         null,
         null,
         "1936-03-09",
         "Unknown"
        ],
        [
         "2210",
         "2220",
         "Mabel Taylor",
         "1879-12-07",
         "Cincinnati",
         "Ohio",
         "USA",
         "United States",
         null,
         null,
         "1967-07-01",
         "Unknown"
        ],
        [
         "2211",
         "2221",
         "Doreen Wilber",
         "1930-01-08",
         "Rutland",
         "Iowa",
         "USA",
         "United States",
         "167.0",
         "60.0",
         "2008-10-19",
         "Average"
        ],
        [
         "2212",
         "2222",
         "Emily Woodruff",
         "1846-04-19",
         "Cincinnati",
         "Ohio",
         "USA",
         "United States",
         null,
         null,
         "1916-03-28",
         "Unknown"
        ],
        [
         "2213",
         "2223",
         "Jay Barrs",
         "1962-07-17",
         "Jacksonville",
         "Florida",
         "USA",
         "United States",
         "182.0",
         "70.0",
         null,
         "Average"
        ],
        [
         "2214",
         "2224",
         "Edward Bruce",
         "1861-05-10",
         "Aurora",
         "Illinois",
         "USA",
         "United States",
         null,
         null,
         "1919-09-08",
         "Unknown"
        ],
        [
         "2215",
         "2225",
         "Phil Bryant",
         "1878-02-22",
         "Melrose",
         "Massachusetts",
         "USA",
         "United States",
         null,
         null,
         "1938-04-18",
         "Unknown"
        ],
        [
         "2216",
         "2226",
         "Wallace Bryant",
         "1863-12-19",
         "Melrose",
         "Massachusetts",
         "USA",
         "United States",
         "169.0",
         null,
         "1953-05-02",
         "Average"
        ],
        [
         "2217",
         "2227",
         "Amos Casselman",
         "1850-11-14",
         "Canton",
         "Ohio",
         "USA",
         "United States",
         null,
         null,
         "1929-11-30",
         "Unknown"
        ],
        [
         "2218",
         "2228",
         "William Clark",
         "1842-01-01",
         "Cincinnati",
         "Ohio",
         "USA",
         "United States",
         null,
         null,
         "1913-10-20",
         "Unknown"
        ],
        [
         "2219",
         "2229",
         "Cyrus Dallin",
         "1861-11-22",
         "Springville",
         "Utah",
         "USA",
         "United States",
         "174.0",
         null,
         "1944-11-14",
         "Average"
        ],
        [
         "2220",
         "2230",
         "Samuel Duvall",
         "1836-03-11",
         "Liberty",
         "Indiana",
         "USA",
         "United States",
         null,
         null,
         "1908-09-26",
         "Unknown"
        ],
        [
         "2221",
         "2231",
         "Ed Eliason",
         "1938-05-01",
         "Port Gamble",
         "Washington",
         "USA",
         "United States",
         "189.0",
         "86.0",
         null,
         "Tall"
        ],
        [
         "2223",
         "2233",
         "Charles Hubbard",
         "1849-08-20",
         "Cincinnati",
         "Ohio",
         "USA",
         "United States",
         null,
         null,
         "1923-03-28",
         "Unknown"
        ],
        [
         "2224",
         "2234",
         "Justin Huish",
         "1975-01-09",
         "Fountain Valley",
         "California",
         "USA",
         "United States",
         "177.0",
         "79.0",
         null,
         "Average"
        ],
        [
         "2225",
         "2235",
         "Butch Johnson",
         "1955-08-30",
         "Worcester",
         "Massachusetts",
         "USA",
         "United States",
         "191.0",
         "98.0",
         null,
         "Tall"
        ]
       ],
       "shape": {
        "columns": 11,
        "rows": 11666
       }
      },
      "text/html": [
       "<div>\n",
       "<style scoped>\n",
       "    .dataframe tbody tr th:only-of-type {\n",
       "        vertical-align: middle;\n",
       "    }\n",
       "\n",
       "    .dataframe tbody tr th {\n",
       "        vertical-align: top;\n",
       "    }\n",
       "\n",
       "    .dataframe thead th {\n",
       "        text-align: right;\n",
       "    }\n",
       "</style>\n",
       "<table border=\"1\" class=\"dataframe\">\n",
       "  <thead>\n",
       "    <tr style=\"text-align: right;\">\n",
       "      <th></th>\n",
       "      <th>athlete_id</th>\n",
       "      <th>name</th>\n",
       "      <th>born_date</th>\n",
       "      <th>born_city</th>\n",
       "      <th>born_region</th>\n",
       "      <th>born_country</th>\n",
       "      <th>NOC</th>\n",
       "      <th>height_cm</th>\n",
       "      <th>weight_kg</th>\n",
       "      <th>died_date</th>\n",
       "      <th>height_category</th>\n",
       "    </tr>\n",
       "  </thead>\n",
       "  <tbody>\n",
       "    <tr>\n",
       "      <th>54</th>\n",
       "      <td>55</td>\n",
       "      <td>Monique Javer</td>\n",
       "      <td>1967-07-22</td>\n",
       "      <td>Burlingame</td>\n",
       "      <td>California</td>\n",
       "      <td>USA</td>\n",
       "      <td>Great Britain</td>\n",
       "      <td>177.0</td>\n",
       "      <td>64.0</td>\n",
       "      <td>NaN</td>\n",
       "      <td>Average</td>\n",
       "    </tr>\n",
       "    <tr>\n",
       "      <th>960</th>\n",
       "      <td>964</td>\n",
       "      <td>Xóchitl Escobedo</td>\n",
       "      <td>1968-09-17</td>\n",
       "      <td>West Covina</td>\n",
       "      <td>California</td>\n",
       "      <td>USA</td>\n",
       "      <td>Mexico</td>\n",
       "      <td>170.0</td>\n",
       "      <td>60.0</td>\n",
       "      <td>NaN</td>\n",
       "      <td>Average</td>\n",
       "    </tr>\n",
       "    <tr>\n",
       "      <th>961</th>\n",
       "      <td>965</td>\n",
       "      <td>Angélica Gavaldón</td>\n",
       "      <td>1973-10-03</td>\n",
       "      <td>El Centro</td>\n",
       "      <td>California</td>\n",
       "      <td>USA</td>\n",
       "      <td>Mexico</td>\n",
       "      <td>160.0</td>\n",
       "      <td>54.0</td>\n",
       "      <td>NaN</td>\n",
       "      <td>Short</td>\n",
       "    </tr>\n",
       "    <tr>\n",
       "      <th>1231</th>\n",
       "      <td>1238</td>\n",
       "      <td>Bert Schneider</td>\n",
       "      <td>1897-07-01</td>\n",
       "      <td>Cleveland</td>\n",
       "      <td>Ohio</td>\n",
       "      <td>USA</td>\n",
       "      <td>Canada</td>\n",
       "      <td>NaN</td>\n",
       "      <td>NaN</td>\n",
       "      <td>1986-02-20</td>\n",
       "      <td>Unknown</td>\n",
       "    </tr>\n",
       "    <tr>\n",
       "      <th>1345</th>\n",
       "      <td>1352</td>\n",
       "      <td>Laura Berg</td>\n",
       "      <td>1975-01-06</td>\n",
       "      <td>Santa Fe Springs</td>\n",
       "      <td>California</td>\n",
       "      <td>USA</td>\n",
       "      <td>United States</td>\n",
       "      <td>168.0</td>\n",
       "      <td>61.0</td>\n",
       "      <td>NaN</td>\n",
       "      <td>Average</td>\n",
       "    </tr>\n",
       "    <tr>\n",
       "      <th>...</th>\n",
       "      <td>...</td>\n",
       "      <td>...</td>\n",
       "      <td>...</td>\n",
       "      <td>...</td>\n",
       "      <td>...</td>\n",
       "      <td>...</td>\n",
       "      <td>...</td>\n",
       "      <td>...</td>\n",
       "      <td>...</td>\n",
       "      <td>...</td>\n",
       "      <td>...</td>\n",
       "    </tr>\n",
       "    <tr>\n",
       "      <th>144437</th>\n",
       "      <td>148129</td>\n",
       "      <td>Ning Zhongyan</td>\n",
       "      <td>1999-11-03</td>\n",
       "      <td>Mudanjiang</td>\n",
       "      <td>Heilongjiang</td>\n",
       "      <td>CHN</td>\n",
       "      <td>People's Republic of China</td>\n",
       "      <td>178.0</td>\n",
       "      <td>NaN</td>\n",
       "      <td>NaN</td>\n",
       "      <td>Average</td>\n",
       "    </tr>\n",
       "    <tr>\n",
       "      <th>144440</th>\n",
       "      <td>148132</td>\n",
       "      <td>Zhang Yuting</td>\n",
       "      <td>1999-08-04</td>\n",
       "      <td>Harbin</td>\n",
       "      <td>Heilongjiang</td>\n",
       "      <td>CHN</td>\n",
       "      <td>People's Republic of China</td>\n",
       "      <td>NaN</td>\n",
       "      <td>NaN</td>\n",
       "      <td>NaN</td>\n",
       "      <td>Unknown</td>\n",
       "    </tr>\n",
       "    <tr>\n",
       "      <th>144441</th>\n",
       "      <td>148133</td>\n",
       "      <td>Li Wenlong</td>\n",
       "      <td>2001-02-04</td>\n",
       "      <td>Fushun</td>\n",
       "      <td>Liaoning</td>\n",
       "      <td>CHN</td>\n",
       "      <td>People's Republic of China</td>\n",
       "      <td>NaN</td>\n",
       "      <td>NaN</td>\n",
       "      <td>NaN</td>\n",
       "      <td>Unknown</td>\n",
       "    </tr>\n",
       "    <tr>\n",
       "      <th>144442</th>\n",
       "      <td>148134</td>\n",
       "      <td>Sun Long</td>\n",
       "      <td>2000-08-28</td>\n",
       "      <td>Changchun</td>\n",
       "      <td>Jilin</td>\n",
       "      <td>CHN</td>\n",
       "      <td>People's Republic of China</td>\n",
       "      <td>NaN</td>\n",
       "      <td>NaN</td>\n",
       "      <td>NaN</td>\n",
       "      <td>Unknown</td>\n",
       "    </tr>\n",
       "    <tr>\n",
       "      <th>145482</th>\n",
       "      <td>149209</td>\n",
       "      <td>Jiang Dongxu</td>\n",
       "      <td>1993-03-03</td>\n",
       "      <td>Harbin</td>\n",
       "      <td>Heilongjiang</td>\n",
       "      <td>CHN</td>\n",
       "      <td>People's Republic of China</td>\n",
       "      <td>NaN</td>\n",
       "      <td>NaN</td>\n",
       "      <td>NaN</td>\n",
       "      <td>Unknown</td>\n",
       "    </tr>\n",
       "  </tbody>\n",
       "</table>\n",
       "<p>11666 rows × 11 columns</p>\n",
       "</div>"
      ],
      "text/plain": [
       "        athlete_id               name   born_date         born_city  \\\n",
       "54              55      Monique Javer  1967-07-22        Burlingame   \n",
       "960            964   Xóchitl Escobedo  1968-09-17       West Covina   \n",
       "961            965  Angélica Gavaldón  1973-10-03         El Centro   \n",
       "1231          1238     Bert Schneider  1897-07-01         Cleveland   \n",
       "1345          1352         Laura Berg  1975-01-06  Santa Fe Springs   \n",
       "...            ...                ...         ...               ...   \n",
       "144437      148129      Ning Zhongyan  1999-11-03        Mudanjiang   \n",
       "144440      148132       Zhang Yuting  1999-08-04            Harbin   \n",
       "144441      148133         Li Wenlong  2001-02-04            Fushun   \n",
       "144442      148134           Sun Long  2000-08-28         Changchun   \n",
       "145482      149209       Jiang Dongxu  1993-03-03            Harbin   \n",
       "\n",
       "         born_region born_country                         NOC  height_cm  \\\n",
       "54        California          USA               Great Britain      177.0   \n",
       "960       California          USA                      Mexico      170.0   \n",
       "961       California          USA                      Mexico      160.0   \n",
       "1231            Ohio          USA                      Canada        NaN   \n",
       "1345      California          USA               United States      168.0   \n",
       "...              ...          ...                         ...        ...   \n",
       "144437  Heilongjiang          CHN  People's Republic of China      178.0   \n",
       "144440  Heilongjiang          CHN  People's Republic of China        NaN   \n",
       "144441      Liaoning          CHN  People's Republic of China        NaN   \n",
       "144442         Jilin          CHN  People's Republic of China        NaN   \n",
       "145482  Heilongjiang          CHN  People's Republic of China        NaN   \n",
       "\n",
       "        weight_kg   died_date height_category  \n",
       "54           64.0         NaN         Average  \n",
       "960          60.0         NaN         Average  \n",
       "961          54.0         NaN           Short  \n",
       "1231          NaN  1986-02-20         Unknown  \n",
       "1345         61.0         NaN         Average  \n",
       "...           ...         ...             ...  \n",
       "144437        NaN         NaN         Average  \n",
       "144440        NaN         NaN         Unknown  \n",
       "144441        NaN         NaN         Unknown  \n",
       "144442        NaN         NaN         Unknown  \n",
       "145482        NaN         NaN         Unknown  \n",
       "\n",
       "[11666 rows x 11 columns]"
      ]
     },
     "execution_count": 85,
     "metadata": {},
     "output_type": "execute_result"
    }
   ],
   "source": [
    "df_usa_chn = pd.concat([usa, chn])\n",
    "df_usa_chn"
   ]
  },
  {
   "cell_type": "markdown",
   "id": "3feebdb0",
   "metadata": {},
   "source": [
    "# Handling null values"
   ]
  },
  {
   "cell_type": "code",
   "execution_count": 89,
   "id": "09198018",
   "metadata": {},
   "outputs": [
    {
     "data": {
      "application/vnd.microsoft.datawrangler.viewer.v0+json": {
       "columns": [
        {
         "name": "index",
         "rawType": "int64",
         "type": "integer"
        },
        {
         "name": "Day",
         "rawType": "object",
         "type": "string"
        },
        {
         "name": "Coffee Type",
         "rawType": "object",
         "type": "string"
        },
        {
         "name": "Units Sold",
         "rawType": "float64",
         "type": "float"
        },
        {
         "name": "price",
         "rawType": "float64",
         "type": "float"
        },
        {
         "name": "revenue",
         "rawType": "float64",
         "type": "float"
        }
       ],
       "ref": "c45a3fe5-7f69-4303-a169-5d8a30994ba0",
       "rows": [
        [
         "0",
         "Monday",
         "Espresso",
         null,
         "3.99",
         "99.75"
        ],
        [
         "1",
         "Monday",
         "Latte",
         null,
         "5.99",
         "89.85000000000001"
        ],
        [
         "2",
         "Tuesday",
         "Espresso",
         "30.0",
         "3.99",
         "119.7"
        ],
        [
         "3",
         "Tuesday",
         "Latte",
         "20.0",
         "5.99",
         "119.80000000000001"
        ],
        [
         "4",
         "Wednesday",
         "Espresso",
         "35.0",
         "3.99",
         "139.65"
        ],
        [
         "5",
         "Wednesday",
         "Latte",
         "25.0",
         "5.99",
         "149.75"
        ],
        [
         "6",
         "Thursday",
         "Espresso",
         "40.0",
         "3.99",
         "159.60000000000002"
        ],
        [
         "7",
         "Thursday",
         "Latte",
         "30.0",
         "5.99",
         "179.70000000000002"
        ],
        [
         "8",
         "Friday",
         "Espresso",
         "45.0",
         "3.99",
         "179.55"
        ],
        [
         "9",
         "Friday",
         "Latte",
         "35.0",
         "5.99",
         "209.65"
        ],
        [
         "10",
         "Saturday",
         "Espresso",
         "45.0",
         "3.99",
         "179.55"
        ],
        [
         "11",
         "Saturday",
         "Latte",
         "35.0",
         "5.99",
         "209.65"
        ],
        [
         "12",
         "Sunday",
         "Espresso",
         "45.0",
         "3.99",
         "179.55"
        ],
        [
         "13",
         "Sunday",
         "Latte",
         "35.0",
         "5.99",
         "209.65"
        ]
       ],
       "shape": {
        "columns": 5,
        "rows": 14
       }
      },
      "text/html": [
       "<div>\n",
       "<style scoped>\n",
       "    .dataframe tbody tr th:only-of-type {\n",
       "        vertical-align: middle;\n",
       "    }\n",
       "\n",
       "    .dataframe tbody tr th {\n",
       "        vertical-align: top;\n",
       "    }\n",
       "\n",
       "    .dataframe thead th {\n",
       "        text-align: right;\n",
       "    }\n",
       "</style>\n",
       "<table border=\"1\" class=\"dataframe\">\n",
       "  <thead>\n",
       "    <tr style=\"text-align: right;\">\n",
       "      <th></th>\n",
       "      <th>Day</th>\n",
       "      <th>Coffee Type</th>\n",
       "      <th>Units Sold</th>\n",
       "      <th>price</th>\n",
       "      <th>revenue</th>\n",
       "    </tr>\n",
       "  </thead>\n",
       "  <tbody>\n",
       "    <tr>\n",
       "      <th>0</th>\n",
       "      <td>Monday</td>\n",
       "      <td>Espresso</td>\n",
       "      <td>NaN</td>\n",
       "      <td>3.99</td>\n",
       "      <td>99.75</td>\n",
       "    </tr>\n",
       "    <tr>\n",
       "      <th>1</th>\n",
       "      <td>Monday</td>\n",
       "      <td>Latte</td>\n",
       "      <td>NaN</td>\n",
       "      <td>5.99</td>\n",
       "      <td>89.85</td>\n",
       "    </tr>\n",
       "    <tr>\n",
       "      <th>2</th>\n",
       "      <td>Tuesday</td>\n",
       "      <td>Espresso</td>\n",
       "      <td>30.0</td>\n",
       "      <td>3.99</td>\n",
       "      <td>119.70</td>\n",
       "    </tr>\n",
       "    <tr>\n",
       "      <th>3</th>\n",
       "      <td>Tuesday</td>\n",
       "      <td>Latte</td>\n",
       "      <td>20.0</td>\n",
       "      <td>5.99</td>\n",
       "      <td>119.80</td>\n",
       "    </tr>\n",
       "    <tr>\n",
       "      <th>4</th>\n",
       "      <td>Wednesday</td>\n",
       "      <td>Espresso</td>\n",
       "      <td>35.0</td>\n",
       "      <td>3.99</td>\n",
       "      <td>139.65</td>\n",
       "    </tr>\n",
       "    <tr>\n",
       "      <th>5</th>\n",
       "      <td>Wednesday</td>\n",
       "      <td>Latte</td>\n",
       "      <td>25.0</td>\n",
       "      <td>5.99</td>\n",
       "      <td>149.75</td>\n",
       "    </tr>\n",
       "    <tr>\n",
       "      <th>6</th>\n",
       "      <td>Thursday</td>\n",
       "      <td>Espresso</td>\n",
       "      <td>40.0</td>\n",
       "      <td>3.99</td>\n",
       "      <td>159.60</td>\n",
       "    </tr>\n",
       "    <tr>\n",
       "      <th>7</th>\n",
       "      <td>Thursday</td>\n",
       "      <td>Latte</td>\n",
       "      <td>30.0</td>\n",
       "      <td>5.99</td>\n",
       "      <td>179.70</td>\n",
       "    </tr>\n",
       "    <tr>\n",
       "      <th>8</th>\n",
       "      <td>Friday</td>\n",
       "      <td>Espresso</td>\n",
       "      <td>45.0</td>\n",
       "      <td>3.99</td>\n",
       "      <td>179.55</td>\n",
       "    </tr>\n",
       "    <tr>\n",
       "      <th>9</th>\n",
       "      <td>Friday</td>\n",
       "      <td>Latte</td>\n",
       "      <td>35.0</td>\n",
       "      <td>5.99</td>\n",
       "      <td>209.65</td>\n",
       "    </tr>\n",
       "    <tr>\n",
       "      <th>10</th>\n",
       "      <td>Saturday</td>\n",
       "      <td>Espresso</td>\n",
       "      <td>45.0</td>\n",
       "      <td>3.99</td>\n",
       "      <td>179.55</td>\n",
       "    </tr>\n",
       "    <tr>\n",
       "      <th>11</th>\n",
       "      <td>Saturday</td>\n",
       "      <td>Latte</td>\n",
       "      <td>35.0</td>\n",
       "      <td>5.99</td>\n",
       "      <td>209.65</td>\n",
       "    </tr>\n",
       "    <tr>\n",
       "      <th>12</th>\n",
       "      <td>Sunday</td>\n",
       "      <td>Espresso</td>\n",
       "      <td>45.0</td>\n",
       "      <td>3.99</td>\n",
       "      <td>179.55</td>\n",
       "    </tr>\n",
       "    <tr>\n",
       "      <th>13</th>\n",
       "      <td>Sunday</td>\n",
       "      <td>Latte</td>\n",
       "      <td>35.0</td>\n",
       "      <td>5.99</td>\n",
       "      <td>209.65</td>\n",
       "    </tr>\n",
       "  </tbody>\n",
       "</table>\n",
       "</div>"
      ],
      "text/plain": [
       "          Day Coffee Type  Units Sold  price  revenue\n",
       "0      Monday    Espresso         NaN   3.99    99.75\n",
       "1      Monday       Latte         NaN   5.99    89.85\n",
       "2     Tuesday    Espresso        30.0   3.99   119.70\n",
       "3     Tuesday       Latte        20.0   5.99   119.80\n",
       "4   Wednesday    Espresso        35.0   3.99   139.65\n",
       "5   Wednesday       Latte        25.0   5.99   149.75\n",
       "6    Thursday    Espresso        40.0   3.99   159.60\n",
       "7    Thursday       Latte        30.0   5.99   179.70\n",
       "8      Friday    Espresso        45.0   3.99   179.55\n",
       "9      Friday       Latte        35.0   5.99   209.65\n",
       "10   Saturday    Espresso        45.0   3.99   179.55\n",
       "11   Saturday       Latte        35.0   5.99   209.65\n",
       "12     Sunday    Espresso        45.0   3.99   179.55\n",
       "13     Sunday       Latte        35.0   5.99   209.65"
      ]
     },
     "execution_count": 89,
     "metadata": {},
     "output_type": "execute_result"
    }
   ],
   "source": [
    "coffee.loc[[0, 1], 'Units Sold'] = np.nan\n",
    "coffee"
   ]
  },
  {
   "cell_type": "code",
   "execution_count": 103,
   "id": "2251ef87",
   "metadata": {},
   "outputs": [],
   "source": [
    "coffee.fillna(coffee.loc[coffee['Coffee Type'] == 'Espresso']['Units Sold'].mean(), inplace=True)"
   ]
  },
  {
   "cell_type": "code",
   "execution_count": 97,
   "id": "5f4ad35a",
   "metadata": {},
   "outputs": [
    {
     "data": {
      "application/vnd.microsoft.datawrangler.viewer.v0+json": {
       "columns": [
        {
         "name": "index",
         "rawType": "int64",
         "type": "integer"
        },
        {
         "name": "Day",
         "rawType": "object",
         "type": "string"
        },
        {
         "name": "Coffee Type",
         "rawType": "object",
         "type": "string"
        },
        {
         "name": "Units Sold",
         "rawType": "float64",
         "type": "float"
        },
        {
         "name": "price",
         "rawType": "float64",
         "type": "float"
        },
        {
         "name": "revenue",
         "rawType": "float64",
         "type": "float"
        }
       ],
       "ref": "21c9dd7b-9a96-4166-9f72-3c5b5a742e48",
       "rows": [
        [
         "2",
         "Tuesday",
         "Espresso",
         "30.0",
         "3.99",
         "119.7"
        ],
        [
         "3",
         "Tuesday",
         "Latte",
         "20.0",
         "5.99",
         "119.80000000000001"
        ],
        [
         "4",
         "Wednesday",
         "Espresso",
         "35.0",
         "3.99",
         "139.65"
        ],
        [
         "5",
         "Wednesday",
         "Latte",
         "25.0",
         "5.99",
         "149.75"
        ],
        [
         "6",
         "Thursday",
         "Espresso",
         "40.0",
         "3.99",
         "159.60000000000002"
        ],
        [
         "7",
         "Thursday",
         "Latte",
         "30.0",
         "5.99",
         "179.70000000000002"
        ],
        [
         "8",
         "Friday",
         "Espresso",
         "45.0",
         "3.99",
         "179.55"
        ],
        [
         "9",
         "Friday",
         "Latte",
         "35.0",
         "5.99",
         "209.65"
        ],
        [
         "10",
         "Saturday",
         "Espresso",
         "45.0",
         "3.99",
         "179.55"
        ],
        [
         "11",
         "Saturday",
         "Latte",
         "35.0",
         "5.99",
         "209.65"
        ],
        [
         "12",
         "Sunday",
         "Espresso",
         "45.0",
         "3.99",
         "179.55"
        ],
        [
         "13",
         "Sunday",
         "Latte",
         "35.0",
         "5.99",
         "209.65"
        ]
       ],
       "shape": {
        "columns": 5,
        "rows": 12
       }
      },
      "text/html": [
       "<div>\n",
       "<style scoped>\n",
       "    .dataframe tbody tr th:only-of-type {\n",
       "        vertical-align: middle;\n",
       "    }\n",
       "\n",
       "    .dataframe tbody tr th {\n",
       "        vertical-align: top;\n",
       "    }\n",
       "\n",
       "    .dataframe thead th {\n",
       "        text-align: right;\n",
       "    }\n",
       "</style>\n",
       "<table border=\"1\" class=\"dataframe\">\n",
       "  <thead>\n",
       "    <tr style=\"text-align: right;\">\n",
       "      <th></th>\n",
       "      <th>Day</th>\n",
       "      <th>Coffee Type</th>\n",
       "      <th>Units Sold</th>\n",
       "      <th>price</th>\n",
       "      <th>revenue</th>\n",
       "    </tr>\n",
       "  </thead>\n",
       "  <tbody>\n",
       "    <tr>\n",
       "      <th>2</th>\n",
       "      <td>Tuesday</td>\n",
       "      <td>Espresso</td>\n",
       "      <td>30.0</td>\n",
       "      <td>3.99</td>\n",
       "      <td>119.70</td>\n",
       "    </tr>\n",
       "    <tr>\n",
       "      <th>3</th>\n",
       "      <td>Tuesday</td>\n",
       "      <td>Latte</td>\n",
       "      <td>20.0</td>\n",
       "      <td>5.99</td>\n",
       "      <td>119.80</td>\n",
       "    </tr>\n",
       "    <tr>\n",
       "      <th>4</th>\n",
       "      <td>Wednesday</td>\n",
       "      <td>Espresso</td>\n",
       "      <td>35.0</td>\n",
       "      <td>3.99</td>\n",
       "      <td>139.65</td>\n",
       "    </tr>\n",
       "    <tr>\n",
       "      <th>5</th>\n",
       "      <td>Wednesday</td>\n",
       "      <td>Latte</td>\n",
       "      <td>25.0</td>\n",
       "      <td>5.99</td>\n",
       "      <td>149.75</td>\n",
       "    </tr>\n",
       "    <tr>\n",
       "      <th>6</th>\n",
       "      <td>Thursday</td>\n",
       "      <td>Espresso</td>\n",
       "      <td>40.0</td>\n",
       "      <td>3.99</td>\n",
       "      <td>159.60</td>\n",
       "    </tr>\n",
       "    <tr>\n",
       "      <th>7</th>\n",
       "      <td>Thursday</td>\n",
       "      <td>Latte</td>\n",
       "      <td>30.0</td>\n",
       "      <td>5.99</td>\n",
       "      <td>179.70</td>\n",
       "    </tr>\n",
       "    <tr>\n",
       "      <th>8</th>\n",
       "      <td>Friday</td>\n",
       "      <td>Espresso</td>\n",
       "      <td>45.0</td>\n",
       "      <td>3.99</td>\n",
       "      <td>179.55</td>\n",
       "    </tr>\n",
       "    <tr>\n",
       "      <th>9</th>\n",
       "      <td>Friday</td>\n",
       "      <td>Latte</td>\n",
       "      <td>35.0</td>\n",
       "      <td>5.99</td>\n",
       "      <td>209.65</td>\n",
       "    </tr>\n",
       "    <tr>\n",
       "      <th>10</th>\n",
       "      <td>Saturday</td>\n",
       "      <td>Espresso</td>\n",
       "      <td>45.0</td>\n",
       "      <td>3.99</td>\n",
       "      <td>179.55</td>\n",
       "    </tr>\n",
       "    <tr>\n",
       "      <th>11</th>\n",
       "      <td>Saturday</td>\n",
       "      <td>Latte</td>\n",
       "      <td>35.0</td>\n",
       "      <td>5.99</td>\n",
       "      <td>209.65</td>\n",
       "    </tr>\n",
       "    <tr>\n",
       "      <th>12</th>\n",
       "      <td>Sunday</td>\n",
       "      <td>Espresso</td>\n",
       "      <td>45.0</td>\n",
       "      <td>3.99</td>\n",
       "      <td>179.55</td>\n",
       "    </tr>\n",
       "    <tr>\n",
       "      <th>13</th>\n",
       "      <td>Sunday</td>\n",
       "      <td>Latte</td>\n",
       "      <td>35.0</td>\n",
       "      <td>5.99</td>\n",
       "      <td>209.65</td>\n",
       "    </tr>\n",
       "  </tbody>\n",
       "</table>\n",
       "</div>"
      ],
      "text/plain": [
       "          Day Coffee Type  Units Sold  price  revenue\n",
       "2     Tuesday    Espresso        30.0   3.99   119.70\n",
       "3     Tuesday       Latte        20.0   5.99   119.80\n",
       "4   Wednesday    Espresso        35.0   3.99   139.65\n",
       "5   Wednesday       Latte        25.0   5.99   149.75\n",
       "6    Thursday    Espresso        40.0   3.99   159.60\n",
       "7    Thursday       Latte        30.0   5.99   179.70\n",
       "8      Friday    Espresso        45.0   3.99   179.55\n",
       "9      Friday       Latte        35.0   5.99   209.65\n",
       "10   Saturday    Espresso        45.0   3.99   179.55\n",
       "11   Saturday       Latte        35.0   5.99   209.65\n",
       "12     Sunday    Espresso        45.0   3.99   179.55\n",
       "13     Sunday       Latte        35.0   5.99   209.65"
      ]
     },
     "execution_count": 97,
     "metadata": {},
     "output_type": "execute_result"
    }
   ],
   "source": [
    "coffee.dropna(subset = ['Units Sold'])"
   ]
  },
  {
   "cell_type": "code",
   "execution_count": null,
   "id": "17309ef8",
   "metadata": {},
   "outputs": [
    {
     "data": {
      "application/vnd.microsoft.datawrangler.viewer.v0+json": {
       "columns": [
        {
         "name": "index",
         "rawType": "int64",
         "type": "integer"
        },
        {
         "name": "Day",
         "rawType": "object",
         "type": "string"
        },
        {
         "name": "Coffee Type",
         "rawType": "object",
         "type": "string"
        },
        {
         "name": "Units Sold",
         "rawType": "float64",
         "type": "float"
        },
        {
         "name": "price",
         "rawType": "float64",
         "type": "float"
        },
        {
         "name": "revenue",
         "rawType": "float64",
         "type": "float"
        }
       ],
       "ref": "030be90d-bf1e-443d-8ea5-454c4bd81498",
       "rows": [
        [
         "0",
         "Monday",
         "Espresso",
         null,
         "3.99",
         "99.75"
        ],
        [
         "1",
         "Monday",
         "Latte",
         null,
         "5.99",
         "89.85000000000001"
        ]
       ],
       "shape": {
        "columns": 5,
        "rows": 2
       }
      },
      "text/html": [
       "<div>\n",
       "<style scoped>\n",
       "    .dataframe tbody tr th:only-of-type {\n",
       "        vertical-align: middle;\n",
       "    }\n",
       "\n",
       "    .dataframe tbody tr th {\n",
       "        vertical-align: top;\n",
       "    }\n",
       "\n",
       "    .dataframe thead th {\n",
       "        text-align: right;\n",
       "    }\n",
       "</style>\n",
       "<table border=\"1\" class=\"dataframe\">\n",
       "  <thead>\n",
       "    <tr style=\"text-align: right;\">\n",
       "      <th></th>\n",
       "      <th>Day</th>\n",
       "      <th>Coffee Type</th>\n",
       "      <th>Units Sold</th>\n",
       "      <th>price</th>\n",
       "      <th>revenue</th>\n",
       "    </tr>\n",
       "  </thead>\n",
       "  <tbody>\n",
       "    <tr>\n",
       "      <th>0</th>\n",
       "      <td>Monday</td>\n",
       "      <td>Espresso</td>\n",
       "      <td>NaN</td>\n",
       "      <td>3.99</td>\n",
       "      <td>99.75</td>\n",
       "    </tr>\n",
       "    <tr>\n",
       "      <th>1</th>\n",
       "      <td>Monday</td>\n",
       "      <td>Latte</td>\n",
       "      <td>NaN</td>\n",
       "      <td>5.99</td>\n",
       "      <td>89.85</td>\n",
       "    </tr>\n",
       "  </tbody>\n",
       "</table>\n",
       "</div>"
      ],
      "text/plain": [
       "      Day Coffee Type  Units Sold  price  revenue\n",
       "0  Monday    Espresso         NaN   3.99    99.75\n",
       "1  Monday       Latte         NaN   5.99    89.85"
      ]
     },
     "execution_count": 98,
     "metadata": {},
     "output_type": "execute_result"
    }
   ],
   "source": [
    "# get null rows\n",
    "coffee[coffee['Units Sold'].isna()]"
   ]
  },
  {
   "cell_type": "code",
   "execution_count": 99,
   "id": "b734d9d6",
   "metadata": {},
   "outputs": [
    {
     "data": {
      "application/vnd.microsoft.datawrangler.viewer.v0+json": {
       "columns": [
        {
         "name": "index",
         "rawType": "int64",
         "type": "integer"
        },
        {
         "name": "Day",
         "rawType": "object",
         "type": "string"
        },
        {
         "name": "Coffee Type",
         "rawType": "object",
         "type": "string"
        },
        {
         "name": "Units Sold",
         "rawType": "float64",
         "type": "float"
        },
        {
         "name": "price",
         "rawType": "float64",
         "type": "float"
        },
        {
         "name": "revenue",
         "rawType": "float64",
         "type": "float"
        }
       ],
       "ref": "8261298e-ca36-47e1-99ef-d39dcc4de833",
       "rows": [
        [
         "2",
         "Tuesday",
         "Espresso",
         "30.0",
         "3.99",
         "119.7"
        ],
        [
         "3",
         "Tuesday",
         "Latte",
         "20.0",
         "5.99",
         "119.80000000000001"
        ],
        [
         "4",
         "Wednesday",
         "Espresso",
         "35.0",
         "3.99",
         "139.65"
        ],
        [
         "5",
         "Wednesday",
         "Latte",
         "25.0",
         "5.99",
         "149.75"
        ],
        [
         "6",
         "Thursday",
         "Espresso",
         "40.0",
         "3.99",
         "159.60000000000002"
        ],
        [
         "7",
         "Thursday",
         "Latte",
         "30.0",
         "5.99",
         "179.70000000000002"
        ],
        [
         "8",
         "Friday",
         "Espresso",
         "45.0",
         "3.99",
         "179.55"
        ],
        [
         "9",
         "Friday",
         "Latte",
         "35.0",
         "5.99",
         "209.65"
        ],
        [
         "10",
         "Saturday",
         "Espresso",
         "45.0",
         "3.99",
         "179.55"
        ],
        [
         "11",
         "Saturday",
         "Latte",
         "35.0",
         "5.99",
         "209.65"
        ],
        [
         "12",
         "Sunday",
         "Espresso",
         "45.0",
         "3.99",
         "179.55"
        ],
        [
         "13",
         "Sunday",
         "Latte",
         "35.0",
         "5.99",
         "209.65"
        ]
       ],
       "shape": {
        "columns": 5,
        "rows": 12
       }
      },
      "text/html": [
       "<div>\n",
       "<style scoped>\n",
       "    .dataframe tbody tr th:only-of-type {\n",
       "        vertical-align: middle;\n",
       "    }\n",
       "\n",
       "    .dataframe tbody tr th {\n",
       "        vertical-align: top;\n",
       "    }\n",
       "\n",
       "    .dataframe thead th {\n",
       "        text-align: right;\n",
       "    }\n",
       "</style>\n",
       "<table border=\"1\" class=\"dataframe\">\n",
       "  <thead>\n",
       "    <tr style=\"text-align: right;\">\n",
       "      <th></th>\n",
       "      <th>Day</th>\n",
       "      <th>Coffee Type</th>\n",
       "      <th>Units Sold</th>\n",
       "      <th>price</th>\n",
       "      <th>revenue</th>\n",
       "    </tr>\n",
       "  </thead>\n",
       "  <tbody>\n",
       "    <tr>\n",
       "      <th>2</th>\n",
       "      <td>Tuesday</td>\n",
       "      <td>Espresso</td>\n",
       "      <td>30.0</td>\n",
       "      <td>3.99</td>\n",
       "      <td>119.70</td>\n",
       "    </tr>\n",
       "    <tr>\n",
       "      <th>3</th>\n",
       "      <td>Tuesday</td>\n",
       "      <td>Latte</td>\n",
       "      <td>20.0</td>\n",
       "      <td>5.99</td>\n",
       "      <td>119.80</td>\n",
       "    </tr>\n",
       "    <tr>\n",
       "      <th>4</th>\n",
       "      <td>Wednesday</td>\n",
       "      <td>Espresso</td>\n",
       "      <td>35.0</td>\n",
       "      <td>3.99</td>\n",
       "      <td>139.65</td>\n",
       "    </tr>\n",
       "    <tr>\n",
       "      <th>5</th>\n",
       "      <td>Wednesday</td>\n",
       "      <td>Latte</td>\n",
       "      <td>25.0</td>\n",
       "      <td>5.99</td>\n",
       "      <td>149.75</td>\n",
       "    </tr>\n",
       "    <tr>\n",
       "      <th>6</th>\n",
       "      <td>Thursday</td>\n",
       "      <td>Espresso</td>\n",
       "      <td>40.0</td>\n",
       "      <td>3.99</td>\n",
       "      <td>159.60</td>\n",
       "    </tr>\n",
       "    <tr>\n",
       "      <th>7</th>\n",
       "      <td>Thursday</td>\n",
       "      <td>Latte</td>\n",
       "      <td>30.0</td>\n",
       "      <td>5.99</td>\n",
       "      <td>179.70</td>\n",
       "    </tr>\n",
       "    <tr>\n",
       "      <th>8</th>\n",
       "      <td>Friday</td>\n",
       "      <td>Espresso</td>\n",
       "      <td>45.0</td>\n",
       "      <td>3.99</td>\n",
       "      <td>179.55</td>\n",
       "    </tr>\n",
       "    <tr>\n",
       "      <th>9</th>\n",
       "      <td>Friday</td>\n",
       "      <td>Latte</td>\n",
       "      <td>35.0</td>\n",
       "      <td>5.99</td>\n",
       "      <td>209.65</td>\n",
       "    </tr>\n",
       "    <tr>\n",
       "      <th>10</th>\n",
       "      <td>Saturday</td>\n",
       "      <td>Espresso</td>\n",
       "      <td>45.0</td>\n",
       "      <td>3.99</td>\n",
       "      <td>179.55</td>\n",
       "    </tr>\n",
       "    <tr>\n",
       "      <th>11</th>\n",
       "      <td>Saturday</td>\n",
       "      <td>Latte</td>\n",
       "      <td>35.0</td>\n",
       "      <td>5.99</td>\n",
       "      <td>209.65</td>\n",
       "    </tr>\n",
       "    <tr>\n",
       "      <th>12</th>\n",
       "      <td>Sunday</td>\n",
       "      <td>Espresso</td>\n",
       "      <td>45.0</td>\n",
       "      <td>3.99</td>\n",
       "      <td>179.55</td>\n",
       "    </tr>\n",
       "    <tr>\n",
       "      <th>13</th>\n",
       "      <td>Sunday</td>\n",
       "      <td>Latte</td>\n",
       "      <td>35.0</td>\n",
       "      <td>5.99</td>\n",
       "      <td>209.65</td>\n",
       "    </tr>\n",
       "  </tbody>\n",
       "</table>\n",
       "</div>"
      ],
      "text/plain": [
       "          Day Coffee Type  Units Sold  price  revenue\n",
       "2     Tuesday    Espresso        30.0   3.99   119.70\n",
       "3     Tuesday       Latte        20.0   5.99   119.80\n",
       "4   Wednesday    Espresso        35.0   3.99   139.65\n",
       "5   Wednesday       Latte        25.0   5.99   149.75\n",
       "6    Thursday    Espresso        40.0   3.99   159.60\n",
       "7    Thursday       Latte        30.0   5.99   179.70\n",
       "8      Friday    Espresso        45.0   3.99   179.55\n",
       "9      Friday       Latte        35.0   5.99   209.65\n",
       "10   Saturday    Espresso        45.0   3.99   179.55\n",
       "11   Saturday       Latte        35.0   5.99   209.65\n",
       "12     Sunday    Espresso        45.0   3.99   179.55\n",
       "13     Sunday       Latte        35.0   5.99   209.65"
      ]
     },
     "execution_count": 99,
     "metadata": {},
     "output_type": "execute_result"
    }
   ],
   "source": [
    "# get non Null rows\n",
    "coffee[coffee['Units Sold'].notna()]"
   ]
  },
  {
   "cell_type": "markdown",
   "id": "64a9c064",
   "metadata": {},
   "source": [
    "# Aggregating data"
   ]
  },
  {
   "cell_type": "code",
   "execution_count": null,
   "id": "ed7825f8",
   "metadata": {},
   "outputs": [
    {
     "data": {
      "application/vnd.microsoft.datawrangler.viewer.v0+json": {
       "columns": [
        {
         "name": "born_region",
         "rawType": "object",
         "type": "string"
        },
        {
         "name": "count",
         "rawType": "int64",
         "type": "integer"
        }
       ],
       "ref": "9796acb0-a362-4021-bc5b-7d3638441598",
       "rows": [
        [
         "Liaoning",
         "252"
        ],
        [
         "Heilongjiang",
         "187"
        ],
        [
         "Shandong",
         "164"
        ],
        [
         "Shanghai",
         "164"
        ],
        [
         "Jiangsu",
         "152"
        ],
        [
         "Guangdong",
         "138"
        ],
        [
         "Beijing",
         "138"
        ],
        [
         "Jilin",
         "91"
        ],
        [
         "Zhejiang",
         "79"
        ],
        [
         "Sichuan",
         "74"
        ],
        [
         "Hebei",
         "72"
        ],
        [
         "Fujian",
         "64"
        ],
        [
         "Hubei",
         "63"
        ],
        [
         "Tianjin",
         "61"
        ],
        [
         "Henan",
         "52"
        ],
        [
         "Hunan",
         "51"
        ],
        [
         "Guangxi",
         "50"
        ],
        [
         "Nei Mongol",
         "27"
        ],
        [
         "Jiangxi",
         "21"
        ],
        [
         "Xinjiang",
         "18"
        ],
        [
         "Yunnan",
         "18"
        ],
        [
         "Anhui",
         "18"
        ],
        [
         "Shanxi",
         "16"
        ],
        [
         "Guizhou",
         "12"
        ],
        [
         "Gansu",
         "11"
        ],
        [
         "Chongqing",
         "11"
        ],
        [
         "Shaanxi",
         "10"
        ],
        [
         "Hainan",
         "6"
        ],
        [
         "Qinghai",
         "2"
        ],
        [
         "Ningxia",
         "2"
        ],
        [
         "Tibet",
         "1"
        ]
       ],
       "shape": {
        "columns": 1,
        "rows": 31
       }
      },
      "text/plain": [
       "born_region\n",
       "Liaoning        252\n",
       "Heilongjiang    187\n",
       "Shandong        164\n",
       "Shanghai        164\n",
       "Jiangsu         152\n",
       "Guangdong       138\n",
       "Beijing         138\n",
       "Jilin            91\n",
       "Zhejiang         79\n",
       "Sichuan          74\n",
       "Hebei            72\n",
       "Fujian           64\n",
       "Hubei            63\n",
       "Tianjin          61\n",
       "Henan            52\n",
       "Hunan            51\n",
       "Guangxi          50\n",
       "Nei Mongol       27\n",
       "Jiangxi          21\n",
       "Xinjiang         18\n",
       "Yunnan           18\n",
       "Anhui            18\n",
       "Shanxi           16\n",
       "Guizhou          12\n",
       "Gansu            11\n",
       "Chongqing        11\n",
       "Shaanxi          10\n",
       "Hainan            6\n",
       "Qinghai           2\n",
       "Ningxia           2\n",
       "Tibet             1\n",
       "Name: count, dtype: int64"
      ]
     },
     "execution_count": 100,
     "metadata": {},
     "output_type": "execute_result"
    }
   ],
   "source": [
    "# value count\n",
    "bios[bios['born_country'] == 'CHN']['born_region'].value_counts()"
   ]
  },
  {
   "cell_type": "code",
   "execution_count": 106,
   "id": "5e760b35",
   "metadata": {},
   "outputs": [
    {
     "data": {
      "application/vnd.microsoft.datawrangler.viewer.v0+json": {
       "columns": [
        {
         "name": "Coffee Type",
         "rawType": "object",
         "type": "string"
        },
        {
         "name": "Units Sold",
         "rawType": "float64",
         "type": "float"
        },
        {
         "name": "price",
         "rawType": "float64",
         "type": "float"
        }
       ],
       "ref": "426c41af-d964-4a9c-8939-90c439b47a55",
       "rows": [
        [
         "Espresso",
         "280.0",
         "3.9899999999999998"
        ],
        [
         "Latte",
         "220.0",
         "5.99"
        ]
       ],
       "shape": {
        "columns": 2,
        "rows": 2
       }
      },
      "text/html": [
       "<div>\n",
       "<style scoped>\n",
       "    .dataframe tbody tr th:only-of-type {\n",
       "        vertical-align: middle;\n",
       "    }\n",
       "\n",
       "    .dataframe tbody tr th {\n",
       "        vertical-align: top;\n",
       "    }\n",
       "\n",
       "    .dataframe thead th {\n",
       "        text-align: right;\n",
       "    }\n",
       "</style>\n",
       "<table border=\"1\" class=\"dataframe\">\n",
       "  <thead>\n",
       "    <tr style=\"text-align: right;\">\n",
       "      <th></th>\n",
       "      <th>Units Sold</th>\n",
       "      <th>price</th>\n",
       "    </tr>\n",
       "    <tr>\n",
       "      <th>Coffee Type</th>\n",
       "      <th></th>\n",
       "      <th></th>\n",
       "    </tr>\n",
       "  </thead>\n",
       "  <tbody>\n",
       "    <tr>\n",
       "      <th>Espresso</th>\n",
       "      <td>280.0</td>\n",
       "      <td>3.99</td>\n",
       "    </tr>\n",
       "    <tr>\n",
       "      <th>Latte</th>\n",
       "      <td>220.0</td>\n",
       "      <td>5.99</td>\n",
       "    </tr>\n",
       "  </tbody>\n",
       "</table>\n",
       "</div>"
      ],
      "text/plain": [
       "             Units Sold  price\n",
       "Coffee Type                   \n",
       "Espresso          280.0   3.99\n",
       "Latte             220.0   5.99"
      ]
     },
     "execution_count": 106,
     "metadata": {},
     "output_type": "execute_result"
    }
   ],
   "source": [
    "coffee.groupby(['Coffee Type']).agg({'Units Sold': 'sum', 'price': 'mean'})"
   ]
  },
  {
   "cell_type": "code",
   "execution_count": 107,
   "id": "0f8f250e",
   "metadata": {},
   "outputs": [
    {
     "data": {
      "application/vnd.microsoft.datawrangler.viewer.v0+json": {
       "columns": [
        {
         "name": "Day",
         "rawType": "object",
         "type": "string"
        },
        {
         "name": "Espresso",
         "rawType": "float64",
         "type": "float"
        },
        {
         "name": "Latte",
         "rawType": "float64",
         "type": "float"
        }
       ],
       "ref": "896323d0-133a-4d02-8663-654228b44684",
       "rows": [
        [
         "Friday",
         "179.55",
         "209.65"
        ],
        [
         "Monday",
         "99.75",
         "89.85000000000001"
        ],
        [
         "Saturday",
         "179.55",
         "209.65"
        ],
        [
         "Sunday",
         "179.55",
         "209.65"
        ],
        [
         "Thursday",
         "159.60000000000002",
         "179.70000000000002"
        ],
        [
         "Tuesday",
         "119.7",
         "119.80000000000001"
        ],
        [
         "Wednesday",
         "139.65",
         "149.75"
        ]
       ],
       "shape": {
        "columns": 2,
        "rows": 7
       }
      },
      "text/html": [
       "<div>\n",
       "<style scoped>\n",
       "    .dataframe tbody tr th:only-of-type {\n",
       "        vertical-align: middle;\n",
       "    }\n",
       "\n",
       "    .dataframe tbody tr th {\n",
       "        vertical-align: top;\n",
       "    }\n",
       "\n",
       "    .dataframe thead th {\n",
       "        text-align: right;\n",
       "    }\n",
       "</style>\n",
       "<table border=\"1\" class=\"dataframe\">\n",
       "  <thead>\n",
       "    <tr style=\"text-align: right;\">\n",
       "      <th>Coffee Type</th>\n",
       "      <th>Espresso</th>\n",
       "      <th>Latte</th>\n",
       "    </tr>\n",
       "    <tr>\n",
       "      <th>Day</th>\n",
       "      <th></th>\n",
       "      <th></th>\n",
       "    </tr>\n",
       "  </thead>\n",
       "  <tbody>\n",
       "    <tr>\n",
       "      <th>Friday</th>\n",
       "      <td>179.55</td>\n",
       "      <td>209.65</td>\n",
       "    </tr>\n",
       "    <tr>\n",
       "      <th>Monday</th>\n",
       "      <td>99.75</td>\n",
       "      <td>89.85</td>\n",
       "    </tr>\n",
       "    <tr>\n",
       "      <th>Saturday</th>\n",
       "      <td>179.55</td>\n",
       "      <td>209.65</td>\n",
       "    </tr>\n",
       "    <tr>\n",
       "      <th>Sunday</th>\n",
       "      <td>179.55</td>\n",
       "      <td>209.65</td>\n",
       "    </tr>\n",
       "    <tr>\n",
       "      <th>Thursday</th>\n",
       "      <td>159.60</td>\n",
       "      <td>179.70</td>\n",
       "    </tr>\n",
       "    <tr>\n",
       "      <th>Tuesday</th>\n",
       "      <td>119.70</td>\n",
       "      <td>119.80</td>\n",
       "    </tr>\n",
       "    <tr>\n",
       "      <th>Wednesday</th>\n",
       "      <td>139.65</td>\n",
       "      <td>149.75</td>\n",
       "    </tr>\n",
       "  </tbody>\n",
       "</table>\n",
       "</div>"
      ],
      "text/plain": [
       "Coffee Type  Espresso   Latte\n",
       "Day                          \n",
       "Friday         179.55  209.65\n",
       "Monday          99.75   89.85\n",
       "Saturday       179.55  209.65\n",
       "Sunday         179.55  209.65\n",
       "Thursday       159.60  179.70\n",
       "Tuesday        119.70  119.80\n",
       "Wednesday      139.65  149.75"
      ]
     },
     "execution_count": 107,
     "metadata": {},
     "output_type": "execute_result"
    }
   ],
   "source": [
    "# create pivot table\n",
    "pivot = coffee.pivot(columns = 'Coffee Type', index = 'Day', values = 'revenue')\n",
    "pivot"
   ]
  },
  {
   "cell_type": "code",
   "execution_count": 109,
   "id": "26315348",
   "metadata": {},
   "outputs": [
    {
     "data": {
      "application/vnd.microsoft.datawrangler.viewer.v0+json": {
       "columns": [
        {
         "name": "index",
         "rawType": "int64",
         "type": "integer"
        },
        {
         "name": "athlete_id",
         "rawType": "int64",
         "type": "integer"
        },
        {
         "name": "name",
         "rawType": "object",
         "type": "string"
        },
        {
         "name": "born_date",
         "rawType": "object",
         "type": "string"
        },
        {
         "name": "born_city",
         "rawType": "object",
         "type": "string"
        },
        {
         "name": "born_region",
         "rawType": "object",
         "type": "string"
        },
        {
         "name": "born_country",
         "rawType": "object",
         "type": "string"
        },
        {
         "name": "NOC",
         "rawType": "object",
         "type": "string"
        },
        {
         "name": "height_cm",
         "rawType": "float64",
         "type": "float"
        },
        {
         "name": "weight_kg",
         "rawType": "float64",
         "type": "float"
        },
        {
         "name": "died_date",
         "rawType": "object",
         "type": "unknown"
        },
        {
         "name": "height_category",
         "rawType": "object",
         "type": "string"
        }
       ],
       "ref": "a96f6c62-2558-4668-bfcc-d31add7bb2ee",
       "rows": [
        [
         "0",
         "1",
         "Jean-François Blanchy",
         "1886-12-12",
         "Bordeaux",
         "Gironde",
         "FRA",
         "France",
         null,
         null,
         "1960-10-02",
         "Unknown"
        ],
        [
         "1",
         "2",
         "Arnaud Boetsch",
         "1969-04-01",
         "Meulan",
         "Yvelines",
         "FRA",
         "France",
         "183.0",
         "76.0",
         null,
         "Average"
        ],
        [
         "2",
         "3",
         "Jean Borotra",
         "1898-08-13",
         "Biarritz",
         "Pyrénées-Atlantiques",
         "FRA",
         "France",
         "183.0",
         "76.0",
         "1994-07-17",
         "Average"
        ],
        [
         "3",
         "4",
         "Jacques Brugnon",
         "1895-05-11",
         "Paris VIIIe",
         "Paris",
         "FRA",
         "France",
         "168.0",
         "64.0",
         "1978-03-20",
         "Average"
        ],
        [
         "4",
         "5",
         "Albert Canet",
         "1878-04-17",
         "Wandsworth",
         "England",
         "GBR",
         "France",
         null,
         null,
         "1930-07-25",
         "Unknown"
        ]
       ],
       "shape": {
        "columns": 11,
        "rows": 5
       }
      },
      "text/html": [
       "<div>\n",
       "<style scoped>\n",
       "    .dataframe tbody tr th:only-of-type {\n",
       "        vertical-align: middle;\n",
       "    }\n",
       "\n",
       "    .dataframe tbody tr th {\n",
       "        vertical-align: top;\n",
       "    }\n",
       "\n",
       "    .dataframe thead th {\n",
       "        text-align: right;\n",
       "    }\n",
       "</style>\n",
       "<table border=\"1\" class=\"dataframe\">\n",
       "  <thead>\n",
       "    <tr style=\"text-align: right;\">\n",
       "      <th></th>\n",
       "      <th>athlete_id</th>\n",
       "      <th>name</th>\n",
       "      <th>born_date</th>\n",
       "      <th>born_city</th>\n",
       "      <th>born_region</th>\n",
       "      <th>born_country</th>\n",
       "      <th>NOC</th>\n",
       "      <th>height_cm</th>\n",
       "      <th>weight_kg</th>\n",
       "      <th>died_date</th>\n",
       "      <th>height_category</th>\n",
       "    </tr>\n",
       "  </thead>\n",
       "  <tbody>\n",
       "    <tr>\n",
       "      <th>0</th>\n",
       "      <td>1</td>\n",
       "      <td>Jean-François Blanchy</td>\n",
       "      <td>1886-12-12</td>\n",
       "      <td>Bordeaux</td>\n",
       "      <td>Gironde</td>\n",
       "      <td>FRA</td>\n",
       "      <td>France</td>\n",
       "      <td>NaN</td>\n",
       "      <td>NaN</td>\n",
       "      <td>1960-10-02</td>\n",
       "      <td>Unknown</td>\n",
       "    </tr>\n",
       "    <tr>\n",
       "      <th>1</th>\n",
       "      <td>2</td>\n",
       "      <td>Arnaud Boetsch</td>\n",
       "      <td>1969-04-01</td>\n",
       "      <td>Meulan</td>\n",
       "      <td>Yvelines</td>\n",
       "      <td>FRA</td>\n",
       "      <td>France</td>\n",
       "      <td>183.0</td>\n",
       "      <td>76.0</td>\n",
       "      <td>NaN</td>\n",
       "      <td>Average</td>\n",
       "    </tr>\n",
       "    <tr>\n",
       "      <th>2</th>\n",
       "      <td>3</td>\n",
       "      <td>Jean Borotra</td>\n",
       "      <td>1898-08-13</td>\n",
       "      <td>Biarritz</td>\n",
       "      <td>Pyrénées-Atlantiques</td>\n",
       "      <td>FRA</td>\n",
       "      <td>France</td>\n",
       "      <td>183.0</td>\n",
       "      <td>76.0</td>\n",
       "      <td>1994-07-17</td>\n",
       "      <td>Average</td>\n",
       "    </tr>\n",
       "    <tr>\n",
       "      <th>3</th>\n",
       "      <td>4</td>\n",
       "      <td>Jacques Brugnon</td>\n",
       "      <td>1895-05-11</td>\n",
       "      <td>Paris VIIIe</td>\n",
       "      <td>Paris</td>\n",
       "      <td>FRA</td>\n",
       "      <td>France</td>\n",
       "      <td>168.0</td>\n",
       "      <td>64.0</td>\n",
       "      <td>1978-03-20</td>\n",
       "      <td>Average</td>\n",
       "    </tr>\n",
       "    <tr>\n",
       "      <th>4</th>\n",
       "      <td>5</td>\n",
       "      <td>Albert Canet</td>\n",
       "      <td>1878-04-17</td>\n",
       "      <td>Wandsworth</td>\n",
       "      <td>England</td>\n",
       "      <td>GBR</td>\n",
       "      <td>France</td>\n",
       "      <td>NaN</td>\n",
       "      <td>NaN</td>\n",
       "      <td>1930-07-25</td>\n",
       "      <td>Unknown</td>\n",
       "    </tr>\n",
       "  </tbody>\n",
       "</table>\n",
       "</div>"
      ],
      "text/plain": [
       "   athlete_id                   name   born_date    born_city  \\\n",
       "0           1  Jean-François Blanchy  1886-12-12     Bordeaux   \n",
       "1           2         Arnaud Boetsch  1969-04-01       Meulan   \n",
       "2           3           Jean Borotra  1898-08-13     Biarritz   \n",
       "3           4        Jacques Brugnon  1895-05-11  Paris VIIIe   \n",
       "4           5           Albert Canet  1878-04-17   Wandsworth   \n",
       "\n",
       "            born_region born_country     NOC  height_cm  weight_kg  \\\n",
       "0               Gironde          FRA  France        NaN        NaN   \n",
       "1              Yvelines          FRA  France      183.0       76.0   \n",
       "2  Pyrénées-Atlantiques          FRA  France      183.0       76.0   \n",
       "3                 Paris          FRA  France      168.0       64.0   \n",
       "4               England          GBR  France        NaN        NaN   \n",
       "\n",
       "    died_date height_category  \n",
       "0  1960-10-02         Unknown  \n",
       "1         NaN         Average  \n",
       "2  1994-07-17         Average  \n",
       "3  1978-03-20         Average  \n",
       "4  1930-07-25         Unknown  "
      ]
     },
     "execution_count": 109,
     "metadata": {},
     "output_type": "execute_result"
    }
   ],
   "source": [
    "bios.head()"
   ]
  },
  {
   "cell_type": "code",
   "execution_count": 110,
   "id": "6a7a34f0",
   "metadata": {},
   "outputs": [
    {
     "data": {
      "application/vnd.microsoft.datawrangler.viewer.v0+json": {
       "columns": [
        {
         "name": "index",
         "rawType": "int64",
         "type": "integer"
        },
        {
         "name": "born_date",
         "rawType": "float64",
         "type": "float"
        },
        {
         "name": "name",
         "rawType": "int64",
         "type": "integer"
        }
       ],
       "ref": "a277f79e-8e33-45da-9e87-cb6de018e4b5",
       "rows": [
        [
         "139",
         "1972.0",
         "2231"
        ],
        [
         "152",
         "1985.0",
         "2227"
        ],
        [
         "140",
         "1973.0",
         "2216"
        ],
        [
         "138",
         "1971.0",
         "2205"
        ],
        [
         "137",
         "1970.0",
         "2174"
        ],
        [
         "156",
         "1989.0",
         "2169"
        ],
        [
         "155",
         "1988.0",
         "2167"
        ],
        [
         "135",
         "1968.0",
         "2144"
        ],
        [
         "157",
         "1990.0",
         "2134"
        ],
        [
         "153",
         "1986.0",
         "2118"
        ],
        [
         "136",
         "1969.0",
         "2116"
        ],
        [
         "154",
         "1987.0",
         "2111"
        ],
        [
         "149",
         "1982.0",
         "2104"
        ],
        [
         "143",
         "1976.0",
         "2094"
        ],
        [
         "141",
         "1974.0",
         "2093"
        ],
        [
         "148",
         "1981.0",
         "2066"
        ],
        [
         "147",
         "1980.0",
         "2058"
        ],
        [
         "150",
         "1983.0",
         "2056"
        ],
        [
         "144",
         "1977.0",
         "2055"
        ],
        [
         "142",
         "1975.0",
         "2052"
        ],
        [
         "134",
         "1967.0",
         "2017"
        ],
        [
         "151",
         "1984.0",
         "2013"
        ],
        [
         "132",
         "1965.0",
         "2013"
        ],
        [
         "146",
         "1979.0",
         "1993"
        ],
        [
         "158",
         "1991.0",
         "1989"
        ],
        [
         "145",
         "1978.0",
         "1961"
        ],
        [
         "131",
         "1964.0",
         "1951"
        ],
        [
         "133",
         "1966.0",
         "1931"
        ],
        [
         "159",
         "1992.0",
         "1894"
        ],
        [
         "130",
         "1963.0",
         "1881"
        ],
        [
         "160",
         "1993.0",
         "1855"
        ],
        [
         "129",
         "1962.0",
         "1825"
        ],
        [
         "161",
         "1994.0",
         "1802"
        ],
        [
         "127",
         "1960.0",
         "1698"
        ],
        [
         "128",
         "1961.0",
         "1639"
        ],
        [
         "126",
         "1959.0",
         "1607"
        ],
        [
         "162",
         "1995.0",
         "1595"
        ],
        [
         "125",
         "1958.0",
         "1483"
        ],
        [
         "163",
         "1996.0",
         "1460"
        ],
        [
         "124",
         "1957.0",
         "1424"
        ],
        [
         "122",
         "1955.0",
         "1402"
        ],
        [
         "114",
         "1947.0",
         "1400"
        ],
        [
         "121",
         "1954.0",
         "1346"
        ],
        [
         "116",
         "1949.0",
         "1329"
        ],
        [
         "119",
         "1952.0",
         "1328"
        ],
        [
         "123",
         "1956.0",
         "1323"
        ],
        [
         "115",
         "1948.0",
         "1321"
        ],
        [
         "120",
         "1953.0",
         "1301"
        ],
        [
         "113",
         "1946.0",
         "1297"
        ],
        [
         "164",
         "1997.0",
         "1290"
        ]
       ],
       "shape": {
        "columns": 2,
        "rows": 177
       }
      },
      "text/html": [
       "<div>\n",
       "<style scoped>\n",
       "    .dataframe tbody tr th:only-of-type {\n",
       "        vertical-align: middle;\n",
       "    }\n",
       "\n",
       "    .dataframe tbody tr th {\n",
       "        vertical-align: top;\n",
       "    }\n",
       "\n",
       "    .dataframe thead th {\n",
       "        text-align: right;\n",
       "    }\n",
       "</style>\n",
       "<table border=\"1\" class=\"dataframe\">\n",
       "  <thead>\n",
       "    <tr style=\"text-align: right;\">\n",
       "      <th></th>\n",
       "      <th>born_date</th>\n",
       "      <th>name</th>\n",
       "    </tr>\n",
       "  </thead>\n",
       "  <tbody>\n",
       "    <tr>\n",
       "      <th>139</th>\n",
       "      <td>1972.0</td>\n",
       "      <td>2231</td>\n",
       "    </tr>\n",
       "    <tr>\n",
       "      <th>152</th>\n",
       "      <td>1985.0</td>\n",
       "      <td>2227</td>\n",
       "    </tr>\n",
       "    <tr>\n",
       "      <th>140</th>\n",
       "      <td>1973.0</td>\n",
       "      <td>2216</td>\n",
       "    </tr>\n",
       "    <tr>\n",
       "      <th>138</th>\n",
       "      <td>1971.0</td>\n",
       "      <td>2205</td>\n",
       "    </tr>\n",
       "    <tr>\n",
       "      <th>137</th>\n",
       "      <td>1970.0</td>\n",
       "      <td>2174</td>\n",
       "    </tr>\n",
       "    <tr>\n",
       "      <th>...</th>\n",
       "      <td>...</td>\n",
       "      <td>...</td>\n",
       "    </tr>\n",
       "    <tr>\n",
       "      <th>5</th>\n",
       "      <td>1838.0</td>\n",
       "      <td>1</td>\n",
       "    </tr>\n",
       "    <tr>\n",
       "      <th>4</th>\n",
       "      <td>1837.0</td>\n",
       "      <td>1</td>\n",
       "    </tr>\n",
       "    <tr>\n",
       "      <th>3</th>\n",
       "      <td>1836.0</td>\n",
       "      <td>1</td>\n",
       "    </tr>\n",
       "    <tr>\n",
       "      <th>2</th>\n",
       "      <td>1833.0</td>\n",
       "      <td>1</td>\n",
       "    </tr>\n",
       "    <tr>\n",
       "      <th>176</th>\n",
       "      <td>2009.0</td>\n",
       "      <td>1</td>\n",
       "    </tr>\n",
       "  </tbody>\n",
       "</table>\n",
       "<p>177 rows × 2 columns</p>\n",
       "</div>"
      ],
      "text/plain": [
       "     born_date  name\n",
       "139     1972.0  2231\n",
       "152     1985.0  2227\n",
       "140     1973.0  2216\n",
       "138     1971.0  2205\n",
       "137     1970.0  2174\n",
       "..         ...   ...\n",
       "5       1838.0     1\n",
       "4       1837.0     1\n",
       "3       1836.0     1\n",
       "2       1833.0     1\n",
       "176     2009.0     1\n",
       "\n",
       "[177 rows x 2 columns]"
      ]
     },
     "execution_count": 110,
     "metadata": {},
     "output_type": "execute_result"
    }
   ],
   "source": [
    "bios['born_date'] = pd.to_datetime(bios['born_date'])\n",
    "bios.groupby([bios['born_date'].dt.year])['name'].count().reset_index().sort_values('name', ascending=False)"
   ]
  },
  {
   "cell_type": "markdown",
   "id": "728f6dde",
   "metadata": {},
   "source": [
    "# Advanced functionality"
   ]
  },
  {
   "cell_type": "code",
   "execution_count": 111,
   "id": "c668b9ef",
   "metadata": {},
   "outputs": [
    {
     "data": {
      "application/vnd.microsoft.datawrangler.viewer.v0+json": {
       "columns": [
        {
         "name": "index",
         "rawType": "int64",
         "type": "integer"
        },
        {
         "name": "Day",
         "rawType": "object",
         "type": "string"
        },
        {
         "name": "Coffee Type",
         "rawType": "object",
         "type": "string"
        },
        {
         "name": "Units Sold",
         "rawType": "float64",
         "type": "float"
        },
        {
         "name": "price",
         "rawType": "float64",
         "type": "float"
        },
        {
         "name": "revenue",
         "rawType": "float64",
         "type": "float"
        }
       ],
       "ref": "1c4906c9-715f-4ab6-82c2-3efc9abe4d93",
       "rows": [
        [
         "0",
         "Monday",
         "Espresso",
         "40.0",
         "3.99",
         "99.75"
        ],
        [
         "1",
         "Monday",
         "Latte",
         "40.0",
         "5.99",
         "89.85000000000001"
        ],
        [
         "2",
         "Tuesday",
         "Espresso",
         "30.0",
         "3.99",
         "119.7"
        ],
        [
         "3",
         "Tuesday",
         "Latte",
         "20.0",
         "5.99",
         "119.80000000000001"
        ],
        [
         "4",
         "Wednesday",
         "Espresso",
         "35.0",
         "3.99",
         "139.65"
        ]
       ],
       "shape": {
        "columns": 5,
        "rows": 5
       }
      },
      "text/html": [
       "<div>\n",
       "<style scoped>\n",
       "    .dataframe tbody tr th:only-of-type {\n",
       "        vertical-align: middle;\n",
       "    }\n",
       "\n",
       "    .dataframe tbody tr th {\n",
       "        vertical-align: top;\n",
       "    }\n",
       "\n",
       "    .dataframe thead th {\n",
       "        text-align: right;\n",
       "    }\n",
       "</style>\n",
       "<table border=\"1\" class=\"dataframe\">\n",
       "  <thead>\n",
       "    <tr style=\"text-align: right;\">\n",
       "      <th></th>\n",
       "      <th>Day</th>\n",
       "      <th>Coffee Type</th>\n",
       "      <th>Units Sold</th>\n",
       "      <th>price</th>\n",
       "      <th>revenue</th>\n",
       "    </tr>\n",
       "  </thead>\n",
       "  <tbody>\n",
       "    <tr>\n",
       "      <th>0</th>\n",
       "      <td>Monday</td>\n",
       "      <td>Espresso</td>\n",
       "      <td>40.0</td>\n",
       "      <td>3.99</td>\n",
       "      <td>99.75</td>\n",
       "    </tr>\n",
       "    <tr>\n",
       "      <th>1</th>\n",
       "      <td>Monday</td>\n",
       "      <td>Latte</td>\n",
       "      <td>40.0</td>\n",
       "      <td>5.99</td>\n",
       "      <td>89.85</td>\n",
       "    </tr>\n",
       "    <tr>\n",
       "      <th>2</th>\n",
       "      <td>Tuesday</td>\n",
       "      <td>Espresso</td>\n",
       "      <td>30.0</td>\n",
       "      <td>3.99</td>\n",
       "      <td>119.70</td>\n",
       "    </tr>\n",
       "    <tr>\n",
       "      <th>3</th>\n",
       "      <td>Tuesday</td>\n",
       "      <td>Latte</td>\n",
       "      <td>20.0</td>\n",
       "      <td>5.99</td>\n",
       "      <td>119.80</td>\n",
       "    </tr>\n",
       "    <tr>\n",
       "      <th>4</th>\n",
       "      <td>Wednesday</td>\n",
       "      <td>Espresso</td>\n",
       "      <td>35.0</td>\n",
       "      <td>3.99</td>\n",
       "      <td>139.65</td>\n",
       "    </tr>\n",
       "  </tbody>\n",
       "</table>\n",
       "</div>"
      ],
      "text/plain": [
       "         Day Coffee Type  Units Sold  price  revenue\n",
       "0     Monday    Espresso        40.0   3.99    99.75\n",
       "1     Monday       Latte        40.0   5.99    89.85\n",
       "2    Tuesday    Espresso        30.0   3.99   119.70\n",
       "3    Tuesday       Latte        20.0   5.99   119.80\n",
       "4  Wednesday    Espresso        35.0   3.99   139.65"
      ]
     },
     "execution_count": 111,
     "metadata": {},
     "output_type": "execute_result"
    }
   ],
   "source": [
    "coffee.head()"
   ]
  },
  {
   "cell_type": "code",
   "execution_count": 113,
   "id": "c150891a",
   "metadata": {},
   "outputs": [
    {
     "data": {
      "application/vnd.microsoft.datawrangler.viewer.v0+json": {
       "columns": [
        {
         "name": "index",
         "rawType": "int64",
         "type": "integer"
        },
        {
         "name": "Day",
         "rawType": "object",
         "type": "string"
        },
        {
         "name": "Coffee Type",
         "rawType": "object",
         "type": "string"
        },
        {
         "name": "Units Sold",
         "rawType": "float64",
         "type": "float"
        },
        {
         "name": "price",
         "rawType": "float64",
         "type": "float"
        },
        {
         "name": "revenue",
         "rawType": "float64",
         "type": "float"
        },
        {
         "name": "yesterday_revenue",
         "rawType": "float64",
         "type": "float"
        }
       ],
       "ref": "33b313e6-8edd-45b5-accb-d89fb025404b",
       "rows": [
        [
         "0",
         "Monday",
         "Espresso",
         "40.0",
         "3.99",
         "99.75",
         null
        ],
        [
         "1",
         "Monday",
         "Latte",
         "40.0",
         "5.99",
         "89.85000000000001",
         null
        ],
        [
         "2",
         "Tuesday",
         "Espresso",
         "30.0",
         "3.99",
         "119.7",
         "99.75"
        ],
        [
         "3",
         "Tuesday",
         "Latte",
         "20.0",
         "5.99",
         "119.80000000000001",
         "89.85000000000001"
        ],
        [
         "4",
         "Wednesday",
         "Espresso",
         "35.0",
         "3.99",
         "139.65",
         "119.7"
        ],
        [
         "5",
         "Wednesday",
         "Latte",
         "25.0",
         "5.99",
         "149.75",
         "119.80000000000001"
        ],
        [
         "6",
         "Thursday",
         "Espresso",
         "40.0",
         "3.99",
         "159.60000000000002",
         "139.65"
        ],
        [
         "7",
         "Thursday",
         "Latte",
         "30.0",
         "5.99",
         "179.70000000000002",
         "149.75"
        ],
        [
         "8",
         "Friday",
         "Espresso",
         "45.0",
         "3.99",
         "179.55",
         "159.60000000000002"
        ],
        [
         "9",
         "Friday",
         "Latte",
         "35.0",
         "5.99",
         "209.65",
         "179.70000000000002"
        ],
        [
         "10",
         "Saturday",
         "Espresso",
         "45.0",
         "3.99",
         "179.55",
         "179.55"
        ],
        [
         "11",
         "Saturday",
         "Latte",
         "35.0",
         "5.99",
         "209.65",
         "209.65"
        ],
        [
         "12",
         "Sunday",
         "Espresso",
         "45.0",
         "3.99",
         "179.55",
         "179.55"
        ],
        [
         "13",
         "Sunday",
         "Latte",
         "35.0",
         "5.99",
         "209.65",
         "209.65"
        ]
       ],
       "shape": {
        "columns": 6,
        "rows": 14
       }
      },
      "text/html": [
       "<div>\n",
       "<style scoped>\n",
       "    .dataframe tbody tr th:only-of-type {\n",
       "        vertical-align: middle;\n",
       "    }\n",
       "\n",
       "    .dataframe tbody tr th {\n",
       "        vertical-align: top;\n",
       "    }\n",
       "\n",
       "    .dataframe thead th {\n",
       "        text-align: right;\n",
       "    }\n",
       "</style>\n",
       "<table border=\"1\" class=\"dataframe\">\n",
       "  <thead>\n",
       "    <tr style=\"text-align: right;\">\n",
       "      <th></th>\n",
       "      <th>Day</th>\n",
       "      <th>Coffee Type</th>\n",
       "      <th>Units Sold</th>\n",
       "      <th>price</th>\n",
       "      <th>revenue</th>\n",
       "      <th>yesterday_revenue</th>\n",
       "    </tr>\n",
       "  </thead>\n",
       "  <tbody>\n",
       "    <tr>\n",
       "      <th>0</th>\n",
       "      <td>Monday</td>\n",
       "      <td>Espresso</td>\n",
       "      <td>40.0</td>\n",
       "      <td>3.99</td>\n",
       "      <td>99.75</td>\n",
       "      <td>NaN</td>\n",
       "    </tr>\n",
       "    <tr>\n",
       "      <th>1</th>\n",
       "      <td>Monday</td>\n",
       "      <td>Latte</td>\n",
       "      <td>40.0</td>\n",
       "      <td>5.99</td>\n",
       "      <td>89.85</td>\n",
       "      <td>NaN</td>\n",
       "    </tr>\n",
       "    <tr>\n",
       "      <th>2</th>\n",
       "      <td>Tuesday</td>\n",
       "      <td>Espresso</td>\n",
       "      <td>30.0</td>\n",
       "      <td>3.99</td>\n",
       "      <td>119.70</td>\n",
       "      <td>99.75</td>\n",
       "    </tr>\n",
       "    <tr>\n",
       "      <th>3</th>\n",
       "      <td>Tuesday</td>\n",
       "      <td>Latte</td>\n",
       "      <td>20.0</td>\n",
       "      <td>5.99</td>\n",
       "      <td>119.80</td>\n",
       "      <td>89.85</td>\n",
       "    </tr>\n",
       "    <tr>\n",
       "      <th>4</th>\n",
       "      <td>Wednesday</td>\n",
       "      <td>Espresso</td>\n",
       "      <td>35.0</td>\n",
       "      <td>3.99</td>\n",
       "      <td>139.65</td>\n",
       "      <td>119.70</td>\n",
       "    </tr>\n",
       "    <tr>\n",
       "      <th>5</th>\n",
       "      <td>Wednesday</td>\n",
       "      <td>Latte</td>\n",
       "      <td>25.0</td>\n",
       "      <td>5.99</td>\n",
       "      <td>149.75</td>\n",
       "      <td>119.80</td>\n",
       "    </tr>\n",
       "    <tr>\n",
       "      <th>6</th>\n",
       "      <td>Thursday</td>\n",
       "      <td>Espresso</td>\n",
       "      <td>40.0</td>\n",
       "      <td>3.99</td>\n",
       "      <td>159.60</td>\n",
       "      <td>139.65</td>\n",
       "    </tr>\n",
       "    <tr>\n",
       "      <th>7</th>\n",
       "      <td>Thursday</td>\n",
       "      <td>Latte</td>\n",
       "      <td>30.0</td>\n",
       "      <td>5.99</td>\n",
       "      <td>179.70</td>\n",
       "      <td>149.75</td>\n",
       "    </tr>\n",
       "    <tr>\n",
       "      <th>8</th>\n",
       "      <td>Friday</td>\n",
       "      <td>Espresso</td>\n",
       "      <td>45.0</td>\n",
       "      <td>3.99</td>\n",
       "      <td>179.55</td>\n",
       "      <td>159.60</td>\n",
       "    </tr>\n",
       "    <tr>\n",
       "      <th>9</th>\n",
       "      <td>Friday</td>\n",
       "      <td>Latte</td>\n",
       "      <td>35.0</td>\n",
       "      <td>5.99</td>\n",
       "      <td>209.65</td>\n",
       "      <td>179.70</td>\n",
       "    </tr>\n",
       "    <tr>\n",
       "      <th>10</th>\n",
       "      <td>Saturday</td>\n",
       "      <td>Espresso</td>\n",
       "      <td>45.0</td>\n",
       "      <td>3.99</td>\n",
       "      <td>179.55</td>\n",
       "      <td>179.55</td>\n",
       "    </tr>\n",
       "    <tr>\n",
       "      <th>11</th>\n",
       "      <td>Saturday</td>\n",
       "      <td>Latte</td>\n",
       "      <td>35.0</td>\n",
       "      <td>5.99</td>\n",
       "      <td>209.65</td>\n",
       "      <td>209.65</td>\n",
       "    </tr>\n",
       "    <tr>\n",
       "      <th>12</th>\n",
       "      <td>Sunday</td>\n",
       "      <td>Espresso</td>\n",
       "      <td>45.0</td>\n",
       "      <td>3.99</td>\n",
       "      <td>179.55</td>\n",
       "      <td>179.55</td>\n",
       "    </tr>\n",
       "    <tr>\n",
       "      <th>13</th>\n",
       "      <td>Sunday</td>\n",
       "      <td>Latte</td>\n",
       "      <td>35.0</td>\n",
       "      <td>5.99</td>\n",
       "      <td>209.65</td>\n",
       "      <td>209.65</td>\n",
       "    </tr>\n",
       "  </tbody>\n",
       "</table>\n",
       "</div>"
      ],
      "text/plain": [
       "          Day Coffee Type  Units Sold  price  revenue  yesterday_revenue\n",
       "0      Monday    Espresso        40.0   3.99    99.75                NaN\n",
       "1      Monday       Latte        40.0   5.99    89.85                NaN\n",
       "2     Tuesday    Espresso        30.0   3.99   119.70              99.75\n",
       "3     Tuesday       Latte        20.0   5.99   119.80              89.85\n",
       "4   Wednesday    Espresso        35.0   3.99   139.65             119.70\n",
       "5   Wednesday       Latte        25.0   5.99   149.75             119.80\n",
       "6    Thursday    Espresso        40.0   3.99   159.60             139.65\n",
       "7    Thursday       Latte        30.0   5.99   179.70             149.75\n",
       "8      Friday    Espresso        45.0   3.99   179.55             159.60\n",
       "9      Friday       Latte        35.0   5.99   209.65             179.70\n",
       "10   Saturday    Espresso        45.0   3.99   179.55             179.55\n",
       "11   Saturday       Latte        35.0   5.99   209.65             209.65\n",
       "12     Sunday    Espresso        45.0   3.99   179.55             179.55\n",
       "13     Sunday       Latte        35.0   5.99   209.65             209.65"
      ]
     },
     "execution_count": 113,
     "metadata": {},
     "output_type": "execute_result"
    }
   ],
   "source": [
    "coffee['yesterday_revenue'] = coffee['revenue'].shift(2)\n",
    "coffee"
   ]
  },
  {
   "cell_type": "markdown",
   "id": "99d7d0b0",
   "metadata": {},
   "source": [
    "# New functionality"
   ]
  },
  {
   "cell_type": "code",
   "execution_count": 2,
   "id": "854e4c05",
   "metadata": {},
   "outputs": [
    {
     "data": {
      "text/plain": [
       "'2.3.0+4.g1dfc98e16a'"
      ]
     },
     "execution_count": 2,
     "metadata": {},
     "output_type": "execute_result"
    }
   ],
   "source": [
    "pd.__version__"
   ]
  },
  {
   "cell_type": "code",
   "execution_count": 3,
   "id": "680361ae",
   "metadata": {},
   "outputs": [],
   "source": [
    "results_numpy = pd.read_csv('./data/results.csv')"
   ]
  },
  {
   "cell_type": "code",
   "execution_count": 4,
   "id": "6d0ede98",
   "metadata": {},
   "outputs": [],
   "source": [
    "# pyarrow\n",
    "results_arrow = pd.read_csv('./data/results.csv', engine='pyarrow', dtype_backend='pyarrow')"
   ]
  },
  {
   "cell_type": "code",
   "execution_count": 5,
   "id": "e4abb22e",
   "metadata": {},
   "outputs": [
    {
     "name": "stdout",
     "output_type": "stream",
     "text": [
      "<class 'pandas.core.frame.DataFrame'>\n",
      "RangeIndex: 308408 entries, 0 to 308407\n",
      "Data columns (total 11 columns):\n",
      " #   Column      Non-Null Count   Dtype  \n",
      "---  ------      --------------   -----  \n",
      " 0   year        305807 non-null  float64\n",
      " 1   type        305807 non-null  object \n",
      " 2   discipline  308407 non-null  object \n",
      " 3   event       308408 non-null  object \n",
      " 4   as          308408 non-null  object \n",
      " 5   athlete_id  308408 non-null  int64  \n",
      " 6   noc         308407 non-null  object \n",
      " 7   team        121714 non-null  object \n",
      " 8   place       283193 non-null  float64\n",
      " 9   tied        308408 non-null  bool   \n",
      " 10  medal       44139 non-null   object \n",
      "dtypes: bool(1), float64(2), int64(1), object(7)\n",
      "memory usage: 23.8+ MB\n"
     ]
    }
   ],
   "source": [
    "results_numpy.info()"
   ]
  },
  {
   "cell_type": "code",
   "execution_count": 6,
   "id": "b350b364",
   "metadata": {},
   "outputs": [
    {
     "name": "stdout",
     "output_type": "stream",
     "text": [
      "<class 'pandas.core.frame.DataFrame'>\n",
      "RangeIndex: 308408 entries, 0 to 308407\n",
      "Data columns (total 11 columns):\n",
      " #   Column      Non-Null Count   Dtype          \n",
      "---  ------      --------------   -----          \n",
      " 0   year        305807 non-null  double[pyarrow]\n",
      " 1   type        305807 non-null  string[pyarrow]\n",
      " 2   discipline  308407 non-null  string[pyarrow]\n",
      " 3   event       308408 non-null  string[pyarrow]\n",
      " 4   as          308408 non-null  string[pyarrow]\n",
      " 5   athlete_id  308408 non-null  int64[pyarrow] \n",
      " 6   noc         308407 non-null  string[pyarrow]\n",
      " 7   team        121714 non-null  string[pyarrow]\n",
      " 8   place       283193 non-null  double[pyarrow]\n",
      " 9   tied        308408 non-null  bool[pyarrow]  \n",
      " 10  medal       44139 non-null   string[pyarrow]\n",
      "dtypes: bool[pyarrow](1), double[pyarrow](2), int64[pyarrow](1), string[pyarrow](7)\n",
      "memory usage: 37.5 MB\n"
     ]
    }
   ],
   "source": [
    "results_arrow.info()"
   ]
  },
  {
   "cell_type": "code",
   "execution_count": null,
   "id": "b5bcbc43",
   "metadata": {},
   "outputs": [
    {
     "name": "stdout",
     "output_type": "stream",
     "text": [
      "Collecting matplotlib\n",
      "  Downloading matplotlib-3.9.4-cp39-cp39-macosx_10_12_x86_64.whl (7.9 MB)\n",
      "\u001b[2K     \u001b[90m━━━━━━━━━━━━━━━━━━━━━━━━━━━━━━━━━━━━━━━━\u001b[0m \u001b[32m7.9/7.9 MB\u001b[0m \u001b[31m30.6 MB/s\u001b[0m eta \u001b[36m0:00:00\u001b[0m00:01\u001b[0m00:01\u001b[0m\n",
      "\u001b[?25hRequirement already satisfied: packaging>=20.0 in ./tutorial/lib/python3.9/site-packages (from matplotlib) (25.0)\n",
      "Collecting pillow>=8\n",
      "  Downloading pillow-11.2.1-cp39-cp39-macosx_10_10_x86_64.whl (3.2 MB)\n",
      "\u001b[2K     \u001b[90m━━━━━━━━━━━━━━━━━━━━━━━━━━━━━━━━━━━━━━━━\u001b[0m \u001b[32m3.2/3.2 MB\u001b[0m \u001b[31m45.4 MB/s\u001b[0m eta \u001b[36m0:00:00\u001b[0ma \u001b[36m0:00:01\u001b[0m\n",
      "\u001b[?25hCollecting importlib-resources>=3.2.0\n",
      "  Downloading importlib_resources-6.5.2-py3-none-any.whl (37 kB)\n",
      "Collecting pyparsing>=2.3.1\n",
      "  Downloading pyparsing-3.2.3-py3-none-any.whl (111 kB)\n",
      "\u001b[2K     \u001b[90m━━━━━━━━━━━━━━━━━━━━━━━━━━━━━━━━━━━━━━\u001b[0m \u001b[32m111.1/111.1 KB\u001b[0m \u001b[31m13.1 MB/s\u001b[0m eta \u001b[36m0:00:00\u001b[0m\n",
      "\u001b[?25hCollecting kiwisolver>=1.3.1\n",
      "  Downloading kiwisolver-1.4.7-cp39-cp39-macosx_10_9_x86_64.whl (65 kB)\n",
      "\u001b[2K     \u001b[90m━━━━━━━━━━━━━━━━━━━━━━━━━━━━━━━━━━━━━━━━\u001b[0m \u001b[32m65.8/65.8 KB\u001b[0m \u001b[31m9.3 MB/s\u001b[0m eta \u001b[36m0:00:00\u001b[0m\n",
      "\u001b[?25hRequirement already satisfied: numpy>=1.23 in ./tutorial/lib/python3.9/site-packages (from matplotlib) (2.0.2)\n",
      "Collecting fonttools>=4.22.0\n",
      "  Downloading fonttools-4.58.4-cp39-cp39-macosx_10_9_x86_64.whl (2.3 MB)\n",
      "\u001b[2K     \u001b[90m━━━━━━━━━━━━━━━━━━━━━━━━━━━━━━━━━━━━━━━━\u001b[0m \u001b[32m2.3/2.3 MB\u001b[0m \u001b[31m47.5 MB/s\u001b[0m eta \u001b[36m0:00:00\u001b[0ma \u001b[36m0:00:01\u001b[0m\n",
      "\u001b[?25hCollecting cycler>=0.10\n",
      "  Downloading cycler-0.12.1-py3-none-any.whl (8.3 kB)\n",
      "Requirement already satisfied: python-dateutil>=2.7 in ./tutorial/lib/python3.9/site-packages (from matplotlib) (2.9.0.post0)\n",
      "Collecting contourpy>=1.0.1\n",
      "  Downloading contourpy-1.3.0-cp39-cp39-macosx_10_9_x86_64.whl (265 kB)\n",
      "\u001b[2K     \u001b[90m━━━━━━━━━━━━━━━━━━━━━━━━━━━━━━━━━━━━━━\u001b[0m \u001b[32m265.5/265.5 KB\u001b[0m \u001b[31m33.9 MB/s\u001b[0m eta \u001b[36m0:00:00\u001b[0m\n",
      "\u001b[?25hRequirement already satisfied: zipp>=3.1.0 in ./tutorial/lib/python3.9/site-packages (from importlib-resources>=3.2.0->matplotlib) (3.23.0)\n",
      "Requirement already satisfied: six>=1.5 in ./tutorial/lib/python3.9/site-packages (from python-dateutil>=2.7->matplotlib) (1.17.0)\n",
      "Installing collected packages: pyparsing, pillow, kiwisolver, importlib-resources, fonttools, cycler, contourpy, matplotlib\n",
      "Successfully installed contourpy-1.3.0 cycler-0.12.1 fonttools-4.58.4 importlib-resources-6.5.2 kiwisolver-1.4.7 matplotlib-3.9.4 pillow-11.2.1 pyparsing-3.2.3\n",
      "\u001b[33mWARNING: You are using pip version 22.0.4; however, version 25.1.1 is available.\n",
      "You should consider upgrading via the '/Users/nealxun/Documents/My_Study/Quick_Learning/complete-pandas-tutorial/tutorial/bin/python -m pip install --upgrade pip' command.\u001b[0m\u001b[33m\n",
      "\u001b[0m"
     ]
    }
   ],
   "source": [
    "# !pip install matplotlib"
   ]
  },
  {
   "cell_type": "code",
   "execution_count": null,
   "id": "3e01ad41",
   "metadata": {},
   "outputs": [
    {
     "name": "stdout",
     "output_type": "stream",
     "text": [
      "Requirement already satisfied: pip in ./tutorial/lib/python3.9/site-packages (22.0.4)\n",
      "Collecting pip\n",
      "  Using cached pip-25.1.1-py3-none-any.whl (1.8 MB)\n",
      "Installing collected packages: pip\n",
      "  Attempting uninstall: pip\n",
      "    Found existing installation: pip 22.0.4\n",
      "    Uninstalling pip-22.0.4:\n",
      "      Successfully uninstalled pip-22.0.4\n",
      "Successfully installed pip-25.1.1\n"
     ]
    }
   ],
   "source": [
    "# !/Users/nealxun/Documents/My_Study/Quick_Learning/complete-pandas-tutorial/tutorial/bin/python -m pip install --upgrade pip"
   ]
  },
  {
   "cell_type": "code",
   "execution_count": 124,
   "id": "dc6fab5b",
   "metadata": {},
   "outputs": [
    {
     "data": {
      "image/png": "[encoded data removed]",
      "text/plain": [
       "<Figure size 1000x600 with 1 Axes>"
      ]
     },
     "metadata": {},
     "output_type": "display_data"
    }
   ],
   "source": [
    "import matplotlib.pyplot as plt\n",
    "\n",
    "# Assuming your DataFrame is named 'bios' and already loaded\n",
    "# First, filter out rows where the height_cm data is missing\n",
    "bios_filtered = bios.dropna(subset=['height_cm'])\n",
    "\n",
    "# Plotting the histogram\n",
    "plt.figure(figsize=(10, 6))\n",
    "plt.hist(bios_filtered['height_cm'], bins=20, color='lightblue', edgecolor='black')\n",
    "\n",
    "plt.title('Distribution of Athlete Heights in Olympics')\n",
    "plt.xlabel('Height in cm')\n",
    "plt.ylabel('Number of Athletes')\n",
    "plt.grid(True)\n",
    "\n",
    "# Using a logarithmic scale for the y-axis if the data spread is wide\n",
    "plt.yscale('log')\n",
    "\n",
    "plt.show()"
   ]
  },
  {
   "cell_type": "code",
   "execution_count": null,
   "id": "6085131f",
   "metadata": {},
   "outputs": [],
   "source": [
    "# !pip install skimpy"
   ]
  },
  {
   "cell_type": "code",
   "execution_count": null,
   "id": "9b3ef610",
   "metadata": {},
   "outputs": [],
   "source": [
    "from skimpy import skim\n",
    "skim(results)"
   ]
  },
  {
   "cell_type": "code",
   "execution_count": null,
   "id": "9a74f96e",
   "metadata": {},
   "outputs": [
    {
     "name": "stdout",
     "output_type": "stream",
     "text": [
      "Requirement already satisfied: pyarrow in ./tutorial/lib/python3.9/site-packages (20.0.0)\n",
      "Note: you may need to restart the kernel to use updated packages.\n"
     ]
    }
   ],
   "source": [
    "# %pip install pyarrow"
   ]
  },
  {
   "cell_type": "code",
   "execution_count": null,
   "id": "d8492979",
   "metadata": {},
   "outputs": [],
   "source": []
  }
 ],
 "metadata": {
  "kernelspec": {
   "display_name": "tutorial",
   "language": "python",
   "name": "python3"
  },
  "language_info": {
   "codemirror_mode": {
    "name": "ipython",
    "version": 3
   },
   "file_extension": ".py",
   "mimetype": "text/x-python",
   "name": "python",
   "nbconvert_exporter": "python",
   "pygments_lexer": "ipython3",
   "version": "3.9.13"
  }
 },
 "nbformat": 4,
 "nbformat_minor": 5
}
